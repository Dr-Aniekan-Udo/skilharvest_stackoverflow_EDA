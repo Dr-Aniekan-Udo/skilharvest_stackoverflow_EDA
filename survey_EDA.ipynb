{
 "cells": [
  {
   "cell_type": "markdown",
   "id": "624a30d5",
   "metadata": {},
   "source": [
    " # 2023 Stack Overflow Developer Survey"
   ]
  },
  {
   "cell_type": "code",
   "execution_count": 2,
   "id": "8b090bd7",
   "metadata": {},
   "outputs": [],
   "source": [
    "# import needed modules for analysis\n",
    "\n",
    "import pandas as pd\n",
    "import numpy as np\n",
    "import matplotlib.pyplot as plt\n",
    "import seaborn as sn\n",
    "import plotly.express as px\n",
    "import sklearn\n",
    "import warnings\n",
    "warnings.filterwarnings(\"ignore\")"
   ]
  },
  {
   "cell_type": "code",
   "execution_count": 3,
   "id": "74233d64",
   "metadata": {},
   "outputs": [],
   "source": [
    "data = pd.read_csv(\"survey_results_public_EDA.csv\")"
   ]
  },
  {
   "cell_type": "code",
   "execution_count": 4,
   "id": "fc682898",
   "metadata": {},
   "outputs": [
    {
     "data": {
      "text/html": [
       "<div>\n",
       "<style scoped>\n",
       "    .dataframe tbody tr th:only-of-type {\n",
       "        vertical-align: middle;\n",
       "    }\n",
       "\n",
       "    .dataframe tbody tr th {\n",
       "        vertical-align: top;\n",
       "    }\n",
       "\n",
       "    .dataframe thead th {\n",
       "        text-align: right;\n",
       "    }\n",
       "</style>\n",
       "<table border=\"1\" class=\"dataframe\">\n",
       "  <thead>\n",
       "    <tr style=\"text-align: right;\">\n",
       "      <th></th>\n",
       "      <th>ResponseId</th>\n",
       "      <th>Q120</th>\n",
       "      <th>MainBranch</th>\n",
       "      <th>Age</th>\n",
       "      <th>Employment</th>\n",
       "      <th>RemoteWork</th>\n",
       "      <th>CodingActivities</th>\n",
       "      <th>EdLevel</th>\n",
       "      <th>LearnCode</th>\n",
       "      <th>LearnCodeOnline</th>\n",
       "      <th>...</th>\n",
       "      <th>Frequency_1</th>\n",
       "      <th>Frequency_2</th>\n",
       "      <th>Frequency_3</th>\n",
       "      <th>TimeSearching</th>\n",
       "      <th>TimeAnswering</th>\n",
       "      <th>ProfessionalTech</th>\n",
       "      <th>Industry</th>\n",
       "      <th>SurveyLength</th>\n",
       "      <th>SurveyEase</th>\n",
       "      <th>ConvertedCompYearly</th>\n",
       "    </tr>\n",
       "  </thead>\n",
       "  <tbody>\n",
       "    <tr>\n",
       "      <th>0</th>\n",
       "      <td>1</td>\n",
       "      <td>I agree</td>\n",
       "      <td>None of these</td>\n",
       "      <td>18-24 years old</td>\n",
       "      <td>NaN</td>\n",
       "      <td>NaN</td>\n",
       "      <td>NaN</td>\n",
       "      <td>NaN</td>\n",
       "      <td>NaN</td>\n",
       "      <td>NaN</td>\n",
       "      <td>...</td>\n",
       "      <td>NaN</td>\n",
       "      <td>NaN</td>\n",
       "      <td>NaN</td>\n",
       "      <td>NaN</td>\n",
       "      <td>NaN</td>\n",
       "      <td>NaN</td>\n",
       "      <td>NaN</td>\n",
       "      <td>NaN</td>\n",
       "      <td>NaN</td>\n",
       "      <td>NaN</td>\n",
       "    </tr>\n",
       "    <tr>\n",
       "      <th>1</th>\n",
       "      <td>2</td>\n",
       "      <td>I agree</td>\n",
       "      <td>I am a developer by profession</td>\n",
       "      <td>25-34 years old</td>\n",
       "      <td>Employed, full-time</td>\n",
       "      <td>Remote</td>\n",
       "      <td>Hobby;Contribute to open-source projects;Boots...</td>\n",
       "      <td>Bachelor’s degree (B.A., B.S., B.Eng., etc.)</td>\n",
       "      <td>Books / Physical media;Colleague;Friend or fam...</td>\n",
       "      <td>Formal documentation provided by the owner of ...</td>\n",
       "      <td>...</td>\n",
       "      <td>1-2 times a week</td>\n",
       "      <td>10+ times a week</td>\n",
       "      <td>Never</td>\n",
       "      <td>15-30 minutes a day</td>\n",
       "      <td>15-30 minutes a day</td>\n",
       "      <td>DevOps function;Microservices;Automated testin...</td>\n",
       "      <td>Information Services, IT, Software Development...</td>\n",
       "      <td>Appropriate in length</td>\n",
       "      <td>Easy</td>\n",
       "      <td>285000.0</td>\n",
       "    </tr>\n",
       "    <tr>\n",
       "      <th>2</th>\n",
       "      <td>3</td>\n",
       "      <td>I agree</td>\n",
       "      <td>I am a developer by profession</td>\n",
       "      <td>45-54 years old</td>\n",
       "      <td>Employed, full-time</td>\n",
       "      <td>Hybrid (some remote, some in-person)</td>\n",
       "      <td>Hobby;Professional development or self-paced l...</td>\n",
       "      <td>Bachelor’s degree (B.A., B.S., B.Eng., etc.)</td>\n",
       "      <td>Books / Physical media;Colleague;On the job tr...</td>\n",
       "      <td>Formal documentation provided by the owner of ...</td>\n",
       "      <td>...</td>\n",
       "      <td>6-10 times a week</td>\n",
       "      <td>6-10 times a week</td>\n",
       "      <td>3-5 times a week</td>\n",
       "      <td>30-60 minutes a day</td>\n",
       "      <td>30-60 minutes a day</td>\n",
       "      <td>DevOps function;Microservices;Automated testin...</td>\n",
       "      <td>Information Services, IT, Software Development...</td>\n",
       "      <td>Appropriate in length</td>\n",
       "      <td>Easy</td>\n",
       "      <td>250000.0</td>\n",
       "    </tr>\n",
       "    <tr>\n",
       "      <th>3</th>\n",
       "      <td>4</td>\n",
       "      <td>I agree</td>\n",
       "      <td>I am a developer by profession</td>\n",
       "      <td>25-34 years old</td>\n",
       "      <td>Employed, full-time</td>\n",
       "      <td>Hybrid (some remote, some in-person)</td>\n",
       "      <td>Hobby</td>\n",
       "      <td>Bachelor’s degree (B.A., B.S., B.Eng., etc.)</td>\n",
       "      <td>Colleague;Friend or family member;Other online...</td>\n",
       "      <td>Formal documentation provided by the owner of ...</td>\n",
       "      <td>...</td>\n",
       "      <td>1-2 times a week</td>\n",
       "      <td>10+ times a week</td>\n",
       "      <td>1-2 times a week</td>\n",
       "      <td>15-30 minutes a day</td>\n",
       "      <td>30-60 minutes a day</td>\n",
       "      <td>Automated testing;Continuous integration (CI) ...</td>\n",
       "      <td>NaN</td>\n",
       "      <td>Appropriate in length</td>\n",
       "      <td>Easy</td>\n",
       "      <td>156000.0</td>\n",
       "    </tr>\n",
       "    <tr>\n",
       "      <th>4</th>\n",
       "      <td>5</td>\n",
       "      <td>I agree</td>\n",
       "      <td>I am a developer by profession</td>\n",
       "      <td>25-34 years old</td>\n",
       "      <td>Employed, full-time;Independent contractor, fr...</td>\n",
       "      <td>Remote</td>\n",
       "      <td>Hobby;Contribute to open-source projects;Profe...</td>\n",
       "      <td>Bachelor’s degree (B.A., B.S., B.Eng., etc.)</td>\n",
       "      <td>Books / Physical media;Online Courses or Certi...</td>\n",
       "      <td>Formal documentation provided by the owner of ...</td>\n",
       "      <td>...</td>\n",
       "      <td>1-2 times a week</td>\n",
       "      <td>1-2 times a week</td>\n",
       "      <td>3-5 times a week</td>\n",
       "      <td>60-120 minutes a day</td>\n",
       "      <td>30-60 minutes a day</td>\n",
       "      <td>Microservices;Automated testing;Observability ...</td>\n",
       "      <td>Other</td>\n",
       "      <td>Appropriate in length</td>\n",
       "      <td>Neither easy nor difficult</td>\n",
       "      <td>23456.0</td>\n",
       "    </tr>\n",
       "  </tbody>\n",
       "</table>\n",
       "<p>5 rows × 84 columns</p>\n",
       "</div>"
      ],
      "text/plain": [
       "   ResponseId     Q120                      MainBranch              Age  \\\n",
       "0           1  I agree                   None of these  18-24 years old   \n",
       "1           2  I agree  I am a developer by profession  25-34 years old   \n",
       "2           3  I agree  I am a developer by profession  45-54 years old   \n",
       "3           4  I agree  I am a developer by profession  25-34 years old   \n",
       "4           5  I agree  I am a developer by profession  25-34 years old   \n",
       "\n",
       "                                          Employment  \\\n",
       "0                                                NaN   \n",
       "1                                Employed, full-time   \n",
       "2                                Employed, full-time   \n",
       "3                                Employed, full-time   \n",
       "4  Employed, full-time;Independent contractor, fr...   \n",
       "\n",
       "                             RemoteWork  \\\n",
       "0                                   NaN   \n",
       "1                                Remote   \n",
       "2  Hybrid (some remote, some in-person)   \n",
       "3  Hybrid (some remote, some in-person)   \n",
       "4                                Remote   \n",
       "\n",
       "                                    CodingActivities  \\\n",
       "0                                                NaN   \n",
       "1  Hobby;Contribute to open-source projects;Boots...   \n",
       "2  Hobby;Professional development or self-paced l...   \n",
       "3                                              Hobby   \n",
       "4  Hobby;Contribute to open-source projects;Profe...   \n",
       "\n",
       "                                        EdLevel  \\\n",
       "0                                           NaN   \n",
       "1  Bachelor’s degree (B.A., B.S., B.Eng., etc.)   \n",
       "2  Bachelor’s degree (B.A., B.S., B.Eng., etc.)   \n",
       "3  Bachelor’s degree (B.A., B.S., B.Eng., etc.)   \n",
       "4  Bachelor’s degree (B.A., B.S., B.Eng., etc.)   \n",
       "\n",
       "                                           LearnCode  \\\n",
       "0                                                NaN   \n",
       "1  Books / Physical media;Colleague;Friend or fam...   \n",
       "2  Books / Physical media;Colleague;On the job tr...   \n",
       "3  Colleague;Friend or family member;Other online...   \n",
       "4  Books / Physical media;Online Courses or Certi...   \n",
       "\n",
       "                                     LearnCodeOnline  ...        Frequency_1  \\\n",
       "0                                                NaN  ...                NaN   \n",
       "1  Formal documentation provided by the owner of ...  ...   1-2 times a week   \n",
       "2  Formal documentation provided by the owner of ...  ...  6-10 times a week   \n",
       "3  Formal documentation provided by the owner of ...  ...   1-2 times a week   \n",
       "4  Formal documentation provided by the owner of ...  ...   1-2 times a week   \n",
       "\n",
       "         Frequency_2       Frequency_3         TimeSearching  \\\n",
       "0                NaN               NaN                   NaN   \n",
       "1   10+ times a week             Never   15-30 minutes a day   \n",
       "2  6-10 times a week  3-5 times a week   30-60 minutes a day   \n",
       "3   10+ times a week  1-2 times a week   15-30 minutes a day   \n",
       "4   1-2 times a week  3-5 times a week  60-120 minutes a day   \n",
       "\n",
       "         TimeAnswering                                   ProfessionalTech  \\\n",
       "0                  NaN                                                NaN   \n",
       "1  15-30 minutes a day  DevOps function;Microservices;Automated testin...   \n",
       "2  30-60 minutes a day  DevOps function;Microservices;Automated testin...   \n",
       "3  30-60 minutes a day  Automated testing;Continuous integration (CI) ...   \n",
       "4  30-60 minutes a day  Microservices;Automated testing;Observability ...   \n",
       "\n",
       "                                            Industry           SurveyLength  \\\n",
       "0                                                NaN                    NaN   \n",
       "1  Information Services, IT, Software Development...  Appropriate in length   \n",
       "2  Information Services, IT, Software Development...  Appropriate in length   \n",
       "3                                                NaN  Appropriate in length   \n",
       "4                                              Other  Appropriate in length   \n",
       "\n",
       "                   SurveyEase ConvertedCompYearly  \n",
       "0                         NaN                 NaN  \n",
       "1                        Easy            285000.0  \n",
       "2                        Easy            250000.0  \n",
       "3                        Easy            156000.0  \n",
       "4  Neither easy nor difficult             23456.0  \n",
       "\n",
       "[5 rows x 84 columns]"
      ]
     },
     "execution_count": 4,
     "metadata": {},
     "output_type": "execute_result"
    }
   ],
   "source": [
    "data.head()"
   ]
  },
  {
   "cell_type": "code",
   "execution_count": 5,
   "id": "fae65b58",
   "metadata": {},
   "outputs": [
    {
     "data": {
      "text/plain": [
       "(89184, 84)"
      ]
     },
     "execution_count": 5,
     "metadata": {},
     "output_type": "execute_result"
    }
   ],
   "source": [
    "data.shape"
   ]
  },
  {
   "cell_type": "code",
   "execution_count": 6,
   "id": "b537e57e",
   "metadata": {},
   "outputs": [
    {
     "data": {
      "text/plain": [
       "Index(['ResponseId', 'Q120', 'MainBranch', 'Age', 'Employment', 'RemoteWork',\n",
       "       'CodingActivities', 'EdLevel', 'LearnCode', 'LearnCodeOnline',\n",
       "       'LearnCodeCoursesCert', 'YearsCode', 'YearsCodePro', 'DevType',\n",
       "       'OrgSize', 'PurchaseInfluence', 'TechList', 'BuyNewTool', 'Country',\n",
       "       'Currency', 'CompTotal', 'LanguageHaveWorkedWith',\n",
       "       'LanguageWantToWorkWith', 'DatabaseHaveWorkedWith',\n",
       "       'DatabaseWantToWorkWith', 'PlatformHaveWorkedWith',\n",
       "       'PlatformWantToWorkWith', 'WebframeHaveWorkedWith',\n",
       "       'WebframeWantToWorkWith', 'MiscTechHaveWorkedWith',\n",
       "       'MiscTechWantToWorkWith', 'ToolsTechHaveWorkedWith',\n",
       "       'ToolsTechWantToWorkWith', 'NEWCollabToolsHaveWorkedWith',\n",
       "       'NEWCollabToolsWantToWorkWith', 'OpSysPersonal use',\n",
       "       'OpSysProfessional use', 'OfficeStackAsyncHaveWorkedWith',\n",
       "       'OfficeStackAsyncWantToWorkWith', 'OfficeStackSyncHaveWorkedWith',\n",
       "       'OfficeStackSyncWantToWorkWith', 'AISearchHaveWorkedWith',\n",
       "       'AISearchWantToWorkWith', 'AIDevHaveWorkedWith', 'AIDevWantToWorkWith',\n",
       "       'NEWSOSites', 'SOVisitFreq', 'SOAccount', 'SOPartFreq', 'SOComm',\n",
       "       'SOAI', 'AISelect', 'AISent', 'AIAcc', 'AIBen',\n",
       "       'AIToolInterested in Using', 'AIToolCurrently Using',\n",
       "       'AIToolNot interested in Using', 'AINextVery different',\n",
       "       'AINextNeither different nor similar', 'AINextSomewhat similar',\n",
       "       'AINextVery similar', 'AINextSomewhat different', 'TBranch', 'ICorPM',\n",
       "       'WorkExp', 'Knowledge_1', 'Knowledge_2', 'Knowledge_3', 'Knowledge_4',\n",
       "       'Knowledge_5', 'Knowledge_6', 'Knowledge_7', 'Knowledge_8',\n",
       "       'Frequency_1', 'Frequency_2', 'Frequency_3', 'TimeSearching',\n",
       "       'TimeAnswering', 'ProfessionalTech', 'Industry', 'SurveyLength',\n",
       "       'SurveyEase', 'ConvertedCompYearly'],\n",
       "      dtype='object')"
      ]
     },
     "execution_count": 6,
     "metadata": {},
     "output_type": "execute_result"
    }
   ],
   "source": [
    "data.columns"
   ]
  },
  {
   "cell_type": "code",
   "execution_count": 7,
   "id": "0c49a641",
   "metadata": {},
   "outputs": [
    {
     "data": {
      "text/plain": [
       "Employment              1286\n",
       "RemoteWork             15374\n",
       "CodingActivities       15420\n",
       "EdLevel                 1211\n",
       "LearnCode               1521\n",
       "                       ...  \n",
       "ProfessionalTech       47401\n",
       "Industry               52410\n",
       "SurveyLength            2699\n",
       "SurveyEase              2630\n",
       "ConvertedCompYearly    41165\n",
       "Length: 80, dtype: int64"
      ]
     },
     "execution_count": 7,
     "metadata": {},
     "output_type": "execute_result"
    }
   ],
   "source": [
    "data.isna().sum()[data.isna().sum() !=0]"
   ]
  },
  {
   "cell_type": "markdown",
   "id": "15533abd",
   "metadata": {},
   "source": [
    "## We have a lot of columns to handle so we will pick a few to see the content and how they are arranged."
   ]
  },
  {
   "cell_type": "code",
   "execution_count": 8,
   "id": "6f037d35",
   "metadata": {},
   "outputs": [
    {
     "data": {
      "text/plain": [
       "0"
      ]
     },
     "execution_count": 8,
     "metadata": {},
     "output_type": "execute_result"
    }
   ],
   "source": [
    "data['ResponseId'].duplicated().sum()\n",
    "\n",
    "# no repetition of id, we assume all the data were collected from different persons."
   ]
  },
  {
   "cell_type": "code",
   "execution_count": 131,
   "id": "16c09a04",
   "metadata": {},
   "outputs": [
    {
     "data": {
      "text/html": [
       "<div>\n",
       "<style scoped>\n",
       "    .dataframe tbody tr th:only-of-type {\n",
       "        vertical-align: middle;\n",
       "    }\n",
       "\n",
       "    .dataframe tbody tr th {\n",
       "        vertical-align: top;\n",
       "    }\n",
       "\n",
       "    .dataframe thead th {\n",
       "        text-align: right;\n",
       "    }\n",
       "</style>\n",
       "<table border=\"1\" class=\"dataframe\">\n",
       "  <thead>\n",
       "    <tr style=\"text-align: right;\">\n",
       "      <th></th>\n",
       "      <th>ResponseId</th>\n",
       "      <th>CompTotal</th>\n",
       "      <th>WorkExp</th>\n",
       "      <th>ConvertedCompYearly</th>\n",
       "    </tr>\n",
       "  </thead>\n",
       "  <tbody>\n",
       "    <tr>\n",
       "      <th>count</th>\n",
       "      <td>89184.000000</td>\n",
       "      <td>4.822500e+04</td>\n",
       "      <td>43579.000000</td>\n",
       "      <td>4.801900e+04</td>\n",
       "    </tr>\n",
       "    <tr>\n",
       "      <th>mean</th>\n",
       "      <td>44592.500000</td>\n",
       "      <td>1.036807e+42</td>\n",
       "      <td>11.405126</td>\n",
       "      <td>1.031101e+05</td>\n",
       "    </tr>\n",
       "    <tr>\n",
       "      <th>std</th>\n",
       "      <td>25745.347541</td>\n",
       "      <td>2.276847e+44</td>\n",
       "      <td>9.051989</td>\n",
       "      <td>6.814188e+05</td>\n",
       "    </tr>\n",
       "    <tr>\n",
       "      <th>min</th>\n",
       "      <td>1.000000</td>\n",
       "      <td>0.000000e+00</td>\n",
       "      <td>0.000000</td>\n",
       "      <td>1.000000e+00</td>\n",
       "    </tr>\n",
       "    <tr>\n",
       "      <th>25%</th>\n",
       "      <td>22296.750000</td>\n",
       "      <td>6.300000e+04</td>\n",
       "      <td>5.000000</td>\n",
       "      <td>4.390700e+04</td>\n",
       "    </tr>\n",
       "    <tr>\n",
       "      <th>50%</th>\n",
       "      <td>44592.500000</td>\n",
       "      <td>1.150000e+05</td>\n",
       "      <td>9.000000</td>\n",
       "      <td>7.496300e+04</td>\n",
       "    </tr>\n",
       "    <tr>\n",
       "      <th>75%</th>\n",
       "      <td>66888.250000</td>\n",
       "      <td>2.300000e+05</td>\n",
       "      <td>16.000000</td>\n",
       "      <td>1.216410e+05</td>\n",
       "    </tr>\n",
       "    <tr>\n",
       "      <th>max</th>\n",
       "      <td>89184.000000</td>\n",
       "      <td>5.000000e+46</td>\n",
       "      <td>50.000000</td>\n",
       "      <td>7.435143e+07</td>\n",
       "    </tr>\n",
       "  </tbody>\n",
       "</table>\n",
       "</div>"
      ],
      "text/plain": [
       "         ResponseId     CompTotal       WorkExp  ConvertedCompYearly\n",
       "count  89184.000000  4.822500e+04  43579.000000         4.801900e+04\n",
       "mean   44592.500000  1.036807e+42     11.405126         1.031101e+05\n",
       "std    25745.347541  2.276847e+44      9.051989         6.814188e+05\n",
       "min        1.000000  0.000000e+00      0.000000         1.000000e+00\n",
       "25%    22296.750000  6.300000e+04      5.000000         4.390700e+04\n",
       "50%    44592.500000  1.150000e+05      9.000000         7.496300e+04\n",
       "75%    66888.250000  2.300000e+05     16.000000         1.216410e+05\n",
       "max    89184.000000  5.000000e+46     50.000000         7.435143e+07"
      ]
     },
     "execution_count": 131,
     "metadata": {},
     "output_type": "execute_result"
    }
   ],
   "source": [
    "data.describe()"
   ]
  },
  {
   "cell_type": "code",
   "execution_count": null,
   "id": "32e8aab9",
   "metadata": {},
   "outputs": [],
   "source": []
  },
  {
   "cell_type": "code",
   "execution_count": 9,
   "id": "600a7a10",
   "metadata": {},
   "outputs": [
    {
     "data": {
      "text/plain": [
       "'I agree'"
      ]
     },
     "execution_count": 9,
     "metadata": {},
     "output_type": "execute_result"
    }
   ],
   "source": [
    "# The concern to use this survey answers was given by all participants\n",
    "data['Q120'].unique()[0]"
   ]
  },
  {
   "cell_type": "code",
   "execution_count": 10,
   "id": "7b6fcfc7",
   "metadata": {},
   "outputs": [
    {
     "data": {
      "text/html": [
       "<div>\n",
       "<style scoped>\n",
       "    .dataframe tbody tr th:only-of-type {\n",
       "        vertical-align: middle;\n",
       "    }\n",
       "\n",
       "    .dataframe tbody tr th {\n",
       "        vertical-align: top;\n",
       "    }\n",
       "\n",
       "    .dataframe thead th {\n",
       "        text-align: right;\n",
       "    }\n",
       "</style>\n",
       "<table border=\"1\" class=\"dataframe\">\n",
       "  <thead>\n",
       "    <tr style=\"text-align: right;\">\n",
       "      <th></th>\n",
       "      <th>count</th>\n",
       "    </tr>\n",
       "    <tr>\n",
       "      <th>MainBranch</th>\n",
       "      <th></th>\n",
       "    </tr>\n",
       "  </thead>\n",
       "  <tbody>\n",
       "    <tr>\n",
       "      <th>I am a developer by profession</th>\n",
       "      <td>67237</td>\n",
       "    </tr>\n",
       "    <tr>\n",
       "      <th>I am not primarily a developer, but I write code sometimes as part of my work/studies</th>\n",
       "      <td>8954</td>\n",
       "    </tr>\n",
       "    <tr>\n",
       "      <th>I am learning to code</th>\n",
       "      <td>4961</td>\n",
       "    </tr>\n",
       "    <tr>\n",
       "      <th>I code primarily as a hobby</th>\n",
       "      <td>4960</td>\n",
       "    </tr>\n",
       "    <tr>\n",
       "      <th>I used to be a developer by profession, but no longer am</th>\n",
       "      <td>1861</td>\n",
       "    </tr>\n",
       "    <tr>\n",
       "      <th>None of these</th>\n",
       "      <td>1211</td>\n",
       "    </tr>\n",
       "  </tbody>\n",
       "</table>\n",
       "</div>"
      ],
      "text/plain": [
       "                                                    count\n",
       "MainBranch                                               \n",
       "I am a developer by profession                      67237\n",
       "I am not primarily a developer, but I write cod...   8954\n",
       "I am learning to code                                4961\n",
       "I code primarily as a hobby                          4960\n",
       "I used to be a developer by profession, but no ...   1861\n",
       "None of these                                        1211"
      ]
     },
     "execution_count": 10,
     "metadata": {},
     "output_type": "execute_result"
    }
   ],
   "source": [
    "pd.DataFrame(data['MainBranch'].value_counts())"
   ]
  },
  {
   "cell_type": "code",
   "execution_count": 11,
   "id": "80dda97b",
   "metadata": {},
   "outputs": [
    {
     "data": {
      "text/html": [
       "<div>\n",
       "<style scoped>\n",
       "    .dataframe tbody tr th:only-of-type {\n",
       "        vertical-align: middle;\n",
       "    }\n",
       "\n",
       "    .dataframe tbody tr th {\n",
       "        vertical-align: top;\n",
       "    }\n",
       "\n",
       "    .dataframe thead th {\n",
       "        text-align: right;\n",
       "    }\n",
       "</style>\n",
       "<table border=\"1\" class=\"dataframe\">\n",
       "  <thead>\n",
       "    <tr style=\"text-align: right;\">\n",
       "      <th></th>\n",
       "      <th>count</th>\n",
       "    </tr>\n",
       "    <tr>\n",
       "      <th>Age</th>\n",
       "      <th></th>\n",
       "    </tr>\n",
       "  </thead>\n",
       "  <tbody>\n",
       "    <tr>\n",
       "      <th>25-34 years old</th>\n",
       "      <td>33247</td>\n",
       "    </tr>\n",
       "    <tr>\n",
       "      <th>35-44 years old</th>\n",
       "      <td>20532</td>\n",
       "    </tr>\n",
       "    <tr>\n",
       "      <th>18-24 years old</th>\n",
       "      <td>17931</td>\n",
       "    </tr>\n",
       "    <tr>\n",
       "      <th>45-54 years old</th>\n",
       "      <td>8334</td>\n",
       "    </tr>\n",
       "    <tr>\n",
       "      <th>Under 18 years old</th>\n",
       "      <td>4128</td>\n",
       "    </tr>\n",
       "    <tr>\n",
       "      <th>55-64 years old</th>\n",
       "      <td>3392</td>\n",
       "    </tr>\n",
       "    <tr>\n",
       "      <th>65 years or older</th>\n",
       "      <td>1171</td>\n",
       "    </tr>\n",
       "    <tr>\n",
       "      <th>Prefer not to say</th>\n",
       "      <td>449</td>\n",
       "    </tr>\n",
       "  </tbody>\n",
       "</table>\n",
       "</div>"
      ],
      "text/plain": [
       "                    count\n",
       "Age                      \n",
       "25-34 years old     33247\n",
       "35-44 years old     20532\n",
       "18-24 years old     17931\n",
       "45-54 years old      8334\n",
       "Under 18 years old   4128\n",
       "55-64 years old      3392\n",
       "65 years or older    1171\n",
       "Prefer not to say     449"
      ]
     },
     "execution_count": 11,
     "metadata": {},
     "output_type": "execute_result"
    }
   ],
   "source": [
    "pd.DataFrame(data['Age'].value_counts())"
   ]
  },
  {
   "cell_type": "code",
   "execution_count": null,
   "id": "572a48b3",
   "metadata": {},
   "outputs": [],
   "source": []
  },
  {
   "cell_type": "markdown",
   "id": "c14a6369",
   "metadata": {},
   "source": [
    "## divide columns into related sections"
   ]
  },
  {
   "cell_type": "code",
   "execution_count": 14,
   "id": "ae021470",
   "metadata": {},
   "outputs": [],
   "source": [
    "basic_information = data.columns[1:21]\n",
    "tech_tools = data.columns[21:41]\n",
    "ai_tools = data.columns[41:45]\n",
    "stack_overflow = data.columns[45:51]\n",
    "more_ai = data.columns[51:63]\n",
    "others = data.columns[63:]"
   ]
  },
  {
   "cell_type": "code",
   "execution_count": 15,
   "id": "843c2469",
   "metadata": {},
   "outputs": [],
   "source": [
    "## view the content of each columns"
   ]
  },
  {
   "cell_type": "markdown",
   "id": "0e251f90",
   "metadata": {},
   "source": [
    "## basic_information"
   ]
  },
  {
   "cell_type": "code",
   "execution_count": 16,
   "id": "be88e372",
   "metadata": {},
   "outputs": [
    {
     "name": "stdout",
     "output_type": "stream",
     "text": [
      "         count\n",
      "Q120          \n",
      "I agree  89184\n",
      "                                                    count\n",
      "MainBranch                                               \n",
      "I am a developer by profession                      67237\n",
      "I am not primarily a developer, but I write cod...   8954\n",
      "I am learning to code                                4961\n",
      "I code primarily as a hobby                          4960\n",
      "I used to be a developer by profession, but no ...   1861\n",
      "None of these                                        1211\n",
      "                    count\n",
      "Age                      \n",
      "25-34 years old     33247\n",
      "35-44 years old     20532\n",
      "18-24 years old     17931\n",
      "45-54 years old      8334\n",
      "Under 18 years old   4128\n",
      "55-64 years old      3392\n",
      "65 years or older    1171\n",
      "Prefer not to say     449\n",
      "                                                    count\n",
      "Employment                                               \n",
      "Employed, full-time                                 53748\n",
      "Student, full-time                                   7430\n",
      "Independent contractor, freelancer, or self-emp...   7076\n",
      "Employed, full-time;Independent contractor, fre...   4354\n",
      "Not employed, but looking for work                   2553\n",
      "...                                                   ...\n",
      "Employed, full-time;Independent contractor, fre...      1\n",
      "Employed, full-time;Independent contractor, fre...      1\n",
      "Employed, full-time;Independent contractor, fre...      1\n",
      "Employed, full-time;Independent contractor, fre...      1\n",
      "Employed, full-time;Not employed, but looking f...      1\n",
      "\n",
      "[106 rows x 1 columns]\n",
      "                                      count\n",
      "RemoteWork                                 \n",
      "Hybrid (some remote, some in-person)  31131\n",
      "Remote                                30566\n",
      "In-person                             12113\n",
      "                                                    count\n",
      "CodingActivities                                         \n",
      "Hobby                                               15308\n",
      "I don’t code outside of work                         8809\n",
      "Hobby;Professional development or self-paced le...   8232\n",
      "Hobby;Contribute to open-source projects             5363\n",
      "Professional development or self-paced learning...   3920\n",
      "...                                                   ...\n",
      "Hobby;Bootstrapping a business;Freelance/contra...      1\n",
      "Contribute to open-source projects;Professional...      1\n",
      "Hobby;Contribute to open-source projects;Bootst...      1\n",
      "Hobby;Contribute to open-source projects;Bootst...      1\n",
      "Contribute to open-source projects;Bootstrappin...      1\n",
      "\n",
      "[116 rows x 1 columns]\n",
      "                                                    count\n",
      "EdLevel                                                  \n",
      "Bachelor’s degree (B.A., B.S., B.Eng., etc.)        36706\n",
      "Master’s degree (M.A., M.S., M.Eng., MBA, etc.)     20543\n",
      "Some college/university study without earning a...  11753\n",
      "Secondary school (e.g. American high school, Ge...   8897\n",
      "Professional degree (JD, MD, Ph.D, Ed.D, etc.)       3887\n",
      "Associate degree (A.A., A.S., etc.)                  2807\n",
      "Primary/elementary school                            1905\n",
      "Something else                                       1475\n",
      "                                                    count\n",
      "LearnCode                                                \n",
      "Other online resources (e.g., videos, blogs, fo...   4873\n",
      "Books / Physical media;Other online resources (...   3300\n",
      "Other online resources (e.g., videos, blogs, fo...   3070\n",
      "Books / Physical media;Online Courses or Certif...   3024\n",
      "Online Courses or Certification;Other online re...   2871\n",
      "...                                                   ...\n",
      "Colleague;Friend or family member;Hackathons (v...      1\n",
      "Books / Physical media;Colleague;Hackathons (vi...      1\n",
      "Books / Physical media;Hackathons (virtual or i...      1\n",
      "Books / Physical media;Friend or family member;...      1\n",
      "Colleague;Hackathons (virtual or in-person);Cod...      1\n",
      "\n",
      "[790 rows x 1 columns]\n",
      "                                                    count\n",
      "LearnCodeOnline                                          \n",
      "Formal documentation provided by the owner of t...   1182\n",
      "Formal documentation provided by the owner of t...    977\n",
      "Formal documentation provided by the owner of t...    802\n",
      "Formal documentation provided by the owner of t...    770\n",
      "Formal documentation provided by the owner of t...    768\n",
      "...                                                   ...\n",
      "Formal documentation provided by the owner of t...      1\n",
      "Formal documentation provided by the owner of t...      1\n",
      "Formal documentation provided by the owner of t...      1\n",
      "Formal documentation provided by the owner of t...      1\n",
      "Formal documentation provided by the owner of t...      1\n",
      "\n",
      "[7940 rows x 1 columns]\n",
      "                                                 count\n",
      "LearnCodeCoursesCert                                  \n",
      "Udemy                                             7445\n",
      "Other                                             3230\n",
      "Udemy;Coursera                                    2612\n",
      "Udemy;Pluralsight                                 1958\n",
      "Codecademy;Udemy                                  1837\n",
      "...                                                ...\n",
      "Other;edX;Udacity;Skillsoft                          1\n",
      "Other;Pluralsight;Coursera;Skillsoft                 1\n",
      "Other;Codecademy;edX;Pluralsight;Udacity             1\n",
      "Other;Codecademy;Pluralsight;Coursera;Skillsoft      1\n",
      "Other;Codecademy;Pluralsight;Coursera;Udacity        1\n",
      "\n",
      "[210 rows x 1 columns]\n",
      "                    count\n",
      "YearsCode                \n",
      "10                   6521\n",
      "5                    5415\n",
      "6                    4893\n",
      "8                    4879\n",
      "7                    4800\n",
      "4                    4466\n",
      "15                   4336\n",
      "3                    4269\n",
      "20                   4021\n",
      "12                   3471\n",
      "9                    3130\n",
      "2                    2826\n",
      "25                   2685\n",
      "13                   2601\n",
      "11                   2519\n",
      "14                   2278\n",
      "30                   2078\n",
      "16                   1842\n",
      "18                   1690\n",
      "17                   1544\n",
      "23                   1327\n",
      "40                   1302\n",
      "1                    1294\n",
      "22                   1210\n",
      "35                   1118\n",
      "Less than 1 year      968\n",
      "24                    959\n",
      "19                    826\n",
      "21                    761\n",
      "28                    715\n",
      "27                    710\n",
      "26                    706\n",
      "33                    496\n",
      "32                    444\n",
      "38                    428\n",
      "45                    360\n",
      "More than 50 years    353\n",
      "42                    347\n",
      "34                    333\n",
      "29                    324\n",
      "37                    312\n",
      "36                    282\n",
      "31                    272\n",
      "43                    265\n",
      "39                    229\n",
      "41                    227\n",
      "44                    160\n",
      "50                    125\n",
      "46                    101\n",
      "48                     96\n",
      "47                     79\n",
      "49                     42\n",
      "                    count\n",
      "YearsCodePro             \n",
      "5                    4792\n",
      "10                   4594\n",
      "2                    4464\n",
      "3                    4378\n",
      "4                    3970\n",
      "6                    3637\n",
      "7                    3509\n",
      "8                    3462\n",
      "15                   2789\n",
      "1                    2596\n",
      "12                   2398\n",
      "20                   2227\n",
      "9                    2145\n",
      "11                   2013\n",
      "Less than 1 year     1836\n",
      "13                   1690\n",
      "25                   1449\n",
      "16                   1278\n",
      "14                   1256\n",
      "18                   1212\n",
      "17                   1146\n",
      "23                   1112\n",
      "30                    924\n",
      "22                    845\n",
      "24                    686\n",
      "19                    649\n",
      "21                    565\n",
      "27                    490\n",
      "26                    486\n",
      "35                    462\n",
      "28                    417\n",
      "40                    329\n",
      "32                    293\n",
      "33                    264\n",
      "29                    217\n",
      "36                    200\n",
      "31                    187\n",
      "34                    177\n",
      "38                    164\n",
      "37                    150\n",
      "45                    102\n",
      "39                     99\n",
      "More than 50 years     83\n",
      "42                     81\n",
      "41                     79\n",
      "43                     67\n",
      "44                     42\n",
      "46                     33\n",
      "48                     30\n",
      "47                     24\n",
      "50                     24\n",
      "49                     14\n",
      "                                               count\n",
      "DevType                                             \n",
      "Developer, full-stack                          25735\n",
      "Developer, back-end                            13745\n",
      "Developer, front-end                            5071\n",
      "Developer, desktop or enterprise applications   3904\n",
      "Other (please specify):                         3080\n",
      "Developer, mobile                               2597\n",
      "Engineering manager                             2033\n",
      "Student                                         1996\n",
      "Developer, embedded applications or devices     1845\n",
      "Data scientist or machine learning specialist   1588\n",
      "DevOps specialist                               1387\n",
      "Academic researcher                             1354\n",
      "Research & Development role                     1353\n",
      "Senior Executive (C-Suite, VP, etc.)            1332\n",
      "Engineer, data                                  1248\n",
      "Cloud infrastructure engineer                   1036\n",
      "Developer, game or graphics                      866\n",
      "Data or business analyst                         837\n",
      "System administrator                             743\n",
      "Project manager                                  589\n",
      "Developer, QA or test                            586\n",
      "Security professional                            474\n",
      "Product manager                                  446\n",
      "Engineer, site reliability                       427\n",
      "Educator                                         415\n",
      "Scientist                                        351\n",
      "Developer Experience                             326\n",
      "Blockchain                                       323\n",
      "Hardware Engineer                                286\n",
      "Designer                                         281\n",
      "Database administrator                           257\n",
      "Developer Advocate                               212\n",
      "Marketing or sales professional                  149\n",
      "                                                    count\n",
      "OrgSize                                                  \n",
      "20 to 99 employees                                  13380\n",
      "100 to 499 employees                                12218\n",
      "10,000 or more employees                             7929\n",
      "1,000 to 4,999 employees                             7235\n",
      "2 to 9 employees                                     6439\n",
      "10 to 19 employees                                   5254\n",
      "500 to 999 employees                                 4472\n",
      "Just me - I am a freelancer, sole proprietor, etc.   4196\n",
      "5,000 to 9,999 employees                             2677\n",
      "I don’t know                                         1243\n",
      "                                  count\n",
      "PurchaseInfluence                      \n",
      "I have some influence             26805\n",
      "I have little or no influence     22734\n",
      "I have a great deal of influence  15425\n",
      "              count\n",
      "TechList           \n",
      "Investigate   49212\n",
      "Given a list   7935\n",
      "Other          3704\n",
      "                                                    count\n",
      "BuyNewTool                                               \n",
      "Start a free trial;Ask developers I know/work w...  12371\n",
      "Start a free trial;Ask developers I know/work with   7910\n",
      "Start a free trial;Ask developers I know/work w...   6302\n",
      "Start a free trial                                   4712\n",
      "Ask developers I know/work with;Visit developer...   4358\n",
      "...                                                   ...\n",
      "Start a free trial;Other (please specify):;Rese...      1\n",
      "Start a free trial;Other (please specify):;Rese...      1\n",
      "Start a free trial;Other (please specify):;Rese...      1\n",
      "Ask developers I know/work with;Visit developer...      1\n",
      "Ask a generative AI tool;Research companies tha...      1\n",
      "\n",
      "[231 rows x 1 columns]\n",
      "                                                    count\n",
      "Country                                                  \n",
      "United States of America                            18647\n",
      "Germany                                              7328\n",
      "India                                                5625\n",
      "United Kingdom of Great Britain and Northern Ir...   5552\n",
      "Canada                                               3507\n",
      "...                                                   ...\n",
      "Saint Kitts and Nevis                                   1\n",
      "Marshall Islands                                        1\n",
      "Samoa                                                   1\n",
      "Central African Republic                                1\n",
      "San Marino                                              1\n",
      "\n",
      "[185 rows x 1 columns]\n",
      "                           count\n",
      "Currency                        \n",
      "EUR European Euro          17651\n",
      "USD\\tUnited States dollar  16729\n",
      "GBP\\tPound sterling         4473\n",
      "INR\\tIndian rupee           3615\n",
      "CAD\\tCanadian dollar        2647\n",
      "...                          ...\n",
      "SDG\\tSudanese pound            1\n",
      "JEP\\tJersey pound              1\n",
      "KMF\\tComorian franc            1\n",
      "CVE\\tCape Verdean escudo       1\n",
      "SSP\\tSouth Sudanese pound      1\n",
      "\n",
      "[144 rows x 1 columns]\n"
     ]
    },
    {
     "name": "stdout",
     "output_type": "stream",
     "text": [
      "              count\n",
      "CompTotal          \n",
      "1.000000e+05   1355\n",
      "6.000000e+04   1290\n",
      "1.200000e+05   1240\n",
      "1.500000e+05   1150\n",
      "8.000000e+04   1066\n",
      "...             ...\n",
      "1.642800e+06      1\n",
      "1.380910e+05      1\n",
      "2.957000e+04      1\n",
      "4.190000e+05      1\n",
      "3.300000e+09      1\n",
      "\n",
      "[3828 rows x 1 columns]\n"
     ]
    }
   ],
   "source": [
    "for question in basic_information:\n",
    "    print(pd.DataFrame(data[question].value_counts()))"
   ]
  },
  {
   "cell_type": "markdown",
   "id": "37c44ed9",
   "metadata": {},
   "source": [
    "## tools overview"
   ]
  },
  {
   "cell_type": "code",
   "execution_count": 17,
   "id": "001d4c60",
   "metadata": {},
   "outputs": [
    {
     "name": "stdout",
     "output_type": "stream",
     "text": [
      "                                                    count\n",
      "LanguageHaveWorkedWith                                   \n",
      "HTML/CSS;JavaScript;TypeScript                       1487\n",
      "Python                                               1132\n",
      "HTML/CSS;JavaScript                                   735\n",
      "HTML/CSS;JavaScript;PHP;SQL                           718\n",
      "C#                                                    649\n",
      "...                                                   ...\n",
      "Bash/Shell (all shells);C;C#;Java;JavaScript;Pe...      1\n",
      "Assembly;C;JavaScript;MATLAB;SQL                        1\n",
      "C#;Crystal                                              1\n",
      "Bash/Shell (all shells);C;C++;Go;Haskell;HTML/C...      1\n",
      "Bash/Shell (all shells);C#;HTML/CSS;Java;JavaSc...      1\n",
      "\n",
      "[32641 rows x 1 columns]\n",
      "                                                    count\n",
      "LanguageWantToWorkWith                                   \n",
      "Rust                                                 1438\n",
      "Python                                               1182\n",
      "HTML/CSS;JavaScript;TypeScript                       1071\n",
      "C#                                                    736\n",
      "Go                                                    618\n",
      "...                                                   ...\n",
      "C#;Dart;Go;HTML/CSS;Python;R;Swift;TypeScript           1\n",
      "C#;C++;HTML/CSS;Java;Kotlin;Lua;PHP;SQL                 1\n",
      "Bash/Shell (all shells);Dart;HTML/CSS;Python;SQ...      1\n",
      "C#;HTML/CSS;Java;JavaScript;PHP;SQL;VBA;Visual ...      1\n",
      "Assembly;Bash/Shell (all shells);C;C++;HTML/CSS...      1\n",
      "\n",
      "[29602 rows x 1 columns]\n",
      "                                                    count\n",
      "DatabaseHaveWorkedWith                                   \n",
      "PostgreSQL                                           4350\n",
      "Microsoft SQL Server                                 3322\n",
      "MySQL                                                3116\n",
      "SQLite                                               2299\n",
      "MongoDB                                              1663\n",
      "...                                                   ...\n",
      "Cassandra;Elasticsearch;MariaDB;MySQL;PostgreSQ...      1\n",
      "Cassandra;Cockroachdb;Couch DB;Couchbase;Elasti...      1\n",
      "Elasticsearch;IBM DB2;Microsoft SQL Server;MySQ...      1\n",
      "BigQuery;Cloud Firestore;Elasticsearch;MongoDB;...      1\n",
      "Firebird;IBM DB2;MariaDB;Microsoft Access;Micro...      1\n",
      "\n",
      "[11096 rows x 1 columns]\n",
      "                                                    count\n",
      "DatabaseWantToWorkWith                                   \n",
      "PostgreSQL                                           4815\n",
      "Microsoft SQL Server                                 2180\n",
      "SQLite                                               1771\n",
      "MySQL                                                1754\n",
      "PostgreSQL;SQLite                                    1631\n",
      "...                                                   ...\n",
      "Cloud Firestore;Cockroachdb;Dynamodb;Elasticsea...      1\n",
      "Cassandra;Couchbase;Dynamodb;MongoDB;MySQL;Post...      1\n",
      "Cassandra;Cockroachdb;Dynamodb;Elasticsearch;In...      1\n",
      "Dynamodb;Elasticsearch;MariaDB;Snowflake;SQLite         1\n",
      "Cassandra;Cosmos DB;Dynamodb;MariaDB;Microsoft ...      1\n",
      "\n",
      "[10485 rows x 1 columns]\n",
      "                                                    count\n",
      "PlatformHaveWorkedWith                                   \n",
      "Amazon Web Services (AWS)                            9804\n",
      "Microsoft Azure                                      5945\n",
      "Google Cloud                                         2495\n",
      "Amazon Web Services (AWS);Microsoft Azure            2192\n",
      "Amazon Web Services (AWS);Google Cloud               1810\n",
      "...                                                   ...\n",
      "Hetzner;Managed Hosting;Microsoft Azure;Vercel          1\n",
      "Digital Ocean;Firebase;Microsoft Azure;Netlify          1\n",
      "Amazon Web Services (AWS);Cloudflare;Digital Oc...      1\n",
      "Amazon Web Services (AWS);Cloudflare;Firebase;G...      1\n",
      "Amazon Web Services (AWS);Cloudflare;Digital Oc...      1\n",
      "\n",
      "[5920 rows x 1 columns]\n",
      "                                                    count\n",
      "PlatformWantToWorkWith                                   \n",
      "Amazon Web Services (AWS)                            7269\n",
      "Microsoft Azure                                      4239\n",
      "Amazon Web Services (AWS);Microsoft Azure            2023\n",
      "Google Cloud                                         1885\n",
      "Amazon Web Services (AWS);Google Cloud               1695\n",
      "...                                                   ...\n",
      "Digital Ocean;Hetzner;Managed Hosting;OpenShift...      1\n",
      "Cloudflare;Colocation;Digital Ocean;Microsoft A...      1\n",
      "Hetzner;OpenStack;OVH                                   1\n",
      "Google Cloud;OpenStack;Oracle Cloud Infrastruct...      1\n",
      "Amazon Web Services (AWS);Cloudflare;Digital Oc...      1\n",
      "\n",
      "[4963 rows x 1 columns]\n",
      "                                                    count\n",
      "WebframeHaveWorkedWith                                   \n",
      "React                                                2017\n",
      "Spring Boot                                          1479\n",
      "Node.js                                              1452\n",
      "Node.js;React                                        1161\n",
      "Flask                                                1069\n",
      "...                                                   ...\n",
      "ASP.NET;ASP.NET CORE;Express;Flask;jQuery;Sprin...      1\n",
      "Angular;Django;Express;Flask;Next.js;Node.js;Re...      1\n",
      "Blazor;Deno;Solid.js                                    1\n",
      "Nuxt.js;React;Ruby on Rails;Svelte;Vue.js               1\n",
      "Angular;AngularJS;Express;jQuery;Node.js;Nuxt.j...      1\n",
      "\n",
      "[15144 rows x 1 columns]\n",
      "                                                    count\n",
      "WebframeWantToWorkWith                                   \n",
      "React                                                1561\n",
      "Spring Boot                                          1200\n",
      "Node.js                                               973\n",
      "ASP.NET CORE                                          841\n",
      "Svelte                                                840\n",
      "...                                                   ...\n",
      "ASP.NET CORE;Django;Express;FastAPI;NestJS;Next...      1\n",
      "Angular;AngularJS;ASP.NET;ASP.NET CORE;jQuery;L...      1\n",
      "Deno;Next.js;Nuxt.js;Phoenix;Qwik;Svelte;Vue.js         1\n",
      "AngularJS;Flask;Next.js;Node.js;React;Svelte;Vu...      1\n",
      "Angular;ASP.NET;ASP.NET CORE;Blazor;Deno;Node.j...      1\n",
      "\n",
      "[14620 rows x 1 columns]\n",
      "                                                    count\n",
      "MiscTechHaveWorkedWith                                   \n",
      ".NET (5+) ;.NET Framework (1.0 - 4.8)                3854\n",
      ".NET (5+)                                            3663\n",
      "Spring Framework                                     2179\n",
      "Flutter                                              1614\n",
      "React Native                                         1613\n",
      "...                                                   ...\n",
      "Apache Kafka;Electron;Micronaut;RabbitMQ;Spring...      1\n",
      "Flutter;Pandas;Tauri;Torch/PyTorch                      1\n",
      ".NET (5+) ;.NET MAUI;Apache Kafka;Apache Spark;...      1\n",
      "Apache Kafka;Apache Spark;CUDA;Keras;NumPy;Pand...      1\n",
      "Flutter;Opencv;RabbitMQ;Spring Framework;Torch/...      1\n",
      "\n",
      "[10322 rows x 1 columns]\n",
      "                                                    count\n",
      "MiscTechWantToWorkWith                                   \n",
      ".NET (5+)                                            3582\n",
      "Flutter                                              1353\n",
      "Spring Framework                                     1173\n",
      ".NET (5+) ;.NET Framework (1.0 - 4.8)                1079\n",
      "React Native                                          967\n",
      "...                                                   ...\n",
      ".NET (5+) ;Electron;Hugging Face Transformers;K...      1\n",
      "Electron;Micronaut;Pandas;Quarkus;RabbitMQ              1\n",
      "Apache Kafka;CUDA;NumPy;Opencv;TensorFlow;Torch...      1\n",
      ".NET (5+) ;CUDA;MFC;NumPy;Opencv;Torch/PyTorch          1\n",
      "CUDA;Flutter;NumPy;TensorFlow;Torch/PyTorch             1\n",
      "\n",
      "[11775 rows x 1 columns]\n",
      "                                                    count\n",
      "ToolsTechHaveWorkedWith                                  \n",
      "Visual Studio Solution                               1264\n",
      "Docker                                               1200\n",
      "npm                                                  1166\n",
      "Pip                                                   935\n",
      "Maven (build tool)                                    556\n",
      "...                                                   ...\n",
      "Ansible;Cargo;Docker;Homebrew;Kubernetes;Make;P...      1\n",
      "Ansible;Docker;GNU GCC;Homebrew;Kubernetes;Make...      1\n",
      "Ansible;Ant;Chef;Chocolatey;Docker;Gradle;Kuber...      1\n",
      "Ant;Gradle;Make;MSBuild;MSVC                            1\n",
      "Docker;Kubernetes;npm;Podman;Vite                       1\n",
      "\n",
      "[33133 rows x 1 columns]\n",
      "                                                    count\n",
      "ToolsTechWantToWorkWith                                  \n",
      "Docker                                               1331\n",
      "Visual Studio Solution                                960\n",
      "npm                                                   880\n",
      "Cargo                                                 817\n",
      "Docker;Kubernetes                                     667\n",
      "...                                                   ...\n",
      "Bun;Docker;Pip                                          1\n",
      "Ansible;Bun;Chocolatey;Docker;Homebrew;Kubernet...      1\n",
      "Bun;Cargo;GNU GCC;LLVM's Clang;Make;Meson;Ninja...      1\n",
      "Cargo;Docker;GNU GCC;LLVM's Clang;Wasmer                1\n",
      "Ansible;APT;Docker;Kubernetes;npm;Pip;Podman;Te...      1\n",
      "\n",
      "[27456 rows x 1 columns]\n"
     ]
    },
    {
     "name": "stdout",
     "output_type": "stream",
     "text": [
      "                                                    count\n",
      "NEWCollabToolsHaveWorkedWith                             \n",
      "Visual Studio Code                                   8754\n",
      "Visual Studio;Visual Studio Code                     3430\n",
      "Notepad++;Visual Studio;Visual Studio Code           2167\n",
      "IntelliJ IDEA;Visual Studio Code                     1654\n",
      "Vim;Visual Studio Code                               1602\n",
      "...                                                   ...\n",
      "Android Studio;DataGrip;IntelliJ IDEA;Jupyter N...      1\n",
      "Android Studio;CLion;Neovim;Vim;Visual Studio C...      1\n",
      "Android Studio;CLion;Fleet;IntelliJ IDEA;Rider;...      1\n",
      "Emacs;IntelliJ IDEA;IPython;Jupyter Notebook/Ju...      1\n",
      "Eclipse;IntelliJ IDEA;Nano;Notepad++;PyCharm;Vi...      1\n",
      "\n",
      "[21262 rows x 1 columns]\n",
      "                                                    count\n",
      "NEWCollabToolsWantToWorkWith                             \n",
      "Visual Studio Code                                  10193\n",
      "Visual Studio;Visual Studio Code                     3145\n",
      "Neovim                                               2309\n",
      "Notepad++;Visual Studio;Visual Studio Code           1674\n",
      "Vim;Visual Studio Code                               1667\n",
      "...                                                   ...\n",
      "Geany;Vim;Visual Studio                                 1\n",
      "IntelliJ IDEA;Nano;TextMate                             1\n",
      "CLion;Code::Blocks;IntelliJ IDEA;PhpStorm;PyCha...      1\n",
      "Android Studio;IntelliJ IDEA;Notepad++;PhpStorm...      1\n",
      "Goland;IntelliJ IDEA;Nano;Notepad++;PyCharm;Web...      1\n",
      "\n",
      "[13659 rows x 1 columns]\n",
      "                                                    count\n",
      "OpSysPersonal use                                        \n",
      "Windows                                             17688\n",
      "MacOS                                               10022\n",
      "Ubuntu                                               4137\n",
      "Windows;Windows Subsystem for Linux (WSL)            3436\n",
      "Ubuntu;Windows                                       3259\n",
      "...                                                   ...\n",
      "Android;Arch;BSD;Cygwin;Debian;Fedora;Other Lin...      1\n",
      "iOS;iPadOS;MacOS;Other Linux-based;Ubuntu;Other...      1\n",
      "Android;Arch;Debian;iOS;Windows;Windows Subsyst...      1\n",
      "Android;Debian;MacOS;Other (Please Specify):            1\n",
      "Android;ChromeOS;iOS;iPadOS;Other Linux-based;W...      1\n",
      "\n",
      "[3050 rows x 1 columns]\n",
      "                                                    count\n",
      "OpSysProfessional use                                    \n",
      "Windows                                             15943\n",
      "MacOS                                               12928\n",
      "Ubuntu                                               5201\n",
      "Windows;Windows Subsystem for Linux (WSL)            3934\n",
      "Ubuntu;Windows                                       2795\n",
      "...                                                   ...\n",
      "Debian;iOS;iPadOS;MacOS;Red Hat;Windows                 1\n",
      "BSD;Other Linux-based;Red Hat                           1\n",
      "Arch;BSD;ChromeOS;Debian;iOS;iPadOS;MacOS;Red H...      1\n",
      "Android;Arch;BSD;Cygwin;Debian;Fedora;Other Lin...      1\n",
      "BSD;Red Hat;Solaris;Ubuntu;Windows                      1\n",
      "\n",
      "[2470 rows x 1 columns]\n",
      "                                                    count\n",
      "OfficeStackAsyncHaveWorkedWith                           \n",
      "Jira                                                 5810\n",
      "Confluence;Jira                                      5779\n",
      "Markdown File                                        2500\n",
      "Azure Devops                                         2446\n",
      "GitHub Discussions                                   2044\n",
      "...                                                   ...\n",
      "Asana;Azure Devops;Clickup;Confluence;Jira;Miro...      1\n",
      "Azure Devops;Confluence;Jira;Markdown File;Miro...      1\n",
      "Asana;Clickup;GitHub Discussions;Miro;Notion            1\n",
      "Asana;Azure Devops;Jira;Markdown File;Miro;Mond...      1\n",
      "Asana;Confluence;Jira;Markdown File;Miro;Notion...      1\n",
      "\n",
      "[6258 rows x 1 columns]\n",
      "                                                    count\n",
      "OfficeStackAsyncWantToWorkWith                           \n",
      "Jira                                                 4467\n",
      "Markdown File                                        3699\n",
      "Confluence;Jira                                      3630\n",
      "Azure Devops                                         2548\n",
      "GitHub Discussions                                   2255\n",
      "...                                                   ...\n",
      "Airtable;Linear;Monday.com                              1\n",
      "Azure Devops;Notion;Redmine                             1\n",
      "Airtable;Asana;Notion;Shortcut                          1\n",
      "Azure Devops;Jira;Microsoft Planner;Monday.com;...      1\n",
      "Azure Devops;GitHub Discussions;Microsoft Plann...      1\n",
      "\n",
      "[3754 rows x 1 columns]\n",
      "                                                    count\n",
      "OfficeStackSyncHaveWorkedWith                            \n",
      "Microsoft Teams                                      7018\n",
      "Slack;Zoom                                           2631\n",
      "Discord                                              2614\n",
      "Microsoft Teams;Slack                                2309\n",
      "Slack                                                2308\n",
      "...                                                   ...\n",
      "Discord;Google Chat;Google Meet;IRC;Matrix;Micr...      1\n",
      "Discord;Google Chat;Google Meet;IRC;Jitsi;Slack...      1\n",
      "Cisco Webex Teams;Google Chat;Google Meet;Signa...      1\n",
      "Discord;Google Meet;Mattermost;Microsoft Teams;...      1\n",
      "Cisco Webex Teams;Jitsi;Microsoft Teams;Skype;S...      1\n",
      "\n",
      "[6925 rows x 1 columns]\n",
      "                                                    count\n",
      "OfficeStackSyncWantToWorkWith                            \n",
      "Microsoft Teams                                      5790\n",
      "Slack                                                4903\n",
      "Discord                                              4557\n",
      "Google Meet;Slack                                    2770\n",
      "Slack;Zoom                                           2701\n",
      "...                                                   ...\n",
      "Discord;Mattermost;Wire                                 1\n",
      "Discord;Google Meet;IRC;Matrix;Microsoft Teams;...      1\n",
      "Google Meet;Matrix;Signal;Telegram;Zoom;Zulip           1\n",
      "Discord;Google Meet;Jitsi;Slack;Whatsapp;Zoom           1\n",
      "Google Meet;IRC;Matrix;Signal;Whatsapp;Zulip            1\n",
      "\n",
      "[4078 rows x 1 columns]\n"
     ]
    }
   ],
   "source": [
    "for question in tech_tools:\n",
    "    print(pd.DataFrame(data[question].value_counts()))"
   ]
  },
  {
   "cell_type": "markdown",
   "id": "c4ad9822",
   "metadata": {},
   "source": [
    "# ai_tools"
   ]
  },
  {
   "cell_type": "code",
   "execution_count": 18,
   "id": "9ff2f70a",
   "metadata": {},
   "outputs": [
    {
     "name": "stdout",
     "output_type": "stream",
     "text": [
      "                                                    count\n",
      "AISearchHaveWorkedWith                                   \n",
      "ChatGPT                                             32150\n",
      "Bing AI;ChatGPT                                      6537\n",
      "ChatGPT;WolframAlpha                                 3855\n",
      "ChatGPT;Google Bard AI                               2274\n",
      "Bing AI;ChatGPT;Google Bard AI                       1758\n",
      "...                                                   ...\n",
      "ChatGPT;Google Bard AI;Neeva AI;WolframAlpha;Yo...      1\n",
      "Neeva AI;Phind                                          1\n",
      "Bing AI;ChatGPT;Google Bard AI;Neeva AI;Phind;Q...      1\n",
      "Andi;ChatGPT;Google Bard AI;Neeva AI;Phind              1\n",
      "Bing AI;ChatGPT;Google Bard AI;Metaphor;Neeva A...      1\n",
      "\n",
      "[323 rows x 1 columns]\n",
      "                                                    count\n",
      "AISearchWantToWorkWith                                   \n",
      "ChatGPT                                             21609\n",
      "ChatGPT;Google Bard AI                               4269\n",
      "Bing AI;ChatGPT                                      4213\n",
      "Bing AI;ChatGPT;Google Bard AI                       3374\n",
      "ChatGPT;WolframAlpha                                 2573\n",
      "...                                                   ...\n",
      "Andi;ChatGPT;Google Bard AI;Metaphor;WolframAlpha       1\n",
      "ChatGPT;Neeva AI;Quora Poe;WolframAlpha;You.com         1\n",
      "Neeva AI;Perplexity AI                                  1\n",
      "Bing AI;ChatGPT;Neeva AI;Perplexity AI;Phind            1\n",
      "Bing AI;ChatGPT;Google Bard AI;Neeva AI;Perplex...      1\n",
      "\n",
      "[399 rows x 1 columns]\n",
      "                                                    count\n",
      "AIDevHaveWorkedWith                                      \n",
      "GitHub Copilot                                      17754\n",
      "GitHub Copilot;Tabnine                               2248\n",
      "Tabnine                                              2160\n",
      "AWS CodeWhisperer;GitHub Copilot                      813\n",
      "AWS CodeWhisperer                                     674\n",
      "...                                                   ...\n",
      "Rubber Duck.AI;Whispr AI                                1\n",
      "Adrenaline;Codeium;GitHub Copilot                       1\n",
      "GitHub Copilot;Mintlify;Synk Code                       1\n",
      "AWS CodeWhisperer;Codeium;GitHub Copilot;Tabnin...      1\n",
      "AWS CodeWhisperer;Codeium;GitHub Copilot;Mintli...      1\n",
      "\n",
      "[166 rows x 1 columns]\n",
      "                                                    count\n",
      "AIDevWantToWorkWith                                      \n",
      "GitHub Copilot                                      13426\n",
      "AWS CodeWhisperer;GitHub Copilot                     1463\n",
      "Tabnine                                               804\n",
      "GitHub Copilot;Tabnine                                751\n",
      "AWS CodeWhisperer                                     657\n",
      "...                                                   ...\n",
      "GitHub Copilot;Replit Ghostwriter;Rubber Duck.A...      1\n",
      "Adrenaline;Mintlify;Tabnine                             1\n",
      "AWS CodeWhisperer;GitHub Copilot;Replit Ghostwr...      1\n",
      "Adrenaline;Tabnine                                      1\n",
      "Adrenaline;Codeium;GitHub Copilot;Rubber Duck.A...      1\n",
      "\n",
      "[233 rows x 1 columns]\n"
     ]
    }
   ],
   "source": [
    "for question in ai_tools:\n",
    "    print(pd.DataFrame(data[question].value_counts()))"
   ]
  },
  {
   "cell_type": "markdown",
   "id": "65c0d160",
   "metadata": {},
   "source": [
    "## stack_overflow"
   ]
  },
  {
   "cell_type": "code",
   "execution_count": 19,
   "id": "f16a716c",
   "metadata": {},
   "outputs": [
    {
     "name": "stdout",
     "output_type": "stream",
     "text": [
      "                                                    count\n",
      "NEWSOSites                                               \n",
      "Stack Overflow;Stack Exchange                       51270\n",
      "Stack Overflow                                      25606\n",
      "Stack Overflow;Stack Exchange;Collectives on St...   4119\n",
      "Stack Overflow;Stack Exchange;Stack Overflow fo...   2239\n",
      "Stack Overflow;Collectives on Stack Overflow         1045\n",
      "Stack Overflow;Stack Exchange;Stack Overflow fo...   1028\n",
      "Stack Overflow;Stack Overflow for Teams (privat...    759\n",
      "I have never visited Stack Overflow or the Stac...    611\n",
      "Collectives on Stack Overflow                         585\n",
      "Stack Exchange                                        259\n",
      "Stack Overflow;Stack Overflow for Teams (privat...    173\n",
      "Stack Overflow for Teams (private knowledge sha...    119\n",
      "Stack Exchange;Collectives on Stack Overflow           81\n",
      "Stack Overflow for Teams (private knowledge sha...     46\n",
      "Stack Exchange;Stack Overflow for Teams (privat...     19\n",
      "Stack Exchange;Stack Overflow for Teams (privat...     14\n",
      "                                     count\n",
      "SOVisitFreq                               \n",
      "A few times per week                 28085\n",
      "Daily or almost daily                22124\n",
      "A few times per month or weekly      20312\n",
      "Multiple times per day               11952\n",
      "Less than once per month or monthly   4667\n",
      "                         count\n",
      "SOAccount                     \n",
      "Yes                      66282\n",
      "No                       14618\n",
      "Not sure/can't remember   6952\n",
      "                                                    count\n",
      "SOPartFreq                                               \n",
      "Less than once per month or monthly                 34661\n",
      "I have never participated in Q&A on Stack Overflow  16961\n",
      "A few times per month or weekly                      9160\n",
      "A few times per week                                 3285\n",
      "Daily or almost daily                                1309\n",
      "Multiple times per day                                685\n",
      "                 count\n",
      "SOComm                \n",
      "No, not really   29100\n",
      "Neutral          19033\n",
      "Yes, somewhat    19026\n",
      "No, not at all   11598\n",
      "Yes, definitely   7996\n",
      "Not sure           939\n",
      "                                                    count\n",
      "SOAI                                                     \n",
      "No opinion                                            210\n",
      "Yes                                                   194\n",
      "Good                                                  154\n",
      "yes                                                   133\n",
      "good                                                  100\n",
      "...                                                   ...\n",
      "using AI to help edit/write questions, consolid...      1\n",
      "It would be nice if the A.I. tried to provide a...      1\n",
      "I believe AI could be helpful in collating data...      1\n",
      "Provide more relevant results based on recency/...      1\n",
      "Define Parameters more detailed. I believe in a...      1\n",
      "\n",
      "[43061 rows x 1 columns]\n"
     ]
    }
   ],
   "source": [
    "for question in stack_overflow:\n",
    "    print(pd.DataFrame(data[question].value_counts()))"
   ]
  },
  {
   "cell_type": "markdown",
   "id": "83f19d64",
   "metadata": {},
   "source": [
    "## more_ai related columns"
   ]
  },
  {
   "cell_type": "code",
   "execution_count": 20,
   "id": "590f2cb4",
   "metadata": {},
   "outputs": [
    {
     "name": "stdout",
     "output_type": "stream",
     "text": [
      "                         count\n",
      "AISelect                      \n",
      "Yes                      39042\n",
      "No, and I don't plan to  26221\n",
      "No, but I plan to soon   22710\n",
      "                  count\n",
      "AISent                 \n",
      "Favorable         29863\n",
      "Very favorable    17050\n",
      "Indifferent       10147\n",
      "Unsure             2471\n",
      "Unfavorable        1698\n",
      "Very unfavorable    272\n",
      "                                                    count\n",
      "AIAcc                                                    \n",
      "Increase productivity;Greater efficiency;Speed ...   6576\n",
      "Increase productivity;Greater efficiency;Speed ...   5252\n",
      "Increase productivity;Greater efficiency             4877\n",
      "Increase productivity;Speed up learning              4349\n",
      "Increase productivity                                3114\n",
      "Increase productivity;Greater efficiency;Speed ...   1860\n",
      "Increase productivity;Greater efficiency;Improv...   1793\n",
      "Speed up learning                                    1566\n",
      "Increase productivity;Speed up learning;Improve...   1449\n",
      "Greater efficiency                                    979\n",
      "Greater efficiency;Speed up learning                  963\n",
      "Increase productivity;Improve accuracy in coding      708\n",
      "Increase productivity;Greater efficiency;Speed ...    462\n",
      "Other (please explain)                                460\n",
      "Speed up learning;Improve accuracy in coding          408\n",
      "Greater efficiency;Speed up learning;Improve ac...    356\n",
      "Greater efficiency;Improve accuracy in coding         256\n",
      "Increase productivity;Speed up learning;Improve...    252\n",
      "Improve accuracy in coding                            247\n",
      "Other (please explain);Increase productivity;Gr...    237\n",
      "Other (please explain);Increase productivity;Sp...    209\n",
      "Other (please explain);Increase productivity;Gr...    206\n",
      "Other (please explain);Increase productivity;Gr...    204\n",
      "Other (please explain);Increase productivity          196\n",
      "Other (please explain);Speed up learning              159\n",
      "Increase productivity;Greater efficiency;Improv...    145\n",
      "Speed up learning;Improve collaboration               130\n",
      "Improve collaboration                                 126\n",
      "Increase productivity;Speed up learning;Improve...    115\n",
      "Increase productivity;Improve collaboration           113\n",
      "Increase productivity;Greater efficiency;Improv...     94\n",
      "Other (please explain);Increase productivity;Gr...     90\n",
      "Other (please explain);Greater efficiency              70\n",
      "Greater efficiency;Speed up learning;Improve co...     59\n",
      "Greater efficiency;Improve collaboration               58\n",
      "Other (please explain);Increase productivity;Gr...     53\n",
      "Other (please explain);Greater efficiency;Speed...     47\n",
      "Speed up learning;Improve accuracy in coding;Im...     46\n",
      "Increase productivity;Improve accuracy in codin...     43\n",
      "Other (please explain);Increase productivity;Sp...     41\n",
      "Greater efficiency;Speed up learning;Improve ac...     28\n",
      "Other (please explain);Speed up learning;Improv...     26\n",
      "Other (please explain);Improve accuracy in coding      24\n",
      "Improve accuracy in coding;Improve collaboration       22\n",
      "Other (please explain);Increase productivity;Im...     22\n",
      "Other (please explain);Increase productivity;Gr...     18\n",
      "Greater efficiency;Improve accuracy in coding;I...     17\n",
      "Other (please explain);Greater efficiency;Speed...     14\n",
      "Other (please explain);Greater efficiency;Impro...     12\n",
      "Other (please explain);Increase productivity;Sp...     11\n",
      "Other (please explain);Increase productivity;Gr...      9\n",
      "Other (please explain);Increase productivity;Im...      5\n",
      "Other (please explain);Improve collaboration            4\n",
      "Other (please explain);Increase productivity;Sp...      4\n",
      "Other (please explain);Speed up learning;Improv...      3\n",
      "Other (please explain);Greater efficiency;Speed...      2\n",
      "Other (please explain);Speed up learning;Improv...      2\n",
      "Other (please explain);Greater efficiency;Impro...      1\n",
      "Other (please explain);Increase productivity;Im...      1\n",
      "Other (please explain);Increase productivity;Gr...      1\n",
      "                            count\n",
      "AIBen                            \n",
      "Somewhat trust              24128\n",
      "Neither trust nor distrust  18837\n",
      "Somewhat distrust           13330\n",
      "Highly distrust              3350\n",
      "Highly trust                 1751\n",
      "                                                    count\n",
      "AIToolInterested in Using                                \n",
      "Learning about a codebase;Project planning;Writ...   1252\n",
      "Learning about a codebase;Project planning;Docu...    742\n",
      "Learning about a codebase                             624\n",
      "Documenting code                                      610\n",
      "Learning about a codebase;Project planning;Docu...    476\n",
      "...                                                   ...\n",
      "Learning about a codebase;Project planning;Test...      1\n",
      "Documenting code;Testing code;Committing and re...      1\n",
      "Learning about a codebase;Project planning;Debu...      1\n",
      "Learning about a codebase;Writing code;Debuggin...      1\n",
      "Learning about a codebase;Project planning;Writ...      1\n",
      "\n",
      "[640 rows x 1 columns]\n",
      "                                                    count\n",
      "AIToolCurrently Using                                    \n",
      "Writing code                                         6459\n",
      "Writing code;Debugging and getting help              3741\n",
      "Writing code;Documenting code                        2363\n",
      "Learning about a codebase;Writing code;Debuggin...   1673\n",
      "Writing code;Documenting code;Debugging and get...   1528\n",
      "...                                                   ...\n",
      "Learning about a codebase;Project planning;Docu...      1\n",
      "Project planning;Documenting code;Debugging and...      1\n",
      "Project planning;Writing code;Documenting code;...      1\n",
      "Project planning;Writing code;Testing code;Depl...      1\n",
      "Learning about a codebase;Documenting code;Debu...      1\n",
      "\n",
      "[533 rows x 1 columns]\n",
      "                                                    count\n",
      "AIToolNot interested in Using                            \n",
      "Collaborating with teammates                         2087\n",
      "Project planning                                     1397\n",
      "Project planning;Collaborating with teammates        1297\n",
      "Deployment and monitoring;Collaborating with te...   1039\n",
      "Project planning;Deployment and monitoring;Coll...    986\n",
      "...                                                   ...\n",
      "Learning about a codebase;Writing code;Testing ...      1\n",
      "Learning about a codebase;Project planning;Writ...      1\n",
      "Documenting code;Testing code;Committing and re...      1\n",
      "Writing code;Testing code;Committing and review...      1\n",
      "Learning about a codebase;Project planning;Writ...      1\n",
      "\n",
      "[535 rows x 1 columns]\n",
      "                                                    count\n",
      "AINextVery different                                     \n",
      "Writing code                                         1563\n",
      "Debugging and getting help                           1331\n",
      "Documenting code                                     1187\n",
      "Writing code;Debugging and getting help               798\n",
      "Learning about a codebase                             750\n",
      "...                                                   ...\n",
      "Documenting code;Debugging and getting help;Com...      1\n",
      "Documenting code;Testing code;Deployment and mo...      1\n",
      "Writing code;Documenting code;Debugging and get...      1\n",
      "Learning about a codebase;Project planning;Writ...      1\n",
      "Project planning;Debugging and getting help;Tes...      1\n",
      "\n",
      "[349 rows x 1 columns]\n",
      "                                                    count\n",
      "AINextNeither different nor similar                      \n",
      "Writing code                                         1855\n",
      "Debugging and getting help                            772\n",
      "Learning about a codebase                             553\n",
      "Documenting code                                      455\n",
      "Project planning                                      331\n",
      "...                                                   ...\n",
      "Learning about a codebase;Writing code;Document...      1\n",
      "Learning about a codebase;Project planning;Writ...      1\n",
      "Learning about a codebase;Project planning;Test...      1\n",
      "Writing code;Testing code;Committing and review...      1\n",
      "Project planning;Documenting code;Debugging and...      1\n",
      "\n",
      "[222 rows x 1 columns]\n",
      "                                                    count\n",
      "AINextSomewhat similar                                   \n",
      "Writing code                                         2222\n",
      "Debugging and getting help                            517\n",
      "Learning about a codebase                             398\n",
      "Writing code;Debugging and getting help               361\n",
      "Writing code;Documenting code                         301\n",
      "...                                                   ...\n",
      "Learning about a codebase;Project planning;Comm...      1\n",
      "Project planning;Debugging and getting help;Tes...      1\n",
      "Writing code;Documenting code;Debugging and get...      1\n",
      "Project planning;Writing code;Documenting code;...      1\n",
      "Project planning;Writing code;Documenting code;...      1\n",
      "\n",
      "[197 rows x 1 columns]\n",
      "                                                    count\n",
      "AINextVery similar                                       \n",
      "Writing code                                          944\n",
      "Debugging and getting help                            188\n",
      "Documenting code                                      126\n",
      "Writing code;Documenting code                         124\n",
      "Learning about a codebase                             124\n",
      "...                                                   ...\n",
      "Committing and reviewing code;Deployment and mo...      1\n",
      "Learning about a codebase;Writing code;Document...      1\n",
      "Project planning;Documenting code;Debugging and...      1\n",
      "Learning about a codebase;Project planning;Docu...      1\n",
      "Learning about a codebase;Writing code;Debuggin...      1\n",
      "\n",
      "[159 rows x 1 columns]\n",
      "                                                    count\n",
      "AINextSomewhat different                                 \n",
      "Writing code                                         6540\n",
      "Writing code;Debugging and getting help              2072\n",
      "Debugging and getting help                           1541\n",
      "Learning about a codebase                            1383\n",
      "Writing code;Documenting code                        1148\n",
      "...                                                   ...\n",
      "Learning about a codebase;Deployment and monito...      1\n",
      "Project planning;Writing code;Documenting code;...      1\n",
      "Learning about a codebase;Project planning;Writ...      1\n",
      "Learning about a codebase;Project planning;Writ...      1\n",
      "Learning about a codebase;Testing code;Collabor...      1\n",
      "\n",
      "[326 rows x 1 columns]\n"
     ]
    }
   ],
   "source": [
    "for question in more_ai:\n",
    "    print(pd.DataFrame(data[question].value_counts()))"
   ]
  },
  {
   "cell_type": "markdown",
   "id": "ed380c9b",
   "metadata": {},
   "source": [
    "## Other columns"
   ]
  },
  {
   "cell_type": "code",
   "execution_count": 21,
   "id": "ad889dfa",
   "metadata": {},
   "outputs": [
    {
     "name": "stdout",
     "output_type": "stream",
     "text": [
      "         count\n",
      "TBranch       \n",
      "Yes      43872\n",
      "No       21896\n",
      "                        count\n",
      "ICorPM                       \n",
      "Individual contributor  37685\n",
      "People manager           5983\n",
      "         count\n",
      "WorkExp       \n",
      "5.0       3299\n",
      "10.0      3019\n",
      "2.0       2796\n",
      "3.0       2781\n",
      "4.0       2529\n",
      "7.0       2422\n",
      "6.0       2329\n",
      "1.0       2271\n",
      "8.0       2232\n",
      "15.0      2001\n",
      "12.0      1719\n",
      "20.0      1608\n",
      "9.0       1425\n",
      "11.0      1321\n",
      "25.0      1202\n",
      "13.0      1174\n",
      "16.0       875\n",
      "17.0       856\n",
      "14.0       853\n",
      "18.0       774\n",
      "23.0       728\n",
      "30.0       624\n",
      "22.0       538\n",
      "24.0       410\n",
      "19.0       379\n",
      "21.0       374\n",
      "26.0       332\n",
      "27.0       295\n",
      "35.0       292\n",
      "28.0       268\n",
      "0.0        261\n",
      "40.0       177\n",
      "33.0       168\n",
      "32.0       162\n",
      "31.0       131\n",
      "29.0       128\n",
      "36.0       125\n",
      "34.0       106\n",
      "37.0        94\n",
      "38.0        86\n",
      "50.0        77\n",
      "41.0        67\n",
      "45.0        53\n",
      "39.0        45\n",
      "42.0        44\n",
      "43.0        43\n",
      "44.0        27\n",
      "46.0        26\n",
      "47.0        17\n",
      "48.0        12\n",
      "49.0         4\n",
      "                            count\n",
      "Knowledge_1                      \n",
      "Agree                       19812\n",
      "Strongly agree              15502\n",
      "Neither agree nor disagree   3593\n",
      "Disagree                     2603\n",
      "Strongly disagree            1025\n",
      "                            count\n",
      "Knowledge_2                      \n",
      "Agree                       13464\n",
      "Neither agree nor disagree  10636\n",
      "Disagree                     9186\n",
      "Strongly agree               5220\n",
      "Strongly disagree            3164\n",
      "                            count\n",
      "Knowledge_3                      \n",
      "Agree                       16865\n",
      "Neither agree nor disagree  11096\n",
      "Disagree                     7786\n",
      "Strongly agree               4056\n",
      "Strongly disagree            1995\n",
      "                            count\n",
      "Knowledge_4                      \n",
      "Agree                       18978\n",
      "Neither agree nor disagree  10715\n",
      "Disagree                     6029\n",
      "Strongly agree               4756\n",
      "Strongly disagree            1206\n",
      "                            count\n",
      "Knowledge_5                      \n",
      "Agree                       22131\n",
      "Neither agree nor disagree   7579\n",
      "Strongly agree               7235\n",
      "Disagree                     3805\n",
      "Strongly disagree             777\n",
      "                            count\n",
      "Knowledge_6                      \n",
      "Agree                       15171\n",
      "Neither agree nor disagree  11353\n",
      "Disagree                     8576\n",
      "Strongly agree               5128\n",
      "Strongly disagree            1292\n",
      "                            count\n",
      "Knowledge_7                      \n",
      "Agree                       15659\n",
      "Neither agree nor disagree   9938\n",
      "Disagree                     7843\n",
      "Strongly agree               6501\n",
      "Strongly disagree            1526\n",
      "                            count\n",
      "Knowledge_8                      \n",
      "Agree                       16430\n",
      "Neither agree nor disagree  10958\n",
      "Disagree                     7007\n",
      "Strongly agree               4606\n",
      "Strongly disagree            2403\n",
      "                   count\n",
      "Frequency_1             \n",
      "1-2 times a week   25528\n",
      "Never              10707\n",
      "3-5 times a week    4100\n",
      "6-10 times a week    847\n",
      "10+ times a week     734\n",
      "                   count\n",
      "Frequency_2             \n",
      "1-2 times a week   18930\n",
      "3-5 times a week    9809\n",
      "10+ times a week    4794\n",
      "6-10 times a week   4383\n",
      "Never               4009\n",
      "                   count\n",
      "Frequency_3             \n",
      "1-2 times a week   21470\n",
      "Never              12107\n",
      "3-5 times a week    5125\n",
      "6-10 times a week   1280\n",
      "10+ times a week    1072\n",
      "                            count\n",
      "TimeSearching                    \n",
      "30-60 minutes a day         16338\n",
      "15-30 minutes a day         11773\n",
      "60-120 minutes a day         7626\n",
      "Less than 15 minutes a day   3959\n",
      "Over 120 minutes a day       3082\n",
      "                            count\n",
      "TimeAnswering                    \n",
      "15-30 minutes a day         13678\n",
      "30-60 minutes a day         13013\n",
      "Less than 15 minutes a day   8321\n",
      "60-120 minutes a day         5674\n",
      "Over 120 minutes a day       1943\n",
      "                                                    count\n",
      "ProfessionalTech                                         \n",
      "None of these                                        4871\n",
      "DevOps function;Microservices;Automated testing...   2618\n",
      "DevOps function;Microservices;Automated testing...   2271\n",
      "DevOps function;Microservices;Automated testing...   1656\n",
      "DevOps function;Automated testing;Continuous in...   1524\n",
      "...                                                   ...\n",
      "Observability tools;Continuous integration (CI)...      1\n",
      "Automated testing;Observability tools;Innersour...      1\n",
      "Automated testing;Continuous integration (CI) a...      1\n",
      "Microservices;Observability tools;None of these         1\n",
      "DevOps function;Microservices;Automated testing...      1\n",
      "\n",
      "[284 rows x 1 columns]\n",
      "                                                    count\n",
      "Industry                                                 \n",
      "Information Services, IT, Software Development,...  18159\n",
      "Financial Services                                   4421\n",
      "Other                                                4011\n",
      "Manufacturing, Transportation, or Supply Chain       2607\n",
      "Healthcare                                           2216\n",
      "Retail and Consumer Services                         1955\n",
      "Higher Education                                     1242\n",
      "Advertising Services                                  786\n",
      "Insurance                                             707\n",
      "Oil & Gas                                             276\n",
      "Legal Services                                        210\n",
      "Wholesale                                             184\n",
      "                       count\n",
      "SurveyLength                \n",
      "Appropriate in length  65962\n",
      "Too long               18605\n",
      "Too short               1918\n",
      "                            count\n",
      "SurveyEase                       \n",
      "Easy                        54092\n",
      "Neither easy nor difficult  31088\n",
      "Difficult                    1374\n",
      "                     count\n",
      "ConvertedCompYearly       \n",
      "64254.0                784\n",
      "53545.0                615\n",
      "150000.0               585\n",
      "200000.0               558\n",
      "74963.0                557\n",
      "...                    ...\n",
      "31494.0                  1\n",
      "859.0                    1\n",
      "77904.0                  1\n",
      "74917.0                  1\n",
      "16917.0                  1\n",
      "\n",
      "[8784 rows x 1 columns]\n"
     ]
    }
   ],
   "source": [
    "for question in others:\n",
    "    print(pd.DataFrame(data[question].value_counts()))"
   ]
  },
  {
   "cell_type": "code",
   "execution_count": 22,
   "id": "a289bfb3",
   "metadata": {},
   "outputs": [],
   "source": [
    "# let's create a copy of our data\n",
    "d = data.copy()"
   ]
  },
  {
   "cell_type": "code",
   "execution_count": 23,
   "id": "a4352e29",
   "metadata": {},
   "outputs": [
    {
     "data": {
      "text/plain": [
       "ResponseId    0\n",
       "Q120          0\n",
       "MainBranch    0\n",
       "Age           0\n",
       "dtype: int64"
      ]
     },
     "execution_count": 23,
     "metadata": {},
     "output_type": "execute_result"
    }
   ],
   "source": [
    "d.isna().sum()[d.isna().sum()==0]\n",
    "#only four columns do not have null value"
   ]
  },
  {
   "cell_type": "code",
   "execution_count": 24,
   "id": "776df236",
   "metadata": {},
   "outputs": [
    {
     "name": "stdout",
     "output_type": "stream",
     "text": [
      "<class 'pandas.core.frame.DataFrame'>\n",
      "RangeIndex: 89184 entries, 0 to 89183\n",
      "Data columns (total 84 columns):\n",
      " #   Column                               Non-Null Count  Dtype  \n",
      "---  ------                               --------------  -----  \n",
      " 0   ResponseId                           89184 non-null  int64  \n",
      " 1   Q120                                 89184 non-null  object \n",
      " 2   MainBranch                           89184 non-null  object \n",
      " 3   Age                                  89184 non-null  object \n",
      " 4   Employment                           87898 non-null  object \n",
      " 5   RemoteWork                           73810 non-null  object \n",
      " 6   CodingActivities                     73764 non-null  object \n",
      " 7   EdLevel                              87973 non-null  object \n",
      " 8   LearnCode                            87663 non-null  object \n",
      " 9   LearnCodeOnline                      70084 non-null  object \n",
      " 10  LearnCodeCoursesCert                 37076 non-null  object \n",
      " 11  YearsCode                            87435 non-null  object \n",
      " 12  YearsCodePro                         66136 non-null  object \n",
      " 13  DevType                              76872 non-null  object \n",
      " 14  OrgSize                              65043 non-null  object \n",
      " 15  PurchaseInfluence                    64964 non-null  object \n",
      " 16  TechList                             60851 non-null  object \n",
      " 17  BuyNewTool                           83009 non-null  object \n",
      " 18  Country                              87973 non-null  object \n",
      " 19  Currency                             65334 non-null  object \n",
      " 20  CompTotal                            48225 non-null  float64\n",
      " 21  LanguageHaveWorkedWith               87140 non-null  object \n",
      " 22  LanguageWantToWorkWith               80709 non-null  object \n",
      " 23  DatabaseHaveWorkedWith               73435 non-null  object \n",
      " 24  DatabaseWantToWorkWith               60911 non-null  object \n",
      " 25  PlatformHaveWorkedWith               63628 non-null  object \n",
      " 26  PlatformWantToWorkWith               51308 non-null  object \n",
      " 27  WebframeHaveWorkedWith               66938 non-null  object \n",
      " 28  WebframeWantToWorkWith               56741 non-null  object \n",
      " 29  MiscTechHaveWorkedWith               57019 non-null  object \n",
      " 30  MiscTechWantToWorkWith               46848 non-null  object \n",
      " 31  ToolsTechHaveWorkedWith              77884 non-null  object \n",
      " 32  ToolsTechWantToWorkWith              68315 non-null  object \n",
      " 33  NEWCollabToolsHaveWorkedWith         85864 non-null  object \n",
      " 34  NEWCollabToolsWantToWorkWith         76649 non-null  object \n",
      " 35  OpSysPersonal use                    86557 non-null  object \n",
      " 36  OpSysProfessional use                78587 non-null  object \n",
      " 37  OfficeStackAsyncHaveWorkedWith       69090 non-null  object \n",
      " 38  OfficeStackAsyncWantToWorkWith       53743 non-null  object \n",
      " 39  OfficeStackSyncHaveWorkedWith        83439 non-null  object \n",
      " 40  OfficeStackSyncWantToWorkWith        69776 non-null  object \n",
      " 41  AISearchHaveWorkedWith               56328 non-null  object \n",
      " 42  AISearchWantToWorkWith               46150 non-null  object \n",
      " 43  AIDevHaveWorkedWith                  25904 non-null  object \n",
      " 44  AIDevWantToWorkWith                  19587 non-null  object \n",
      " 45  NEWSOSites                           87973 non-null  object \n",
      " 46  SOVisitFreq                          87140 non-null  object \n",
      " 47  SOAccount                            87852 non-null  object \n",
      " 48  SOPartFreq                           66061 non-null  object \n",
      " 49  SOComm                               87692 non-null  object \n",
      " 50  SOAI                                 47858 non-null  object \n",
      " 51  AISelect                             87973 non-null  object \n",
      " 52  AISent                               61501 non-null  object \n",
      " 53  AIAcc                                38594 non-null  object \n",
      " 54  AIBen                                61396 non-null  object \n",
      " 55  AIToolInterested in Using            32783 non-null  object \n",
      " 56  AIToolCurrently Using                36137 non-null  object \n",
      " 57  AIToolNot interested in Using        21069 non-null  object \n",
      " 58  AINextVery different                 12661 non-null  object \n",
      " 59  AINextNeither different nor similar  6599 non-null   object \n",
      " 60  AINextSomewhat similar               6238 non-null   object \n",
      " 61  AINextVery similar                   2621 non-null   object \n",
      " 62  AINextSomewhat different             23303 non-null  object \n",
      " 63  TBranch                              65768 non-null  object \n",
      " 64  ICorPM                               43668 non-null  object \n",
      " 65  WorkExp                              43579 non-null  float64\n",
      " 66  Knowledge_1                          42535 non-null  object \n",
      " 67  Knowledge_2                          41670 non-null  object \n",
      " 68  Knowledge_3                          41798 non-null  object \n",
      " 69  Knowledge_4                          41684 non-null  object \n",
      " 70  Knowledge_5                          41527 non-null  object \n",
      " 71  Knowledge_6                          41520 non-null  object \n",
      " 72  Knowledge_7                          41467 non-null  object \n",
      " 73  Knowledge_8                          41404 non-null  object \n",
      " 74  Frequency_1                          41916 non-null  object \n",
      " 75  Frequency_2                          41925 non-null  object \n",
      " 76  Frequency_3                          41054 non-null  object \n",
      " 77  TimeSearching                        42778 non-null  object \n",
      " 78  TimeAnswering                        42629 non-null  object \n",
      " 79  ProfessionalTech                     41783 non-null  object \n",
      " 80  Industry                             36774 non-null  object \n",
      " 81  SurveyLength                         86485 non-null  object \n",
      " 82  SurveyEase                           86554 non-null  object \n",
      " 83  ConvertedCompYearly                  48019 non-null  float64\n",
      "dtypes: float64(3), int64(1), object(80)\n",
      "memory usage: 57.2+ MB\n"
     ]
    }
   ],
   "source": [
    "#view the columns and their data type\n",
    "d.info()"
   ]
  },
  {
   "cell_type": "code",
   "execution_count": null,
   "id": "ccd6fc28",
   "metadata": {},
   "outputs": [],
   "source": []
  },
  {
   "cell_type": "code",
   "execution_count": 25,
   "id": "8b9a35d6",
   "metadata": {},
   "outputs": [
    {
     "data": {
      "text/html": [
       "<div>\n",
       "<style scoped>\n",
       "    .dataframe tbody tr th:only-of-type {\n",
       "        vertical-align: middle;\n",
       "    }\n",
       "\n",
       "    .dataframe tbody tr th {\n",
       "        vertical-align: top;\n",
       "    }\n",
       "\n",
       "    .dataframe thead th {\n",
       "        text-align: right;\n",
       "    }\n",
       "</style>\n",
       "<table border=\"1\" class=\"dataframe\">\n",
       "  <thead>\n",
       "    <tr style=\"text-align: right;\">\n",
       "      <th></th>\n",
       "      <th>ResponseId</th>\n",
       "      <th>Q120</th>\n",
       "      <th>MainBranch</th>\n",
       "      <th>Age</th>\n",
       "      <th>Employment</th>\n",
       "      <th>RemoteWork</th>\n",
       "      <th>CodingActivities</th>\n",
       "      <th>EdLevel</th>\n",
       "      <th>LearnCode</th>\n",
       "      <th>LearnCodeOnline</th>\n",
       "      <th>...</th>\n",
       "      <th>Frequency_1</th>\n",
       "      <th>Frequency_2</th>\n",
       "      <th>Frequency_3</th>\n",
       "      <th>TimeSearching</th>\n",
       "      <th>TimeAnswering</th>\n",
       "      <th>ProfessionalTech</th>\n",
       "      <th>Industry</th>\n",
       "      <th>SurveyLength</th>\n",
       "      <th>SurveyEase</th>\n",
       "      <th>ConvertedCompYearly</th>\n",
       "    </tr>\n",
       "  </thead>\n",
       "  <tbody>\n",
       "    <tr>\n",
       "      <th>0</th>\n",
       "      <td>1</td>\n",
       "      <td>I agree</td>\n",
       "      <td>None of these</td>\n",
       "      <td>18-24 years old</td>\n",
       "      <td>none</td>\n",
       "      <td>none</td>\n",
       "      <td>none</td>\n",
       "      <td>none</td>\n",
       "      <td>none</td>\n",
       "      <td>none</td>\n",
       "      <td>...</td>\n",
       "      <td>none</td>\n",
       "      <td>none</td>\n",
       "      <td>none</td>\n",
       "      <td>none</td>\n",
       "      <td>none</td>\n",
       "      <td>none</td>\n",
       "      <td>none</td>\n",
       "      <td>none</td>\n",
       "      <td>none</td>\n",
       "      <td>none</td>\n",
       "    </tr>\n",
       "    <tr>\n",
       "      <th>1</th>\n",
       "      <td>2</td>\n",
       "      <td>I agree</td>\n",
       "      <td>I am a developer by profession</td>\n",
       "      <td>25-34 years old</td>\n",
       "      <td>Employed, full-time</td>\n",
       "      <td>Remote</td>\n",
       "      <td>Hobby;Contribute to open-source projects;Boots...</td>\n",
       "      <td>Bachelor’s degree (B.A., B.S., B.Eng., etc.)</td>\n",
       "      <td>Books / Physical media;Colleague;Friend or fam...</td>\n",
       "      <td>Formal documentation provided by the owner of ...</td>\n",
       "      <td>...</td>\n",
       "      <td>1-2 times a week</td>\n",
       "      <td>10+ times a week</td>\n",
       "      <td>Never</td>\n",
       "      <td>15-30 minutes a day</td>\n",
       "      <td>15-30 minutes a day</td>\n",
       "      <td>DevOps function;Microservices;Automated testin...</td>\n",
       "      <td>Information Services, IT, Software Development...</td>\n",
       "      <td>Appropriate in length</td>\n",
       "      <td>Easy</td>\n",
       "      <td>285000.0</td>\n",
       "    </tr>\n",
       "    <tr>\n",
       "      <th>2</th>\n",
       "      <td>3</td>\n",
       "      <td>I agree</td>\n",
       "      <td>I am a developer by profession</td>\n",
       "      <td>45-54 years old</td>\n",
       "      <td>Employed, full-time</td>\n",
       "      <td>Hybrid (some remote, some in-person)</td>\n",
       "      <td>Hobby;Professional development or self-paced l...</td>\n",
       "      <td>Bachelor’s degree (B.A., B.S., B.Eng., etc.)</td>\n",
       "      <td>Books / Physical media;Colleague;On the job tr...</td>\n",
       "      <td>Formal documentation provided by the owner of ...</td>\n",
       "      <td>...</td>\n",
       "      <td>6-10 times a week</td>\n",
       "      <td>6-10 times a week</td>\n",
       "      <td>3-5 times a week</td>\n",
       "      <td>30-60 minutes a day</td>\n",
       "      <td>30-60 minutes a day</td>\n",
       "      <td>DevOps function;Microservices;Automated testin...</td>\n",
       "      <td>Information Services, IT, Software Development...</td>\n",
       "      <td>Appropriate in length</td>\n",
       "      <td>Easy</td>\n",
       "      <td>250000.0</td>\n",
       "    </tr>\n",
       "    <tr>\n",
       "      <th>3</th>\n",
       "      <td>4</td>\n",
       "      <td>I agree</td>\n",
       "      <td>I am a developer by profession</td>\n",
       "      <td>25-34 years old</td>\n",
       "      <td>Employed, full-time</td>\n",
       "      <td>Hybrid (some remote, some in-person)</td>\n",
       "      <td>Hobby</td>\n",
       "      <td>Bachelor’s degree (B.A., B.S., B.Eng., etc.)</td>\n",
       "      <td>Colleague;Friend or family member;Other online...</td>\n",
       "      <td>Formal documentation provided by the owner of ...</td>\n",
       "      <td>...</td>\n",
       "      <td>1-2 times a week</td>\n",
       "      <td>10+ times a week</td>\n",
       "      <td>1-2 times a week</td>\n",
       "      <td>15-30 minutes a day</td>\n",
       "      <td>30-60 minutes a day</td>\n",
       "      <td>Automated testing;Continuous integration (CI) ...</td>\n",
       "      <td>none</td>\n",
       "      <td>Appropriate in length</td>\n",
       "      <td>Easy</td>\n",
       "      <td>156000.0</td>\n",
       "    </tr>\n",
       "    <tr>\n",
       "      <th>4</th>\n",
       "      <td>5</td>\n",
       "      <td>I agree</td>\n",
       "      <td>I am a developer by profession</td>\n",
       "      <td>25-34 years old</td>\n",
       "      <td>Employed, full-time;Independent contractor, fr...</td>\n",
       "      <td>Remote</td>\n",
       "      <td>Hobby;Contribute to open-source projects;Profe...</td>\n",
       "      <td>Bachelor’s degree (B.A., B.S., B.Eng., etc.)</td>\n",
       "      <td>Books / Physical media;Online Courses or Certi...</td>\n",
       "      <td>Formal documentation provided by the owner of ...</td>\n",
       "      <td>...</td>\n",
       "      <td>1-2 times a week</td>\n",
       "      <td>1-2 times a week</td>\n",
       "      <td>3-5 times a week</td>\n",
       "      <td>60-120 minutes a day</td>\n",
       "      <td>30-60 minutes a day</td>\n",
       "      <td>Microservices;Automated testing;Observability ...</td>\n",
       "      <td>Other</td>\n",
       "      <td>Appropriate in length</td>\n",
       "      <td>Neither easy nor difficult</td>\n",
       "      <td>23456.0</td>\n",
       "    </tr>\n",
       "  </tbody>\n",
       "</table>\n",
       "<p>5 rows × 84 columns</p>\n",
       "</div>"
      ],
      "text/plain": [
       "   ResponseId     Q120                      MainBranch              Age  \\\n",
       "0           1  I agree                   None of these  18-24 years old   \n",
       "1           2  I agree  I am a developer by profession  25-34 years old   \n",
       "2           3  I agree  I am a developer by profession  45-54 years old   \n",
       "3           4  I agree  I am a developer by profession  25-34 years old   \n",
       "4           5  I agree  I am a developer by profession  25-34 years old   \n",
       "\n",
       "                                          Employment  \\\n",
       "0                                               none   \n",
       "1                                Employed, full-time   \n",
       "2                                Employed, full-time   \n",
       "3                                Employed, full-time   \n",
       "4  Employed, full-time;Independent contractor, fr...   \n",
       "\n",
       "                             RemoteWork  \\\n",
       "0                                  none   \n",
       "1                                Remote   \n",
       "2  Hybrid (some remote, some in-person)   \n",
       "3  Hybrid (some remote, some in-person)   \n",
       "4                                Remote   \n",
       "\n",
       "                                    CodingActivities  \\\n",
       "0                                               none   \n",
       "1  Hobby;Contribute to open-source projects;Boots...   \n",
       "2  Hobby;Professional development or self-paced l...   \n",
       "3                                              Hobby   \n",
       "4  Hobby;Contribute to open-source projects;Profe...   \n",
       "\n",
       "                                        EdLevel  \\\n",
       "0                                          none   \n",
       "1  Bachelor’s degree (B.A., B.S., B.Eng., etc.)   \n",
       "2  Bachelor’s degree (B.A., B.S., B.Eng., etc.)   \n",
       "3  Bachelor’s degree (B.A., B.S., B.Eng., etc.)   \n",
       "4  Bachelor’s degree (B.A., B.S., B.Eng., etc.)   \n",
       "\n",
       "                                           LearnCode  \\\n",
       "0                                               none   \n",
       "1  Books / Physical media;Colleague;Friend or fam...   \n",
       "2  Books / Physical media;Colleague;On the job tr...   \n",
       "3  Colleague;Friend or family member;Other online...   \n",
       "4  Books / Physical media;Online Courses or Certi...   \n",
       "\n",
       "                                     LearnCodeOnline  ...        Frequency_1  \\\n",
       "0                                               none  ...               none   \n",
       "1  Formal documentation provided by the owner of ...  ...   1-2 times a week   \n",
       "2  Formal documentation provided by the owner of ...  ...  6-10 times a week   \n",
       "3  Formal documentation provided by the owner of ...  ...   1-2 times a week   \n",
       "4  Formal documentation provided by the owner of ...  ...   1-2 times a week   \n",
       "\n",
       "         Frequency_2       Frequency_3         TimeSearching  \\\n",
       "0               none              none                  none   \n",
       "1   10+ times a week             Never   15-30 minutes a day   \n",
       "2  6-10 times a week  3-5 times a week   30-60 minutes a day   \n",
       "3   10+ times a week  1-2 times a week   15-30 minutes a day   \n",
       "4   1-2 times a week  3-5 times a week  60-120 minutes a day   \n",
       "\n",
       "         TimeAnswering                                   ProfessionalTech  \\\n",
       "0                 none                                               none   \n",
       "1  15-30 minutes a day  DevOps function;Microservices;Automated testin...   \n",
       "2  30-60 minutes a day  DevOps function;Microservices;Automated testin...   \n",
       "3  30-60 minutes a day  Automated testing;Continuous integration (CI) ...   \n",
       "4  30-60 minutes a day  Microservices;Automated testing;Observability ...   \n",
       "\n",
       "                                            Industry           SurveyLength  \\\n",
       "0                                               none                   none   \n",
       "1  Information Services, IT, Software Development...  Appropriate in length   \n",
       "2  Information Services, IT, Software Development...  Appropriate in length   \n",
       "3                                               none  Appropriate in length   \n",
       "4                                              Other  Appropriate in length   \n",
       "\n",
       "                   SurveyEase ConvertedCompYearly  \n",
       "0                        none                none  \n",
       "1                        Easy            285000.0  \n",
       "2                        Easy            250000.0  \n",
       "3                        Easy            156000.0  \n",
       "4  Neither easy nor difficult             23456.0  \n",
       "\n",
       "[5 rows x 84 columns]"
      ]
     },
     "execution_count": 25,
     "metadata": {},
     "output_type": "execute_result"
    }
   ],
   "source": [
    "#fill all null value with 'none'\n",
    "d = d.fillna('none')\n",
    "d.head()"
   ]
  },
  {
   "cell_type": "code",
   "execution_count": 267,
   "id": "093bacc5",
   "metadata": {},
   "outputs": [],
   "source": [
    "#rows with more than 40 'none' should be eliminate \n",
    "#since it shows that the participant did not filled up to 44 columns\n",
    "#to achieve that we will use iloc slicing of rows\n",
    "\n",
    "filter = []\n",
    "for i in d.index:    \n",
    "    p = (d.iloc[i,:]=='none').value_counts()[True]\n",
    "    if p >40:\n",
    "        filter.append(i)\n",
    "\n",
    "#d.index returns all index in our dataframe\n",
    "#d.iloc[i,:]=='none' returns all columns that has 'none' for index i\n",
    "#the return value which is True or False (booleans)\n",
    "#With value_counts the count of True and False is returned\n",
    "# with [True] only the count of values are returned\n",
    "#use (d.iloc[0,:]=='none').value_counts() to see what the returned value looks like\n",
    "#use (d.iloc[0,:]=='none').value_counts()[True] to see the returned count stored in p\n",
    "#the index for those that meet the set value were stored in filter"
   ]
  },
  {
   "cell_type": "code",
   "execution_count": 276,
   "id": "6ce3203d",
   "metadata": {},
   "outputs": [
    {
     "data": {
      "text/plain": [
       "0\n",
       "True     80\n",
       "False     4\n",
       "Name: count, dtype: int64"
      ]
     },
     "execution_count": 276,
     "metadata": {},
     "output_type": "execute_result"
    }
   ],
   "source": [
    "(d.iloc[0,:]=='none').value_counts()"
   ]
  },
  {
   "cell_type": "code",
   "execution_count": 268,
   "id": "601417fc",
   "metadata": {},
   "outputs": [
    {
     "data": {
      "text/plain": [
       "[0,\n",
       " 35,\n",
       " 46,\n",
       " 47,\n",
       " 50,\n",
       " 52,\n",
       " 53,\n",
       " 54,\n",
       " 55,\n",
       " 57,\n",
       " 58,\n",
       " 62,\n",
       " 70,\n",
       " 71,\n",
       " 72,\n",
       " 79,\n",
       " 81,\n",
       " 87,\n",
       " 89,\n",
       " 94,\n",
       " 105,\n",
       " 123,\n",
       " 124,\n",
       " 131,\n",
       " 134,\n",
       " 135,\n",
       " 140,\n",
       " 143,\n",
       " 145,\n",
       " 146,\n",
       " 157,\n",
       " 161,\n",
       " 168,\n",
       " 171,\n",
       " 185,\n",
       " 188,\n",
       " 192,\n",
       " 193,\n",
       " 206,\n",
       " 213,\n",
       " 220,\n",
       " 221,\n",
       " 225,\n",
       " 226,\n",
       " 236,\n",
       " 243,\n",
       " 245,\n",
       " 246,\n",
       " 255,\n",
       " 275,\n",
       " 284,\n",
       " 287,\n",
       " 288,\n",
       " 290,\n",
       " 303,\n",
       " 304,\n",
       " 307,\n",
       " 319,\n",
       " 330,\n",
       " 336,\n",
       " 339,\n",
       " 340,\n",
       " 341,\n",
       " 347,\n",
       " 352,\n",
       " 360,\n",
       " 366,\n",
       " 382,\n",
       " 392,\n",
       " 393,\n",
       " 408,\n",
       " 410,\n",
       " 415,\n",
       " 417,\n",
       " 420,\n",
       " 421,\n",
       " 425,\n",
       " 429,\n",
       " 437,\n",
       " 440,\n",
       " 455,\n",
       " 459,\n",
       " 465,\n",
       " 470,\n",
       " 476,\n",
       " 477,\n",
       " 484,\n",
       " 489,\n",
       " 493,\n",
       " 500,\n",
       " 503,\n",
       " 506,\n",
       " 507,\n",
       " 517,\n",
       " 518,\n",
       " 519,\n",
       " 521,\n",
       " 528,\n",
       " 531,\n",
       " 532,\n",
       " 535,\n",
       " 546,\n",
       " 552,\n",
       " 562,\n",
       " 571,\n",
       " 572,\n",
       " 574,\n",
       " 578,\n",
       " 585,\n",
       " 599,\n",
       " 604,\n",
       " 607,\n",
       " 609,\n",
       " 611,\n",
       " 617,\n",
       " 620,\n",
       " 625,\n",
       " 628,\n",
       " 629,\n",
       " 637,\n",
       " 646,\n",
       " 647,\n",
       " 656,\n",
       " 657,\n",
       " 664,\n",
       " 674,\n",
       " 679,\n",
       " 682,\n",
       " 696,\n",
       " 710,\n",
       " 713,\n",
       " 715,\n",
       " 716,\n",
       " 718,\n",
       " 724,\n",
       " 729,\n",
       " 731,\n",
       " 733,\n",
       " 741,\n",
       " 750,\n",
       " 753,\n",
       " 754,\n",
       " 761,\n",
       " 763,\n",
       " 768,\n",
       " 769,\n",
       " 774,\n",
       " 775,\n",
       " 781,\n",
       " 782,\n",
       " 785,\n",
       " 792,\n",
       " 796,\n",
       " 805,\n",
       " 812,\n",
       " 817,\n",
       " 822,\n",
       " 827,\n",
       " 832,\n",
       " 835,\n",
       " 837,\n",
       " 848,\n",
       " 856,\n",
       " 859,\n",
       " 860,\n",
       " 863,\n",
       " 875,\n",
       " 876,\n",
       " 886,\n",
       " 891,\n",
       " 903,\n",
       " 904,\n",
       " 906,\n",
       " 907,\n",
       " 908,\n",
       " 914,\n",
       " 934,\n",
       " 936,\n",
       " 937,\n",
       " 944,\n",
       " 945,\n",
       " 947,\n",
       " 969,\n",
       " 971,\n",
       " 980,\n",
       " 986,\n",
       " 987,\n",
       " 993,\n",
       " 1001,\n",
       " 1002,\n",
       " 1003,\n",
       " 1007,\n",
       " 1014,\n",
       " 1020,\n",
       " 1030,\n",
       " 1039,\n",
       " 1040,\n",
       " 1047,\n",
       " 1048,\n",
       " 1049,\n",
       " 1054,\n",
       " 1065,\n",
       " 1068,\n",
       " 1069,\n",
       " 1072,\n",
       " 1086,\n",
       " 1096,\n",
       " 1100,\n",
       " 1104,\n",
       " 1112,\n",
       " 1126,\n",
       " 1138,\n",
       " 1152,\n",
       " 1164,\n",
       " 1167,\n",
       " 1169,\n",
       " 1171,\n",
       " 1173,\n",
       " 1194,\n",
       " 1195,\n",
       " 1199,\n",
       " 1201,\n",
       " 1208,\n",
       " 1210,\n",
       " 1214,\n",
       " 1218,\n",
       " 1221,\n",
       " 1223,\n",
       " 1226,\n",
       " 1236,\n",
       " 1242,\n",
       " 1246,\n",
       " 1249,\n",
       " 1251,\n",
       " 1260,\n",
       " 1263,\n",
       " 1268,\n",
       " 1277,\n",
       " 1278,\n",
       " 1281,\n",
       " 1289,\n",
       " 1296,\n",
       " 1303,\n",
       " 1306,\n",
       " 1307,\n",
       " 1312,\n",
       " 1314,\n",
       " 1317,\n",
       " 1319,\n",
       " 1333,\n",
       " 1352,\n",
       " 1353,\n",
       " 1365,\n",
       " 1368,\n",
       " 1374,\n",
       " 1375,\n",
       " 1377,\n",
       " 1383,\n",
       " 1386,\n",
       " 1388,\n",
       " 1392,\n",
       " 1401,\n",
       " 1408,\n",
       " 1411,\n",
       " 1415,\n",
       " 1416,\n",
       " 1417,\n",
       " 1422,\n",
       " 1423,\n",
       " 1436,\n",
       " 1437,\n",
       " 1442,\n",
       " 1451,\n",
       " 1458,\n",
       " 1470,\n",
       " 1479,\n",
       " 1487,\n",
       " 1488,\n",
       " 1489,\n",
       " 1490,\n",
       " 1492,\n",
       " 1498,\n",
       " 1500,\n",
       " 1502,\n",
       " 1503,\n",
       " 1517,\n",
       " 1518,\n",
       " 1531,\n",
       " 1538,\n",
       " 1542,\n",
       " 1545,\n",
       " 1546,\n",
       " 1562,\n",
       " 1575,\n",
       " 1576,\n",
       " 1580,\n",
       " 1583,\n",
       " 1588,\n",
       " 1589,\n",
       " 1590,\n",
       " 1591,\n",
       " 1593,\n",
       " 1595,\n",
       " 1596,\n",
       " 1601,\n",
       " 1610,\n",
       " 1611,\n",
       " 1613,\n",
       " 1618,\n",
       " 1619,\n",
       " 1620,\n",
       " 1623,\n",
       " 1636,\n",
       " 1639,\n",
       " 1644,\n",
       " 1651,\n",
       " 1657,\n",
       " 1659,\n",
       " 1660,\n",
       " 1667,\n",
       " 1671,\n",
       " 1675,\n",
       " 1684,\n",
       " 1685,\n",
       " 1692,\n",
       " 1696,\n",
       " 1697,\n",
       " 1703,\n",
       " 1708,\n",
       " 1715,\n",
       " 1722,\n",
       " 1731,\n",
       " 1734,\n",
       " 1735,\n",
       " 1749,\n",
       " 1758,\n",
       " 1762,\n",
       " 1770,\n",
       " 1778,\n",
       " 1779,\n",
       " 1780,\n",
       " 1781,\n",
       " 1782,\n",
       " 1783,\n",
       " 1785,\n",
       " 1786,\n",
       " 1788,\n",
       " 1793,\n",
       " 1796,\n",
       " 1800,\n",
       " 1813,\n",
       " 1815,\n",
       " 1820,\n",
       " 1821,\n",
       " 1829,\n",
       " 1831,\n",
       " 1832,\n",
       " 1837,\n",
       " 1842,\n",
       " 1845,\n",
       " 1854,\n",
       " 1861,\n",
       " 1870,\n",
       " 1871,\n",
       " 1876,\n",
       " 1878,\n",
       " 1880,\n",
       " 1884,\n",
       " 1887,\n",
       " 1888,\n",
       " 1898,\n",
       " 1906,\n",
       " 1909,\n",
       " 1930,\n",
       " 1932,\n",
       " 1937,\n",
       " 1939,\n",
       " 1950,\n",
       " 1952,\n",
       " 1953,\n",
       " 1961,\n",
       " 1971,\n",
       " 1974,\n",
       " 1987,\n",
       " 1988,\n",
       " 1995,\n",
       " 1996,\n",
       " 1997,\n",
       " 1999,\n",
       " 2008,\n",
       " 2009,\n",
       " 2011,\n",
       " 2013,\n",
       " 2016,\n",
       " 2018,\n",
       " 2019,\n",
       " 2021,\n",
       " 2022,\n",
       " 2032,\n",
       " 2048,\n",
       " 2051,\n",
       " 2063,\n",
       " 2065,\n",
       " 2067,\n",
       " 2071,\n",
       " 2072,\n",
       " 2083,\n",
       " 2095,\n",
       " 2097,\n",
       " 2102,\n",
       " 2106,\n",
       " 2107,\n",
       " 2115,\n",
       " 2117,\n",
       " 2120,\n",
       " 2121,\n",
       " 2125,\n",
       " 2127,\n",
       " 2137,\n",
       " 2147,\n",
       " 2151,\n",
       " 2165,\n",
       " 2174,\n",
       " 2188,\n",
       " 2198,\n",
       " 2199,\n",
       " 2223,\n",
       " 2225,\n",
       " 2228,\n",
       " 2229,\n",
       " 2233,\n",
       " 2234,\n",
       " 2242,\n",
       " 2245,\n",
       " 2250,\n",
       " 2265,\n",
       " 2269,\n",
       " 2287,\n",
       " 2290,\n",
       " 2292,\n",
       " 2297,\n",
       " 2300,\n",
       " 2301,\n",
       " 2302,\n",
       " 2307,\n",
       " 2310,\n",
       " 2312,\n",
       " 2318,\n",
       " 2322,\n",
       " 2328,\n",
       " 2329,\n",
       " 2352,\n",
       " 2359,\n",
       " 2361,\n",
       " 2367,\n",
       " 2368,\n",
       " 2369,\n",
       " 2372,\n",
       " 2376,\n",
       " 2380,\n",
       " 2387,\n",
       " 2391,\n",
       " 2394,\n",
       " 2401,\n",
       " 2404,\n",
       " 2406,\n",
       " 2420,\n",
       " 2421,\n",
       " 2428,\n",
       " 2430,\n",
       " 2433,\n",
       " 2434,\n",
       " 2447,\n",
       " 2460,\n",
       " 2470,\n",
       " 2480,\n",
       " 2482,\n",
       " 2488,\n",
       " 2491,\n",
       " 2494,\n",
       " 2499,\n",
       " 2503,\n",
       " 2504,\n",
       " 2514,\n",
       " 2522,\n",
       " 2524,\n",
       " 2526,\n",
       " 2528,\n",
       " 2529,\n",
       " 2531,\n",
       " 2533,\n",
       " 2534,\n",
       " 2562,\n",
       " 2565,\n",
       " 2566,\n",
       " 2567,\n",
       " 2574,\n",
       " 2576,\n",
       " 2582,\n",
       " 2589,\n",
       " 2590,\n",
       " 2591,\n",
       " 2601,\n",
       " 2607,\n",
       " 2612,\n",
       " 2615,\n",
       " 2626,\n",
       " 2633,\n",
       " 2634,\n",
       " 2639,\n",
       " 2643,\n",
       " 2654,\n",
       " 2655,\n",
       " 2658,\n",
       " 2677,\n",
       " 2679,\n",
       " 2686,\n",
       " 2694,\n",
       " 2695,\n",
       " 2696,\n",
       " 2707,\n",
       " 2709,\n",
       " 2713,\n",
       " 2716,\n",
       " 2721,\n",
       " 2722,\n",
       " 2725,\n",
       " 2728,\n",
       " 2731,\n",
       " 2739,\n",
       " 2741,\n",
       " 2743,\n",
       " 2744,\n",
       " 2749,\n",
       " 2756,\n",
       " 2758,\n",
       " 2760,\n",
       " 2781,\n",
       " 2798,\n",
       " 2800,\n",
       " 2802,\n",
       " 2808,\n",
       " 2813,\n",
       " 2814,\n",
       " 2815,\n",
       " 2830,\n",
       " 2831,\n",
       " 2839,\n",
       " 2845,\n",
       " 2852,\n",
       " 2856,\n",
       " 2862,\n",
       " 2867,\n",
       " 2870,\n",
       " 2874,\n",
       " 2875,\n",
       " 2883,\n",
       " 2888,\n",
       " 2891,\n",
       " 2893,\n",
       " 2903,\n",
       " 2908,\n",
       " 2916,\n",
       " 2918,\n",
       " 2922,\n",
       " 2928,\n",
       " 2932,\n",
       " 2935,\n",
       " 2941,\n",
       " 2943,\n",
       " 2945,\n",
       " 2949,\n",
       " 2952,\n",
       " 2953,\n",
       " 2957,\n",
       " 2958,\n",
       " 2961,\n",
       " 2962,\n",
       " 2973,\n",
       " 2983,\n",
       " 3000,\n",
       " 3001,\n",
       " 3003,\n",
       " 3007,\n",
       " 3009,\n",
       " 3016,\n",
       " 3017,\n",
       " 3019,\n",
       " 3026,\n",
       " 3031,\n",
       " 3035,\n",
       " 3036,\n",
       " 3045,\n",
       " 3050,\n",
       " 3066,\n",
       " 3079,\n",
       " 3080,\n",
       " 3084,\n",
       " 3100,\n",
       " 3101,\n",
       " 3103,\n",
       " 3110,\n",
       " 3120,\n",
       " 3122,\n",
       " 3126,\n",
       " 3132,\n",
       " 3138,\n",
       " 3143,\n",
       " 3144,\n",
       " 3149,\n",
       " 3152,\n",
       " 3165,\n",
       " 3168,\n",
       " 3171,\n",
       " 3182,\n",
       " 3186,\n",
       " 3190,\n",
       " 3193,\n",
       " 3199,\n",
       " 3206,\n",
       " 3208,\n",
       " 3214,\n",
       " 3222,\n",
       " 3227,\n",
       " 3239,\n",
       " 3254,\n",
       " 3292,\n",
       " 3293,\n",
       " 3294,\n",
       " 3296,\n",
       " 3310,\n",
       " 3317,\n",
       " 3321,\n",
       " 3330,\n",
       " 3332,\n",
       " 3334,\n",
       " 3335,\n",
       " 3343,\n",
       " 3346,\n",
       " 3350,\n",
       " 3358,\n",
       " 3362,\n",
       " 3364,\n",
       " 3373,\n",
       " 3375,\n",
       " 3381,\n",
       " 3390,\n",
       " 3391,\n",
       " 3392,\n",
       " 3393,\n",
       " 3394,\n",
       " 3396,\n",
       " 3398,\n",
       " 3406,\n",
       " 3411,\n",
       " 3412,\n",
       " 3427,\n",
       " 3436,\n",
       " 3438,\n",
       " 3443,\n",
       " 3444,\n",
       " 3445,\n",
       " 3447,\n",
       " 3456,\n",
       " 3464,\n",
       " 3485,\n",
       " 3488,\n",
       " 3493,\n",
       " 3501,\n",
       " 3502,\n",
       " 3505,\n",
       " 3512,\n",
       " 3514,\n",
       " 3516,\n",
       " 3522,\n",
       " 3534,\n",
       " 3536,\n",
       " 3540,\n",
       " 3542,\n",
       " 3545,\n",
       " 3549,\n",
       " 3551,\n",
       " 3562,\n",
       " 3566,\n",
       " 3567,\n",
       " 3572,\n",
       " 3575,\n",
       " 3589,\n",
       " 3594,\n",
       " 3596,\n",
       " 3600,\n",
       " 3601,\n",
       " 3607,\n",
       " 3614,\n",
       " 3616,\n",
       " 3622,\n",
       " 3625,\n",
       " 3626,\n",
       " 3627,\n",
       " 3631,\n",
       " 3642,\n",
       " 3648,\n",
       " 3660,\n",
       " 3664,\n",
       " 3668,\n",
       " 3669,\n",
       " 3685,\n",
       " 3695,\n",
       " 3704,\n",
       " 3708,\n",
       " 3717,\n",
       " 3722,\n",
       " 3727,\n",
       " 3744,\n",
       " 3747,\n",
       " 3748,\n",
       " 3753,\n",
       " 3756,\n",
       " 3758,\n",
       " 3759,\n",
       " 3764,\n",
       " 3767,\n",
       " 3770,\n",
       " 3775,\n",
       " 3777,\n",
       " 3779,\n",
       " 3781,\n",
       " 3783,\n",
       " 3784,\n",
       " 3791,\n",
       " 3803,\n",
       " 3804,\n",
       " 3807,\n",
       " 3815,\n",
       " 3816,\n",
       " 3820,\n",
       " 3847,\n",
       " 3854,\n",
       " 3859,\n",
       " 3860,\n",
       " 3865,\n",
       " 3875,\n",
       " 3880,\n",
       " 3884,\n",
       " 3890,\n",
       " 3900,\n",
       " 3901,\n",
       " 3902,\n",
       " 3910,\n",
       " 3912,\n",
       " 3919,\n",
       " 3925,\n",
       " 3926,\n",
       " 3939,\n",
       " 3942,\n",
       " 3957,\n",
       " 3962,\n",
       " 3974,\n",
       " 3975,\n",
       " 3984,\n",
       " 3985,\n",
       " 3988,\n",
       " 3999,\n",
       " 4012,\n",
       " 4013,\n",
       " 4014,\n",
       " 4017,\n",
       " 4018,\n",
       " 4022,\n",
       " 4023,\n",
       " 4029,\n",
       " 4033,\n",
       " 4036,\n",
       " 4042,\n",
       " 4043,\n",
       " 4045,\n",
       " 4048,\n",
       " 4055,\n",
       " 4056,\n",
       " 4059,\n",
       " 4062,\n",
       " 4063,\n",
       " 4065,\n",
       " 4072,\n",
       " 4077,\n",
       " 4078,\n",
       " 4081,\n",
       " 4083,\n",
       " 4085,\n",
       " 4098,\n",
       " 4099,\n",
       " 4104,\n",
       " 4111,\n",
       " 4112,\n",
       " 4128,\n",
       " 4136,\n",
       " 4141,\n",
       " 4145,\n",
       " 4148,\n",
       " 4159,\n",
       " 4164,\n",
       " 4173,\n",
       " 4180,\n",
       " 4185,\n",
       " 4188,\n",
       " 4191,\n",
       " 4192,\n",
       " 4193,\n",
       " 4195,\n",
       " 4196,\n",
       " 4198,\n",
       " 4207,\n",
       " 4211,\n",
       " 4214,\n",
       " 4219,\n",
       " 4221,\n",
       " 4224,\n",
       " 4227,\n",
       " 4233,\n",
       " 4234,\n",
       " 4237,\n",
       " 4238,\n",
       " 4243,\n",
       " 4245,\n",
       " 4249,\n",
       " 4254,\n",
       " 4257,\n",
       " 4260,\n",
       " 4265,\n",
       " 4271,\n",
       " 4273,\n",
       " 4278,\n",
       " 4279,\n",
       " 4280,\n",
       " 4286,\n",
       " 4290,\n",
       " 4297,\n",
       " 4298,\n",
       " 4301,\n",
       " 4305,\n",
       " 4310,\n",
       " 4311,\n",
       " 4313,\n",
       " 4317,\n",
       " 4320,\n",
       " 4325,\n",
       " 4330,\n",
       " 4331,\n",
       " 4335,\n",
       " 4340,\n",
       " 4344,\n",
       " 4346,\n",
       " 4347,\n",
       " 4362,\n",
       " 4366,\n",
       " 4369,\n",
       " 4373,\n",
       " 4374,\n",
       " 4381,\n",
       " 4385,\n",
       " 4387,\n",
       " 4399,\n",
       " 4401,\n",
       " 4404,\n",
       " 4408,\n",
       " 4409,\n",
       " 4415,\n",
       " 4417,\n",
       " 4425,\n",
       " 4426,\n",
       " 4429,\n",
       " 4437,\n",
       " 4440,\n",
       " 4444,\n",
       " 4446,\n",
       " 4449,\n",
       " 4460,\n",
       " 4463,\n",
       " 4466,\n",
       " 4482,\n",
       " 4487,\n",
       " 4493,\n",
       " 4498,\n",
       " 4501,\n",
       " 4503,\n",
       " 4511,\n",
       " 4520,\n",
       " 4525,\n",
       " 4561,\n",
       " 4565,\n",
       " 4590,\n",
       " 4591,\n",
       " 4592,\n",
       " 4597,\n",
       " 4612,\n",
       " 4615,\n",
       " 4618,\n",
       " 4627,\n",
       " 4628,\n",
       " 4629,\n",
       " 4630,\n",
       " 4637,\n",
       " 4641,\n",
       " 4648,\n",
       " 4660,\n",
       " 4671,\n",
       " 4673,\n",
       " 4675,\n",
       " 4677,\n",
       " 4679,\n",
       " 4695,\n",
       " 4701,\n",
       " 4705,\n",
       " 4709,\n",
       " 4711,\n",
       " 4715,\n",
       " 4717,\n",
       " 4718,\n",
       " 4720,\n",
       " 4725,\n",
       " 4741,\n",
       " 4742,\n",
       " 4746,\n",
       " 4755,\n",
       " 4758,\n",
       " 4764,\n",
       " 4771,\n",
       " 4772,\n",
       " 4775,\n",
       " 4776,\n",
       " 4796,\n",
       " 4808,\n",
       " 4813,\n",
       " 4819,\n",
       " 4820,\n",
       " 4822,\n",
       " 4826,\n",
       " 4829,\n",
       " 4833,\n",
       " 4839,\n",
       " 4866,\n",
       " 4867,\n",
       " 4871,\n",
       " 4875,\n",
       " 4882,\n",
       " 4887,\n",
       " 4889,\n",
       " 4896,\n",
       " 4898,\n",
       " 4902,\n",
       " 4904,\n",
       " 4911,\n",
       " 4912,\n",
       " 4913,\n",
       " 4916,\n",
       " 4918,\n",
       " 4921,\n",
       " 4935,\n",
       " 4938,\n",
       " 4951,\n",
       " 4956,\n",
       " 4966,\n",
       " 4968,\n",
       " 4972,\n",
       " 4973,\n",
       " 4978,\n",
       " 4990,\n",
       " 5008,\n",
       " 5017,\n",
       " 5021,\n",
       " 5027,\n",
       " 5031,\n",
       " 5032,\n",
       " 5034,\n",
       " 5038,\n",
       " 5039,\n",
       " 5040,\n",
       " 5048,\n",
       " 5051,\n",
       " 5054,\n",
       " 5055,\n",
       " 5056,\n",
       " 5061,\n",
       " 5067,\n",
       " 5082,\n",
       " 5084,\n",
       " 5092,\n",
       " 5098,\n",
       " 5101,\n",
       " 5104,\n",
       " 5105,\n",
       " 5107,\n",
       " 5110,\n",
       " 5120,\n",
       " 5130,\n",
       " 5131,\n",
       " 5132,\n",
       " 5137,\n",
       " 5138,\n",
       " 5141,\n",
       " ...]"
      ]
     },
     "execution_count": 268,
     "metadata": {},
     "output_type": "execute_result"
    }
   ],
   "source": [
    "#these are the columns that has more than 40 null \n",
    "#meaning they were never filled up to 44 responds, hence we will like to eliminate them\n",
    "\n",
    "filter"
   ]
  },
  {
   "cell_type": "code",
   "execution_count": 269,
   "id": "a7130f95",
   "metadata": {},
   "outputs": [
    {
     "data": {
      "text/html": [
       "<div>\n",
       "<style scoped>\n",
       "    .dataframe tbody tr th:only-of-type {\n",
       "        vertical-align: middle;\n",
       "    }\n",
       "\n",
       "    .dataframe tbody tr th {\n",
       "        vertical-align: top;\n",
       "    }\n",
       "\n",
       "    .dataframe thead th {\n",
       "        text-align: right;\n",
       "    }\n",
       "</style>\n",
       "<table border=\"1\" class=\"dataframe\">\n",
       "  <thead>\n",
       "    <tr style=\"text-align: right;\">\n",
       "      <th></th>\n",
       "      <th>ResponseId</th>\n",
       "      <th>Q120</th>\n",
       "      <th>MainBranch</th>\n",
       "      <th>Age</th>\n",
       "      <th>Employment</th>\n",
       "      <th>RemoteWork</th>\n",
       "      <th>CodingActivities</th>\n",
       "      <th>EdLevel</th>\n",
       "      <th>LearnCode</th>\n",
       "      <th>LearnCodeOnline</th>\n",
       "      <th>...</th>\n",
       "      <th>Frequency_1</th>\n",
       "      <th>Frequency_2</th>\n",
       "      <th>Frequency_3</th>\n",
       "      <th>TimeSearching</th>\n",
       "      <th>TimeAnswering</th>\n",
       "      <th>ProfessionalTech</th>\n",
       "      <th>Industry</th>\n",
       "      <th>SurveyLength</th>\n",
       "      <th>SurveyEase</th>\n",
       "      <th>ConvertedCompYearly</th>\n",
       "    </tr>\n",
       "  </thead>\n",
       "  <tbody>\n",
       "    <tr>\n",
       "      <th>0</th>\n",
       "      <td>1</td>\n",
       "      <td>I agree</td>\n",
       "      <td>None of these</td>\n",
       "      <td>18-24 years old</td>\n",
       "      <td>none</td>\n",
       "      <td>none</td>\n",
       "      <td>none</td>\n",
       "      <td>none</td>\n",
       "      <td>none</td>\n",
       "      <td>none</td>\n",
       "      <td>...</td>\n",
       "      <td>none</td>\n",
       "      <td>none</td>\n",
       "      <td>none</td>\n",
       "      <td>none</td>\n",
       "      <td>none</td>\n",
       "      <td>none</td>\n",
       "      <td>none</td>\n",
       "      <td>none</td>\n",
       "      <td>none</td>\n",
       "      <td>none</td>\n",
       "    </tr>\n",
       "    <tr>\n",
       "      <th>35</th>\n",
       "      <td>36</td>\n",
       "      <td>I agree</td>\n",
       "      <td>I code primarily as a hobby</td>\n",
       "      <td>35-44 years old</td>\n",
       "      <td>Employed, full-time</td>\n",
       "      <td>In-person</td>\n",
       "      <td>Hobby</td>\n",
       "      <td>Bachelor’s degree (B.A., B.S., B.Eng., etc.)</td>\n",
       "      <td>Books / Physical media;Friend or family member...</td>\n",
       "      <td>Formal documentation provided by the owner of ...</td>\n",
       "      <td>...</td>\n",
       "      <td>none</td>\n",
       "      <td>none</td>\n",
       "      <td>none</td>\n",
       "      <td>none</td>\n",
       "      <td>none</td>\n",
       "      <td>none</td>\n",
       "      <td>none</td>\n",
       "      <td>Appropriate in length</td>\n",
       "      <td>Easy</td>\n",
       "      <td>none</td>\n",
       "    </tr>\n",
       "    <tr>\n",
       "      <th>46</th>\n",
       "      <td>47</td>\n",
       "      <td>I agree</td>\n",
       "      <td>I am learning to code</td>\n",
       "      <td>25-34 years old</td>\n",
       "      <td>Student, full-time</td>\n",
       "      <td>none</td>\n",
       "      <td>none</td>\n",
       "      <td>Bachelor’s degree (B.A., B.S., B.Eng., etc.)</td>\n",
       "      <td>Books / Physical media;Colleague;Online Course...</td>\n",
       "      <td>Books;Recorded coding sessions;How-to videos;O...</td>\n",
       "      <td>...</td>\n",
       "      <td>none</td>\n",
       "      <td>none</td>\n",
       "      <td>none</td>\n",
       "      <td>none</td>\n",
       "      <td>none</td>\n",
       "      <td>none</td>\n",
       "      <td>none</td>\n",
       "      <td>Appropriate in length</td>\n",
       "      <td>Neither easy nor difficult</td>\n",
       "      <td>none</td>\n",
       "    </tr>\n",
       "    <tr>\n",
       "      <th>47</th>\n",
       "      <td>48</td>\n",
       "      <td>I agree</td>\n",
       "      <td>I code primarily as a hobby</td>\n",
       "      <td>55-64 years old</td>\n",
       "      <td>Independent contractor, freelancer, or self-em...</td>\n",
       "      <td>Remote</td>\n",
       "      <td>I don’t code outside of work</td>\n",
       "      <td>Some college/university study without earning ...</td>\n",
       "      <td>Books / Physical media;Other online resources ...</td>\n",
       "      <td>Formal documentation provided by the owner of ...</td>\n",
       "      <td>...</td>\n",
       "      <td>none</td>\n",
       "      <td>none</td>\n",
       "      <td>none</td>\n",
       "      <td>none</td>\n",
       "      <td>none</td>\n",
       "      <td>none</td>\n",
       "      <td>none</td>\n",
       "      <td>Appropriate in length</td>\n",
       "      <td>Easy</td>\n",
       "      <td>none</td>\n",
       "    </tr>\n",
       "    <tr>\n",
       "      <th>50</th>\n",
       "      <td>51</td>\n",
       "      <td>I agree</td>\n",
       "      <td>I am not primarily a developer, but I write co...</td>\n",
       "      <td>35-44 years old</td>\n",
       "      <td>Employed, full-time</td>\n",
       "      <td>Hybrid (some remote, some in-person)</td>\n",
       "      <td>Hobby</td>\n",
       "      <td>Master’s degree (M.A., M.S., M.Eng., MBA, etc.)</td>\n",
       "      <td>On the job training;Other online resources (e....</td>\n",
       "      <td>Formal documentation provided by the owner of ...</td>\n",
       "      <td>...</td>\n",
       "      <td>none</td>\n",
       "      <td>none</td>\n",
       "      <td>none</td>\n",
       "      <td>none</td>\n",
       "      <td>none</td>\n",
       "      <td>none</td>\n",
       "      <td>none</td>\n",
       "      <td>none</td>\n",
       "      <td>Neither easy nor difficult</td>\n",
       "      <td>none</td>\n",
       "    </tr>\n",
       "    <tr>\n",
       "      <th>...</th>\n",
       "      <td>...</td>\n",
       "      <td>...</td>\n",
       "      <td>...</td>\n",
       "      <td>...</td>\n",
       "      <td>...</td>\n",
       "      <td>...</td>\n",
       "      <td>...</td>\n",
       "      <td>...</td>\n",
       "      <td>...</td>\n",
       "      <td>...</td>\n",
       "      <td>...</td>\n",
       "      <td>...</td>\n",
       "      <td>...</td>\n",
       "      <td>...</td>\n",
       "      <td>...</td>\n",
       "      <td>...</td>\n",
       "      <td>...</td>\n",
       "      <td>...</td>\n",
       "      <td>...</td>\n",
       "      <td>...</td>\n",
       "      <td>...</td>\n",
       "    </tr>\n",
       "    <tr>\n",
       "      <th>89136</th>\n",
       "      <td>89137</td>\n",
       "      <td>I agree</td>\n",
       "      <td>I am learning to code</td>\n",
       "      <td>18-24 years old</td>\n",
       "      <td>Student, full-time</td>\n",
       "      <td>none</td>\n",
       "      <td>none</td>\n",
       "      <td>Secondary school (e.g. American high school, G...</td>\n",
       "      <td>Other online resources (e.g., videos, blogs, f...</td>\n",
       "      <td>Formal documentation provided by the owner of ...</td>\n",
       "      <td>...</td>\n",
       "      <td>none</td>\n",
       "      <td>none</td>\n",
       "      <td>none</td>\n",
       "      <td>none</td>\n",
       "      <td>none</td>\n",
       "      <td>none</td>\n",
       "      <td>none</td>\n",
       "      <td>Appropriate in length</td>\n",
       "      <td>Neither easy nor difficult</td>\n",
       "      <td>none</td>\n",
       "    </tr>\n",
       "    <tr>\n",
       "      <th>89149</th>\n",
       "      <td>89150</td>\n",
       "      <td>I agree</td>\n",
       "      <td>I am learning to code</td>\n",
       "      <td>25-34 years old</td>\n",
       "      <td>Not employed, but looking for work;Student, pa...</td>\n",
       "      <td>none</td>\n",
       "      <td>none</td>\n",
       "      <td>Bachelor’s degree (B.A., B.S., B.Eng., etc.)</td>\n",
       "      <td>Books / Physical media;Friend or family member...</td>\n",
       "      <td>Blogs with tips and tricks;Books;Recorded codi...</td>\n",
       "      <td>...</td>\n",
       "      <td>none</td>\n",
       "      <td>none</td>\n",
       "      <td>none</td>\n",
       "      <td>none</td>\n",
       "      <td>none</td>\n",
       "      <td>none</td>\n",
       "      <td>none</td>\n",
       "      <td>Too short</td>\n",
       "      <td>Easy</td>\n",
       "      <td>none</td>\n",
       "    </tr>\n",
       "    <tr>\n",
       "      <th>89159</th>\n",
       "      <td>89160</td>\n",
       "      <td>I agree</td>\n",
       "      <td>None of these</td>\n",
       "      <td>Prefer not to say</td>\n",
       "      <td>none</td>\n",
       "      <td>none</td>\n",
       "      <td>none</td>\n",
       "      <td>none</td>\n",
       "      <td>none</td>\n",
       "      <td>none</td>\n",
       "      <td>...</td>\n",
       "      <td>none</td>\n",
       "      <td>none</td>\n",
       "      <td>none</td>\n",
       "      <td>none</td>\n",
       "      <td>none</td>\n",
       "      <td>none</td>\n",
       "      <td>none</td>\n",
       "      <td>none</td>\n",
       "      <td>none</td>\n",
       "      <td>none</td>\n",
       "    </tr>\n",
       "    <tr>\n",
       "      <th>89161</th>\n",
       "      <td>89162</td>\n",
       "      <td>I agree</td>\n",
       "      <td>I am a developer by profession</td>\n",
       "      <td>25-34 years old</td>\n",
       "      <td>Employed, full-time</td>\n",
       "      <td>In-person</td>\n",
       "      <td>Hobby</td>\n",
       "      <td>Master’s degree (M.A., M.S., M.Eng., MBA, etc.)</td>\n",
       "      <td>Books / Physical media;Other online resources ...</td>\n",
       "      <td>Blogs with tips and tricks;Books;Written Tutor...</td>\n",
       "      <td>...</td>\n",
       "      <td>none</td>\n",
       "      <td>none</td>\n",
       "      <td>none</td>\n",
       "      <td>none</td>\n",
       "      <td>none</td>\n",
       "      <td>none</td>\n",
       "      <td>none</td>\n",
       "      <td>Too long</td>\n",
       "      <td>Neither easy nor difficult</td>\n",
       "      <td>none</td>\n",
       "    </tr>\n",
       "    <tr>\n",
       "      <th>89181</th>\n",
       "      <td>89182</td>\n",
       "      <td>I agree</td>\n",
       "      <td>I code primarily as a hobby</td>\n",
       "      <td>Prefer not to say</td>\n",
       "      <td>I prefer not to say</td>\n",
       "      <td>none</td>\n",
       "      <td>none</td>\n",
       "      <td>Something else</td>\n",
       "      <td>Books / Physical media;Hackathons (virtual or ...</td>\n",
       "      <td>none</td>\n",
       "      <td>...</td>\n",
       "      <td>none</td>\n",
       "      <td>none</td>\n",
       "      <td>none</td>\n",
       "      <td>none</td>\n",
       "      <td>none</td>\n",
       "      <td>none</td>\n",
       "      <td>none</td>\n",
       "      <td>Too long</td>\n",
       "      <td>Neither easy nor difficult</td>\n",
       "      <td>none</td>\n",
       "    </tr>\n",
       "  </tbody>\n",
       "</table>\n",
       "<p>18155 rows × 84 columns</p>\n",
       "</div>"
      ],
      "text/plain": [
       "       ResponseId     Q120                                         MainBranch  \\\n",
       "0               1  I agree                                      None of these   \n",
       "35             36  I agree                        I code primarily as a hobby   \n",
       "46             47  I agree                              I am learning to code   \n",
       "47             48  I agree                        I code primarily as a hobby   \n",
       "50             51  I agree  I am not primarily a developer, but I write co...   \n",
       "...           ...      ...                                                ...   \n",
       "89136       89137  I agree                              I am learning to code   \n",
       "89149       89150  I agree                              I am learning to code   \n",
       "89159       89160  I agree                                      None of these   \n",
       "89161       89162  I agree                     I am a developer by profession   \n",
       "89181       89182  I agree                        I code primarily as a hobby   \n",
       "\n",
       "                     Age                                         Employment  \\\n",
       "0        18-24 years old                                               none   \n",
       "35       35-44 years old                                Employed, full-time   \n",
       "46       25-34 years old                                 Student, full-time   \n",
       "47       55-64 years old  Independent contractor, freelancer, or self-em...   \n",
       "50       35-44 years old                                Employed, full-time   \n",
       "...                  ...                                                ...   \n",
       "89136    18-24 years old                                 Student, full-time   \n",
       "89149    25-34 years old  Not employed, but looking for work;Student, pa...   \n",
       "89159  Prefer not to say                                               none   \n",
       "89161    25-34 years old                                Employed, full-time   \n",
       "89181  Prefer not to say                                I prefer not to say   \n",
       "\n",
       "                                 RemoteWork              CodingActivities  \\\n",
       "0                                      none                          none   \n",
       "35                                In-person                         Hobby   \n",
       "46                                     none                          none   \n",
       "47                                   Remote  I don’t code outside of work   \n",
       "50     Hybrid (some remote, some in-person)                         Hobby   \n",
       "...                                     ...                           ...   \n",
       "89136                                  none                          none   \n",
       "89149                                  none                          none   \n",
       "89159                                  none                          none   \n",
       "89161                             In-person                         Hobby   \n",
       "89181                                  none                          none   \n",
       "\n",
       "                                                 EdLevel  \\\n",
       "0                                                   none   \n",
       "35          Bachelor’s degree (B.A., B.S., B.Eng., etc.)   \n",
       "46          Bachelor’s degree (B.A., B.S., B.Eng., etc.)   \n",
       "47     Some college/university study without earning ...   \n",
       "50       Master’s degree (M.A., M.S., M.Eng., MBA, etc.)   \n",
       "...                                                  ...   \n",
       "89136  Secondary school (e.g. American high school, G...   \n",
       "89149       Bachelor’s degree (B.A., B.S., B.Eng., etc.)   \n",
       "89159                                               none   \n",
       "89161    Master’s degree (M.A., M.S., M.Eng., MBA, etc.)   \n",
       "89181                                     Something else   \n",
       "\n",
       "                                               LearnCode  \\\n",
       "0                                                   none   \n",
       "35     Books / Physical media;Friend or family member...   \n",
       "46     Books / Physical media;Colleague;Online Course...   \n",
       "47     Books / Physical media;Other online resources ...   \n",
       "50     On the job training;Other online resources (e....   \n",
       "...                                                  ...   \n",
       "89136  Other online resources (e.g., videos, blogs, f...   \n",
       "89149  Books / Physical media;Friend or family member...   \n",
       "89159                                               none   \n",
       "89161  Books / Physical media;Other online resources ...   \n",
       "89181  Books / Physical media;Hackathons (virtual or ...   \n",
       "\n",
       "                                         LearnCodeOnline  ... Frequency_1  \\\n",
       "0                                                   none  ...        none   \n",
       "35     Formal documentation provided by the owner of ...  ...        none   \n",
       "46     Books;Recorded coding sessions;How-to videos;O...  ...        none   \n",
       "47     Formal documentation provided by the owner of ...  ...        none   \n",
       "50     Formal documentation provided by the owner of ...  ...        none   \n",
       "...                                                  ...  ...         ...   \n",
       "89136  Formal documentation provided by the owner of ...  ...        none   \n",
       "89149  Blogs with tips and tricks;Books;Recorded codi...  ...        none   \n",
       "89159                                               none  ...        none   \n",
       "89161  Blogs with tips and tricks;Books;Written Tutor...  ...        none   \n",
       "89181                                               none  ...        none   \n",
       "\n",
       "      Frequency_2 Frequency_3 TimeSearching TimeAnswering ProfessionalTech  \\\n",
       "0            none        none          none          none             none   \n",
       "35           none        none          none          none             none   \n",
       "46           none        none          none          none             none   \n",
       "47           none        none          none          none             none   \n",
       "50           none        none          none          none             none   \n",
       "...           ...         ...           ...           ...              ...   \n",
       "89136        none        none          none          none             none   \n",
       "89149        none        none          none          none             none   \n",
       "89159        none        none          none          none             none   \n",
       "89161        none        none          none          none             none   \n",
       "89181        none        none          none          none             none   \n",
       "\n",
       "      Industry           SurveyLength                  SurveyEase  \\\n",
       "0         none                   none                        none   \n",
       "35        none  Appropriate in length                        Easy   \n",
       "46        none  Appropriate in length  Neither easy nor difficult   \n",
       "47        none  Appropriate in length                        Easy   \n",
       "50        none                   none  Neither easy nor difficult   \n",
       "...        ...                    ...                         ...   \n",
       "89136     none  Appropriate in length  Neither easy nor difficult   \n",
       "89149     none              Too short                        Easy   \n",
       "89159     none                   none                        none   \n",
       "89161     none               Too long  Neither easy nor difficult   \n",
       "89181     none               Too long  Neither easy nor difficult   \n",
       "\n",
       "      ConvertedCompYearly  \n",
       "0                    none  \n",
       "35                   none  \n",
       "46                   none  \n",
       "47                   none  \n",
       "50                   none  \n",
       "...                   ...  \n",
       "89136                none  \n",
       "89149                none  \n",
       "89159                none  \n",
       "89161                none  \n",
       "89181                none  \n",
       "\n",
       "[18155 rows x 84 columns]"
      ]
     },
     "execution_count": 269,
     "metadata": {},
     "output_type": "execute_result"
    }
   ],
   "source": [
    "# see the columns with over 40 none. over 18000 entry\n",
    "d.loc[filter]"
   ]
  },
  {
   "cell_type": "code",
   "execution_count": 280,
   "id": "5925a1c9",
   "metadata": {
    "scrolled": false
   },
   "outputs": [],
   "source": [
    "#remove this rows and save it back to our dataframe\n",
    "#we use drop =True to drop the original index\n",
    "\n",
    "d = d.drop(filter).reset_index(drop =True)"
   ]
  },
  {
   "cell_type": "code",
   "execution_count": 279,
   "id": "1d54709c",
   "metadata": {},
   "outputs": [
    {
     "data": {
      "text/html": [
       "<div>\n",
       "<style scoped>\n",
       "    .dataframe tbody tr th:only-of-type {\n",
       "        vertical-align: middle;\n",
       "    }\n",
       "\n",
       "    .dataframe tbody tr th {\n",
       "        vertical-align: top;\n",
       "    }\n",
       "\n",
       "    .dataframe thead th {\n",
       "        text-align: right;\n",
       "    }\n",
       "</style>\n",
       "<table border=\"1\" class=\"dataframe\">\n",
       "  <thead>\n",
       "    <tr style=\"text-align: right;\">\n",
       "      <th></th>\n",
       "      <th>ResponseId</th>\n",
       "      <th>Q120</th>\n",
       "      <th>MainBranch</th>\n",
       "      <th>Age</th>\n",
       "      <th>Employment</th>\n",
       "      <th>RemoteWork</th>\n",
       "      <th>CodingActivities</th>\n",
       "      <th>EdLevel</th>\n",
       "      <th>LearnCode</th>\n",
       "      <th>LearnCodeOnline</th>\n",
       "      <th>...</th>\n",
       "      <th>Frequency_1</th>\n",
       "      <th>Frequency_2</th>\n",
       "      <th>Frequency_3</th>\n",
       "      <th>TimeSearching</th>\n",
       "      <th>TimeAnswering</th>\n",
       "      <th>ProfessionalTech</th>\n",
       "      <th>Industry</th>\n",
       "      <th>SurveyLength</th>\n",
       "      <th>SurveyEase</th>\n",
       "      <th>ConvertedCompYearly</th>\n",
       "    </tr>\n",
       "  </thead>\n",
       "  <tbody>\n",
       "    <tr>\n",
       "      <th>0</th>\n",
       "      <td>2</td>\n",
       "      <td>I agree</td>\n",
       "      <td>I am a developer by profession</td>\n",
       "      <td>25-34 years old</td>\n",
       "      <td>Employed, full-time</td>\n",
       "      <td>Remote</td>\n",
       "      <td>Hobby;Contribute to open-source projects;Boots...</td>\n",
       "      <td>Bachelor’s degree (B.A., B.S., B.Eng., etc.)</td>\n",
       "      <td>Books / Physical media;Colleague;Friend or fam...</td>\n",
       "      <td>Formal documentation provided by the owner of ...</td>\n",
       "      <td>...</td>\n",
       "      <td>1-2 times a week</td>\n",
       "      <td>10+ times a week</td>\n",
       "      <td>Never</td>\n",
       "      <td>15-30 minutes a day</td>\n",
       "      <td>15-30 minutes a day</td>\n",
       "      <td>DevOps function;Microservices;Automated testin...</td>\n",
       "      <td>Information Services, IT, Software Development...</td>\n",
       "      <td>Appropriate in length</td>\n",
       "      <td>Easy</td>\n",
       "      <td>285000.0</td>\n",
       "    </tr>\n",
       "    <tr>\n",
       "      <th>1</th>\n",
       "      <td>3</td>\n",
       "      <td>I agree</td>\n",
       "      <td>I am a developer by profession</td>\n",
       "      <td>45-54 years old</td>\n",
       "      <td>Employed, full-time</td>\n",
       "      <td>Hybrid (some remote, some in-person)</td>\n",
       "      <td>Hobby;Professional development or self-paced l...</td>\n",
       "      <td>Bachelor’s degree (B.A., B.S., B.Eng., etc.)</td>\n",
       "      <td>Books / Physical media;Colleague;On the job tr...</td>\n",
       "      <td>Formal documentation provided by the owner of ...</td>\n",
       "      <td>...</td>\n",
       "      <td>6-10 times a week</td>\n",
       "      <td>6-10 times a week</td>\n",
       "      <td>3-5 times a week</td>\n",
       "      <td>30-60 minutes a day</td>\n",
       "      <td>30-60 minutes a day</td>\n",
       "      <td>DevOps function;Microservices;Automated testin...</td>\n",
       "      <td>Information Services, IT, Software Development...</td>\n",
       "      <td>Appropriate in length</td>\n",
       "      <td>Easy</td>\n",
       "      <td>250000.0</td>\n",
       "    </tr>\n",
       "    <tr>\n",
       "      <th>2</th>\n",
       "      <td>4</td>\n",
       "      <td>I agree</td>\n",
       "      <td>I am a developer by profession</td>\n",
       "      <td>25-34 years old</td>\n",
       "      <td>Employed, full-time</td>\n",
       "      <td>Hybrid (some remote, some in-person)</td>\n",
       "      <td>Hobby</td>\n",
       "      <td>Bachelor’s degree (B.A., B.S., B.Eng., etc.)</td>\n",
       "      <td>Colleague;Friend or family member;Other online...</td>\n",
       "      <td>Formal documentation provided by the owner of ...</td>\n",
       "      <td>...</td>\n",
       "      <td>1-2 times a week</td>\n",
       "      <td>10+ times a week</td>\n",
       "      <td>1-2 times a week</td>\n",
       "      <td>15-30 minutes a day</td>\n",
       "      <td>30-60 minutes a day</td>\n",
       "      <td>Automated testing;Continuous integration (CI) ...</td>\n",
       "      <td>none</td>\n",
       "      <td>Appropriate in length</td>\n",
       "      <td>Easy</td>\n",
       "      <td>156000.0</td>\n",
       "    </tr>\n",
       "    <tr>\n",
       "      <th>3</th>\n",
       "      <td>5</td>\n",
       "      <td>I agree</td>\n",
       "      <td>I am a developer by profession</td>\n",
       "      <td>25-34 years old</td>\n",
       "      <td>Employed, full-time;Independent contractor, fr...</td>\n",
       "      <td>Remote</td>\n",
       "      <td>Hobby;Contribute to open-source projects;Profe...</td>\n",
       "      <td>Bachelor’s degree (B.A., B.S., B.Eng., etc.)</td>\n",
       "      <td>Books / Physical media;Online Courses or Certi...</td>\n",
       "      <td>Formal documentation provided by the owner of ...</td>\n",
       "      <td>...</td>\n",
       "      <td>1-2 times a week</td>\n",
       "      <td>1-2 times a week</td>\n",
       "      <td>3-5 times a week</td>\n",
       "      <td>60-120 minutes a day</td>\n",
       "      <td>30-60 minutes a day</td>\n",
       "      <td>Microservices;Automated testing;Observability ...</td>\n",
       "      <td>Other</td>\n",
       "      <td>Appropriate in length</td>\n",
       "      <td>Neither easy nor difficult</td>\n",
       "      <td>23456.0</td>\n",
       "    </tr>\n",
       "    <tr>\n",
       "      <th>4</th>\n",
       "      <td>6</td>\n",
       "      <td>I agree</td>\n",
       "      <td>I am a developer by profession</td>\n",
       "      <td>35-44 years old</td>\n",
       "      <td>Employed, full-time</td>\n",
       "      <td>Remote</td>\n",
       "      <td>Hobby;Professional development or self-paced l...</td>\n",
       "      <td>Some college/university study without earning ...</td>\n",
       "      <td>Books / Physical media;Colleague;Online Course...</td>\n",
       "      <td>Formal documentation provided by the owner of ...</td>\n",
       "      <td>...</td>\n",
       "      <td>1-2 times a week</td>\n",
       "      <td>1-2 times a week</td>\n",
       "      <td>3-5 times a week</td>\n",
       "      <td>30-60 minutes a day</td>\n",
       "      <td>15-30 minutes a day</td>\n",
       "      <td>DevOps function;Microservices;Observability to...</td>\n",
       "      <td>Other</td>\n",
       "      <td>Appropriate in length</td>\n",
       "      <td>Neither easy nor difficult</td>\n",
       "      <td>96828.0</td>\n",
       "    </tr>\n",
       "    <tr>\n",
       "      <th>...</th>\n",
       "      <td>...</td>\n",
       "      <td>...</td>\n",
       "      <td>...</td>\n",
       "      <td>...</td>\n",
       "      <td>...</td>\n",
       "      <td>...</td>\n",
       "      <td>...</td>\n",
       "      <td>...</td>\n",
       "      <td>...</td>\n",
       "      <td>...</td>\n",
       "      <td>...</td>\n",
       "      <td>...</td>\n",
       "      <td>...</td>\n",
       "      <td>...</td>\n",
       "      <td>...</td>\n",
       "      <td>...</td>\n",
       "      <td>...</td>\n",
       "      <td>...</td>\n",
       "      <td>...</td>\n",
       "      <td>...</td>\n",
       "      <td>...</td>\n",
       "    </tr>\n",
       "    <tr>\n",
       "      <th>71024</th>\n",
       "      <td>89179</td>\n",
       "      <td>I agree</td>\n",
       "      <td>I am a developer by profession</td>\n",
       "      <td>45-54 years old</td>\n",
       "      <td>Employed, full-time</td>\n",
       "      <td>Remote</td>\n",
       "      <td>Hobby</td>\n",
       "      <td>Bachelor’s degree (B.A., B.S., B.Eng., etc.)</td>\n",
       "      <td>Online Courses or Certification;On the job tra...</td>\n",
       "      <td>Formal documentation provided by the owner of ...</td>\n",
       "      <td>...</td>\n",
       "      <td>1-2 times a week</td>\n",
       "      <td>1-2 times a week</td>\n",
       "      <td>1-2 times a week</td>\n",
       "      <td>15-30 minutes a day</td>\n",
       "      <td>60-120 minutes a day</td>\n",
       "      <td>DevOps function;Microservices;Automated testin...</td>\n",
       "      <td>Insurance</td>\n",
       "      <td>Appropriate in length</td>\n",
       "      <td>Easy</td>\n",
       "      <td>none</td>\n",
       "    </tr>\n",
       "    <tr>\n",
       "      <th>71025</th>\n",
       "      <td>89180</td>\n",
       "      <td>I agree</td>\n",
       "      <td>I am a developer by profession</td>\n",
       "      <td>25-34 years old</td>\n",
       "      <td>Employed, full-time;Independent contractor, fr...</td>\n",
       "      <td>Remote</td>\n",
       "      <td>Hobby;Bootstrapping a business;Freelance/contr...</td>\n",
       "      <td>Associate degree (A.A., A.S., etc.)</td>\n",
       "      <td>Online Courses or Certification;Other online r...</td>\n",
       "      <td>Formal documentation provided by the owner of ...</td>\n",
       "      <td>...</td>\n",
       "      <td>none</td>\n",
       "      <td>none</td>\n",
       "      <td>none</td>\n",
       "      <td>none</td>\n",
       "      <td>none</td>\n",
       "      <td>none</td>\n",
       "      <td>none</td>\n",
       "      <td>Too long</td>\n",
       "      <td>Neither easy nor difficult</td>\n",
       "      <td>none</td>\n",
       "    </tr>\n",
       "    <tr>\n",
       "      <th>71026</th>\n",
       "      <td>89181</td>\n",
       "      <td>I agree</td>\n",
       "      <td>I am a developer by profession</td>\n",
       "      <td>18-24 years old</td>\n",
       "      <td>Student, full-time;Employed, part-time</td>\n",
       "      <td>Hybrid (some remote, some in-person)</td>\n",
       "      <td>School or academic work</td>\n",
       "      <td>Bachelor’s degree (B.A., B.S., B.Eng., etc.)</td>\n",
       "      <td>Colleague;Online Courses or Certification;Othe...</td>\n",
       "      <td>Formal documentation provided by the owner of ...</td>\n",
       "      <td>...</td>\n",
       "      <td>none</td>\n",
       "      <td>none</td>\n",
       "      <td>none</td>\n",
       "      <td>none</td>\n",
       "      <td>none</td>\n",
       "      <td>none</td>\n",
       "      <td>none</td>\n",
       "      <td>Too long</td>\n",
       "      <td>Easy</td>\n",
       "      <td>none</td>\n",
       "    </tr>\n",
       "    <tr>\n",
       "      <th>71027</th>\n",
       "      <td>89183</td>\n",
       "      <td>I agree</td>\n",
       "      <td>I am a developer by profession</td>\n",
       "      <td>Under 18 years old</td>\n",
       "      <td>Employed, part-time;Student, part-time</td>\n",
       "      <td>Hybrid (some remote, some in-person)</td>\n",
       "      <td>Hobby;School or academic work</td>\n",
       "      <td>Secondary school (e.g. American high school, G...</td>\n",
       "      <td>Online Courses or Certification;Other online r...</td>\n",
       "      <td>Formal documentation provided by the owner of ...</td>\n",
       "      <td>...</td>\n",
       "      <td>none</td>\n",
       "      <td>none</td>\n",
       "      <td>none</td>\n",
       "      <td>none</td>\n",
       "      <td>none</td>\n",
       "      <td>none</td>\n",
       "      <td>none</td>\n",
       "      <td>Appropriate in length</td>\n",
       "      <td>Neither easy nor difficult</td>\n",
       "      <td>none</td>\n",
       "    </tr>\n",
       "    <tr>\n",
       "      <th>71028</th>\n",
       "      <td>89184</td>\n",
       "      <td>I agree</td>\n",
       "      <td>I am a developer by profession</td>\n",
       "      <td>35-44 years old</td>\n",
       "      <td>Employed, full-time</td>\n",
       "      <td>Hybrid (some remote, some in-person)</td>\n",
       "      <td>Hobby;Professional development or self-paced l...</td>\n",
       "      <td>Bachelor’s degree (B.A., B.S., B.Eng., etc.)</td>\n",
       "      <td>Colleague;Online Courses or Certification;Othe...</td>\n",
       "      <td>Formal documentation provided by the owner of ...</td>\n",
       "      <td>...</td>\n",
       "      <td>Never</td>\n",
       "      <td>1-2 times a week</td>\n",
       "      <td>1-2 times a week</td>\n",
       "      <td>60-120 minutes a day</td>\n",
       "      <td>30-60 minutes a day</td>\n",
       "      <td>DevOps function;Developer portal or other cent...</td>\n",
       "      <td>Information Services, IT, Software Development...</td>\n",
       "      <td>Appropriate in length</td>\n",
       "      <td>Easy</td>\n",
       "      <td>none</td>\n",
       "    </tr>\n",
       "  </tbody>\n",
       "</table>\n",
       "<p>71029 rows × 84 columns</p>\n",
       "</div>"
      ],
      "text/plain": [
       "       ResponseId     Q120                      MainBranch  \\\n",
       "0               2  I agree  I am a developer by profession   \n",
       "1               3  I agree  I am a developer by profession   \n",
       "2               4  I agree  I am a developer by profession   \n",
       "3               5  I agree  I am a developer by profession   \n",
       "4               6  I agree  I am a developer by profession   \n",
       "...           ...      ...                             ...   \n",
       "71024       89179  I agree  I am a developer by profession   \n",
       "71025       89180  I agree  I am a developer by profession   \n",
       "71026       89181  I agree  I am a developer by profession   \n",
       "71027       89183  I agree  I am a developer by profession   \n",
       "71028       89184  I agree  I am a developer by profession   \n",
       "\n",
       "                      Age                                         Employment  \\\n",
       "0         25-34 years old                                Employed, full-time   \n",
       "1         45-54 years old                                Employed, full-time   \n",
       "2         25-34 years old                                Employed, full-time   \n",
       "3         25-34 years old  Employed, full-time;Independent contractor, fr...   \n",
       "4         35-44 years old                                Employed, full-time   \n",
       "...                   ...                                                ...   \n",
       "71024     45-54 years old                                Employed, full-time   \n",
       "71025     25-34 years old  Employed, full-time;Independent contractor, fr...   \n",
       "71026     18-24 years old             Student, full-time;Employed, part-time   \n",
       "71027  Under 18 years old             Employed, part-time;Student, part-time   \n",
       "71028     35-44 years old                                Employed, full-time   \n",
       "\n",
       "                                 RemoteWork  \\\n",
       "0                                    Remote   \n",
       "1      Hybrid (some remote, some in-person)   \n",
       "2      Hybrid (some remote, some in-person)   \n",
       "3                                    Remote   \n",
       "4                                    Remote   \n",
       "...                                     ...   \n",
       "71024                                Remote   \n",
       "71025                                Remote   \n",
       "71026  Hybrid (some remote, some in-person)   \n",
       "71027  Hybrid (some remote, some in-person)   \n",
       "71028  Hybrid (some remote, some in-person)   \n",
       "\n",
       "                                        CodingActivities  \\\n",
       "0      Hobby;Contribute to open-source projects;Boots...   \n",
       "1      Hobby;Professional development or self-paced l...   \n",
       "2                                                  Hobby   \n",
       "3      Hobby;Contribute to open-source projects;Profe...   \n",
       "4      Hobby;Professional development or self-paced l...   \n",
       "...                                                  ...   \n",
       "71024                                              Hobby   \n",
       "71025  Hobby;Bootstrapping a business;Freelance/contr...   \n",
       "71026                            School or academic work   \n",
       "71027                      Hobby;School or academic work   \n",
       "71028  Hobby;Professional development or self-paced l...   \n",
       "\n",
       "                                                 EdLevel  \\\n",
       "0           Bachelor’s degree (B.A., B.S., B.Eng., etc.)   \n",
       "1           Bachelor’s degree (B.A., B.S., B.Eng., etc.)   \n",
       "2           Bachelor’s degree (B.A., B.S., B.Eng., etc.)   \n",
       "3           Bachelor’s degree (B.A., B.S., B.Eng., etc.)   \n",
       "4      Some college/university study without earning ...   \n",
       "...                                                  ...   \n",
       "71024       Bachelor’s degree (B.A., B.S., B.Eng., etc.)   \n",
       "71025                Associate degree (A.A., A.S., etc.)   \n",
       "71026       Bachelor’s degree (B.A., B.S., B.Eng., etc.)   \n",
       "71027  Secondary school (e.g. American high school, G...   \n",
       "71028       Bachelor’s degree (B.A., B.S., B.Eng., etc.)   \n",
       "\n",
       "                                               LearnCode  \\\n",
       "0      Books / Physical media;Colleague;Friend or fam...   \n",
       "1      Books / Physical media;Colleague;On the job tr...   \n",
       "2      Colleague;Friend or family member;Other online...   \n",
       "3      Books / Physical media;Online Courses or Certi...   \n",
       "4      Books / Physical media;Colleague;Online Course...   \n",
       "...                                                  ...   \n",
       "71024  Online Courses or Certification;On the job tra...   \n",
       "71025  Online Courses or Certification;Other online r...   \n",
       "71026  Colleague;Online Courses or Certification;Othe...   \n",
       "71027  Online Courses or Certification;Other online r...   \n",
       "71028  Colleague;Online Courses or Certification;Othe...   \n",
       "\n",
       "                                         LearnCodeOnline  ...  \\\n",
       "0      Formal documentation provided by the owner of ...  ...   \n",
       "1      Formal documentation provided by the owner of ...  ...   \n",
       "2      Formal documentation provided by the owner of ...  ...   \n",
       "3      Formal documentation provided by the owner of ...  ...   \n",
       "4      Formal documentation provided by the owner of ...  ...   \n",
       "...                                                  ...  ...   \n",
       "71024  Formal documentation provided by the owner of ...  ...   \n",
       "71025  Formal documentation provided by the owner of ...  ...   \n",
       "71026  Formal documentation provided by the owner of ...  ...   \n",
       "71027  Formal documentation provided by the owner of ...  ...   \n",
       "71028  Formal documentation provided by the owner of ...  ...   \n",
       "\n",
       "             Frequency_1        Frequency_2       Frequency_3  \\\n",
       "0       1-2 times a week   10+ times a week             Never   \n",
       "1      6-10 times a week  6-10 times a week  3-5 times a week   \n",
       "2       1-2 times a week   10+ times a week  1-2 times a week   \n",
       "3       1-2 times a week   1-2 times a week  3-5 times a week   \n",
       "4       1-2 times a week   1-2 times a week  3-5 times a week   \n",
       "...                  ...                ...               ...   \n",
       "71024   1-2 times a week   1-2 times a week  1-2 times a week   \n",
       "71025               none               none              none   \n",
       "71026               none               none              none   \n",
       "71027               none               none              none   \n",
       "71028              Never   1-2 times a week  1-2 times a week   \n",
       "\n",
       "              TimeSearching         TimeAnswering  \\\n",
       "0       15-30 minutes a day   15-30 minutes a day   \n",
       "1       30-60 minutes a day   30-60 minutes a day   \n",
       "2       15-30 minutes a day   30-60 minutes a day   \n",
       "3      60-120 minutes a day   30-60 minutes a day   \n",
       "4       30-60 minutes a day   15-30 minutes a day   \n",
       "...                     ...                   ...   \n",
       "71024   15-30 minutes a day  60-120 minutes a day   \n",
       "71025                  none                  none   \n",
       "71026                  none                  none   \n",
       "71027                  none                  none   \n",
       "71028  60-120 minutes a day   30-60 minutes a day   \n",
       "\n",
       "                                        ProfessionalTech  \\\n",
       "0      DevOps function;Microservices;Automated testin...   \n",
       "1      DevOps function;Microservices;Automated testin...   \n",
       "2      Automated testing;Continuous integration (CI) ...   \n",
       "3      Microservices;Automated testing;Observability ...   \n",
       "4      DevOps function;Microservices;Observability to...   \n",
       "...                                                  ...   \n",
       "71024  DevOps function;Microservices;Automated testin...   \n",
       "71025                                               none   \n",
       "71026                                               none   \n",
       "71027                                               none   \n",
       "71028  DevOps function;Developer portal or other cent...   \n",
       "\n",
       "                                                Industry  \\\n",
       "0      Information Services, IT, Software Development...   \n",
       "1      Information Services, IT, Software Development...   \n",
       "2                                                   none   \n",
       "3                                                  Other   \n",
       "4                                                  Other   \n",
       "...                                                  ...   \n",
       "71024                                          Insurance   \n",
       "71025                                               none   \n",
       "71026                                               none   \n",
       "71027                                               none   \n",
       "71028  Information Services, IT, Software Development...   \n",
       "\n",
       "                SurveyLength                  SurveyEase ConvertedCompYearly  \n",
       "0      Appropriate in length                        Easy            285000.0  \n",
       "1      Appropriate in length                        Easy            250000.0  \n",
       "2      Appropriate in length                        Easy            156000.0  \n",
       "3      Appropriate in length  Neither easy nor difficult             23456.0  \n",
       "4      Appropriate in length  Neither easy nor difficult             96828.0  \n",
       "...                      ...                         ...                 ...  \n",
       "71024  Appropriate in length                        Easy                none  \n",
       "71025               Too long  Neither easy nor difficult                none  \n",
       "71026               Too long                        Easy                none  \n",
       "71027  Appropriate in length  Neither easy nor difficult                none  \n",
       "71028  Appropriate in length                        Easy                none  \n",
       "\n",
       "[71029 rows x 84 columns]"
      ]
     },
     "execution_count": 279,
     "metadata": {},
     "output_type": "execute_result"
    }
   ],
   "source": [
    "d"
   ]
  },
  {
   "cell_type": "code",
   "execution_count": 281,
   "id": "0df8de0f",
   "metadata": {
    "scrolled": true
   },
   "outputs": [
    {
     "data": {
      "text/plain": [
       "['ChatGPT',\n",
       " 'none',\n",
       " 'none',\n",
       " 'ChatGPT',\n",
       " 'ChatGPT;Google Bard AI;Neeva AI',\n",
       " 'ChatGPT',\n",
       " 'Bing AI;ChatGPT;Google Bard AI',\n",
       " 'none',\n",
       " 'Bing AI;ChatGPT',\n",
       " 'Bing AI;ChatGPT;Google Bard AI;WolframAlpha',\n",
       " 'ChatGPT',\n",
       " 'ChatGPT;WolframAlpha',\n",
       " 'ChatGPT',\n",
       " 'none',\n",
       " 'ChatGPT',\n",
       " 'Bing AI;ChatGPT',\n",
       " 'ChatGPT',\n",
       " 'Andi',\n",
       " 'ChatGPT;Phind',\n",
       " 'ChatGPT',\n",
       " 'ChatGPT;WolframAlpha',\n",
       " 'ChatGPT',\n",
       " 'none',\n",
       " 'none',\n",
       " 'ChatGPT',\n",
       " 'ChatGPT',\n",
       " 'ChatGPT;WolframAlpha',\n",
       " 'none',\n",
       " 'ChatGPT',\n",
       " 'ChatGPT',\n",
       " 'none',\n",
       " 'ChatGPT',\n",
       " 'ChatGPT',\n",
       " 'ChatGPT',\n",
       " 'ChatGPT;Google Bard AI',\n",
       " 'ChatGPT',\n",
       " 'none',\n",
       " 'ChatGPT',\n",
       " 'ChatGPT;WolframAlpha;You.com',\n",
       " 'ChatGPT',\n",
       " 'Bing AI;ChatGPT;Google Bard AI;WolframAlpha',\n",
       " 'ChatGPT;Google Bard AI',\n",
       " 'ChatGPT',\n",
       " 'none',\n",
       " 'none',\n",
       " 'ChatGPT',\n",
       " 'ChatGPT',\n",
       " 'none',\n",
       " 'ChatGPT',\n",
       " 'none',\n",
       " 'none',\n",
       " 'none',\n",
       " 'none',\n",
       " 'none',\n",
       " 'none',\n",
       " 'ChatGPT',\n",
       " 'Bing AI',\n",
       " 'ChatGPT',\n",
       " 'none',\n",
       " 'Bing AI;ChatGPT',\n",
       " 'ChatGPT',\n",
       " 'none',\n",
       " 'ChatGPT',\n",
       " 'ChatGPT',\n",
       " 'ChatGPT',\n",
       " 'ChatGPT',\n",
       " 'none',\n",
       " 'none',\n",
       " 'none',\n",
       " 'none',\n",
       " 'ChatGPT',\n",
       " 'ChatGPT;WolframAlpha',\n",
       " 'ChatGPT;WolframAlpha',\n",
       " 'none',\n",
       " 'ChatGPT;WolframAlpha',\n",
       " 'ChatGPT',\n",
       " 'Bing AI;ChatGPT',\n",
       " 'none',\n",
       " 'Bing AI',\n",
       " 'Bing AI;ChatGPT',\n",
       " 'ChatGPT',\n",
       " 'none',\n",
       " 'ChatGPT',\n",
       " 'none',\n",
       " 'ChatGPT',\n",
       " 'ChatGPT',\n",
       " 'none',\n",
       " 'none',\n",
       " 'ChatGPT',\n",
       " 'Bing AI;ChatGPT;Google Bard AI;WolframAlpha;You.com',\n",
       " 'ChatGPT',\n",
       " 'ChatGPT',\n",
       " 'ChatGPT',\n",
       " 'ChatGPT',\n",
       " 'Bing AI;ChatGPT;Google Bard AI;WolframAlpha',\n",
       " 'ChatGPT',\n",
       " 'Bing AI;ChatGPT;WolframAlpha;You.com',\n",
       " 'ChatGPT',\n",
       " 'ChatGPT',\n",
       " 'none',\n",
       " 'ChatGPT',\n",
       " 'none',\n",
       " 'ChatGPT',\n",
       " 'none',\n",
       " 'Bing AI;ChatGPT',\n",
       " 'ChatGPT',\n",
       " 'ChatGPT',\n",
       " 'none',\n",
       " 'ChatGPT',\n",
       " 'Bing AI;ChatGPT',\n",
       " 'none',\n",
       " 'ChatGPT;Google Bard AI',\n",
       " 'none',\n",
       " 'none',\n",
       " 'WolframAlpha',\n",
       " 'none',\n",
       " 'ChatGPT',\n",
       " 'none',\n",
       " 'ChatGPT;Google Bard AI',\n",
       " 'none',\n",
       " 'none',\n",
       " 'none',\n",
       " 'ChatGPT',\n",
       " 'ChatGPT',\n",
       " 'none',\n",
       " 'ChatGPT',\n",
       " 'ChatGPT',\n",
       " 'none',\n",
       " 'Bing AI;ChatGPT;Phind',\n",
       " 'none',\n",
       " 'none',\n",
       " 'Bing AI;ChatGPT;WolframAlpha',\n",
       " 'ChatGPT;WolframAlpha;You.com',\n",
       " 'none',\n",
       " 'none',\n",
       " 'none',\n",
       " 'ChatGPT',\n",
       " 'ChatGPT',\n",
       " 'ChatGPT',\n",
       " 'ChatGPT;Phind',\n",
       " 'Bing AI;ChatGPT;Google Bard AI',\n",
       " 'none',\n",
       " 'ChatGPT',\n",
       " 'none',\n",
       " 'Bing AI;ChatGPT',\n",
       " 'WolframAlpha',\n",
       " 'none',\n",
       " 'none',\n",
       " 'ChatGPT;WolframAlpha',\n",
       " 'none',\n",
       " 'ChatGPT;WolframAlpha',\n",
       " 'none',\n",
       " 'none',\n",
       " 'ChatGPT',\n",
       " 'none',\n",
       " 'Bing AI;ChatGPT',\n",
       " 'none',\n",
       " 'ChatGPT;WolframAlpha',\n",
       " 'none',\n",
       " 'none',\n",
       " 'Bing AI;ChatGPT',\n",
       " 'none',\n",
       " 'ChatGPT',\n",
       " 'none',\n",
       " 'none',\n",
       " 'none',\n",
       " 'WolframAlpha',\n",
       " 'ChatGPT',\n",
       " 'ChatGPT',\n",
       " 'ChatGPT',\n",
       " 'Bing AI;ChatGPT',\n",
       " 'none',\n",
       " 'none',\n",
       " 'ChatGPT',\n",
       " 'none',\n",
       " 'none',\n",
       " 'none',\n",
       " 'Phind',\n",
       " 'none',\n",
       " 'ChatGPT',\n",
       " 'none',\n",
       " 'none',\n",
       " 'ChatGPT',\n",
       " 'ChatGPT',\n",
       " 'none',\n",
       " 'ChatGPT',\n",
       " 'Bing AI;ChatGPT;Google Bard AI',\n",
       " 'ChatGPT',\n",
       " 'Bing AI;ChatGPT;Google Bard AI;WolframAlpha',\n",
       " 'ChatGPT',\n",
       " 'ChatGPT',\n",
       " 'ChatGPT',\n",
       " 'none',\n",
       " 'none',\n",
       " 'none',\n",
       " 'none',\n",
       " 'Bing AI;ChatGPT;WolframAlpha',\n",
       " 'none',\n",
       " 'WolframAlpha',\n",
       " 'ChatGPT',\n",
       " 'ChatGPT;You.com',\n",
       " 'ChatGPT',\n",
       " 'none',\n",
       " 'ChatGPT;Google Bard AI',\n",
       " 'none',\n",
       " 'Bing AI;ChatGPT',\n",
       " 'none',\n",
       " 'none',\n",
       " 'ChatGPT;WolframAlpha',\n",
       " 'ChatGPT',\n",
       " 'none',\n",
       " 'ChatGPT',\n",
       " 'ChatGPT',\n",
       " 'none',\n",
       " 'none',\n",
       " 'Bing AI;ChatGPT',\n",
       " 'none',\n",
       " 'ChatGPT;Google Bard AI',\n",
       " 'ChatGPT;WolframAlpha',\n",
       " 'ChatGPT',\n",
       " 'none',\n",
       " 'none',\n",
       " 'ChatGPT',\n",
       " 'none',\n",
       " 'none',\n",
       " 'ChatGPT',\n",
       " 'ChatGPT',\n",
       " 'none',\n",
       " 'ChatGPT',\n",
       " 'ChatGPT;WolframAlpha',\n",
       " 'Bing AI;ChatGPT',\n",
       " 'none',\n",
       " 'none',\n",
       " 'ChatGPT;Google Bard AI;Neeva AI;You.com',\n",
       " 'ChatGPT',\n",
       " 'none',\n",
       " 'ChatGPT',\n",
       " 'ChatGPT',\n",
       " 'ChatGPT',\n",
       " 'none',\n",
       " 'none',\n",
       " 'none',\n",
       " 'none',\n",
       " 'ChatGPT',\n",
       " 'ChatGPT',\n",
       " 'none',\n",
       " 'ChatGPT;WolframAlpha',\n",
       " 'ChatGPT',\n",
       " 'ChatGPT',\n",
       " 'none',\n",
       " 'ChatGPT',\n",
       " 'ChatGPT',\n",
       " 'ChatGPT',\n",
       " 'none',\n",
       " 'ChatGPT',\n",
       " 'none',\n",
       " 'ChatGPT;Google Bard AI',\n",
       " 'ChatGPT',\n",
       " 'none',\n",
       " 'none',\n",
       " 'ChatGPT',\n",
       " 'ChatGPT',\n",
       " 'none',\n",
       " 'ChatGPT',\n",
       " 'none',\n",
       " 'none',\n",
       " 'WolframAlpha',\n",
       " 'none',\n",
       " 'ChatGPT;Google Bard AI',\n",
       " 'ChatGPT',\n",
       " 'none',\n",
       " 'none',\n",
       " 'ChatGPT',\n",
       " 'ChatGPT;WolframAlpha',\n",
       " 'none',\n",
       " 'Bing AI;ChatGPT',\n",
       " 'ChatGPT;WolframAlpha',\n",
       " 'ChatGPT',\n",
       " 'ChatGPT',\n",
       " 'none',\n",
       " 'Bing AI;ChatGPT;Google Bard AI',\n",
       " 'ChatGPT',\n",
       " 'none',\n",
       " 'Bing AI',\n",
       " 'none',\n",
       " 'none',\n",
       " 'ChatGPT',\n",
       " 'none',\n",
       " 'ChatGPT',\n",
       " 'Bing AI;ChatGPT',\n",
       " 'ChatGPT',\n",
       " 'ChatGPT',\n",
       " 'none',\n",
       " 'none',\n",
       " 'none',\n",
       " 'none',\n",
       " 'ChatGPT',\n",
       " 'none',\n",
       " 'ChatGPT',\n",
       " 'none',\n",
       " 'ChatGPT',\n",
       " 'ChatGPT',\n",
       " 'none',\n",
       " 'none',\n",
       " 'Bing AI;ChatGPT',\n",
       " 'ChatGPT',\n",
       " 'ChatGPT',\n",
       " 'none',\n",
       " 'Bing AI;ChatGPT',\n",
       " 'Bing AI;ChatGPT',\n",
       " 'none',\n",
       " 'none',\n",
       " 'none',\n",
       " 'Bing AI;ChatGPT',\n",
       " 'ChatGPT',\n",
       " 'none',\n",
       " 'none',\n",
       " 'none',\n",
       " 'ChatGPT',\n",
       " 'ChatGPT',\n",
       " 'ChatGPT',\n",
       " 'Bing AI;ChatGPT',\n",
       " 'Bing AI;ChatGPT',\n",
       " 'ChatGPT;Phind',\n",
       " 'ChatGPT',\n",
       " 'ChatGPT;Perplexity AI',\n",
       " 'ChatGPT;WolframAlpha',\n",
       " 'ChatGPT',\n",
       " 'ChatGPT;WolframAlpha',\n",
       " 'ChatGPT;WolframAlpha',\n",
       " 'none',\n",
       " 'none',\n",
       " 'none',\n",
       " 'none',\n",
       " 'Andi',\n",
       " 'none',\n",
       " 'ChatGPT;WolframAlpha',\n",
       " 'Bing AI;ChatGPT;WolframAlpha',\n",
       " 'none',\n",
       " 'none',\n",
       " 'ChatGPT;WolframAlpha',\n",
       " 'none',\n",
       " 'none',\n",
       " 'ChatGPT',\n",
       " 'none',\n",
       " 'ChatGPT',\n",
       " 'ChatGPT',\n",
       " 'ChatGPT;Phind',\n",
       " 'ChatGPT',\n",
       " 'ChatGPT',\n",
       " 'ChatGPT',\n",
       " 'Bing AI;ChatGPT',\n",
       " 'none',\n",
       " 'Bing AI;ChatGPT',\n",
       " 'ChatGPT',\n",
       " 'ChatGPT;WolframAlpha',\n",
       " 'ChatGPT',\n",
       " 'ChatGPT',\n",
       " 'ChatGPT',\n",
       " 'none',\n",
       " 'ChatGPT',\n",
       " 'ChatGPT;WolframAlpha',\n",
       " 'none',\n",
       " 'Bing AI;ChatGPT',\n",
       " 'none',\n",
       " 'ChatGPT',\n",
       " 'Bing AI;ChatGPT;WolframAlpha',\n",
       " 'ChatGPT',\n",
       " 'ChatGPT',\n",
       " 'WolframAlpha',\n",
       " 'none',\n",
       " 'none',\n",
       " 'Bing AI;ChatGPT',\n",
       " 'ChatGPT;Quora Poe',\n",
       " 'none',\n",
       " 'none',\n",
       " 'ChatGPT',\n",
       " 'ChatGPT',\n",
       " 'ChatGPT',\n",
       " 'ChatGPT',\n",
       " 'ChatGPT',\n",
       " 'ChatGPT',\n",
       " 'ChatGPT',\n",
       " 'Bing AI;ChatGPT',\n",
       " 'ChatGPT;WolframAlpha',\n",
       " 'ChatGPT',\n",
       " 'none',\n",
       " 'none',\n",
       " 'ChatGPT',\n",
       " 'ChatGPT',\n",
       " 'none',\n",
       " 'none',\n",
       " 'ChatGPT;Perplexity AI',\n",
       " 'none',\n",
       " 'ChatGPT',\n",
       " 'ChatGPT',\n",
       " 'none',\n",
       " 'ChatGPT',\n",
       " 'none',\n",
       " 'none',\n",
       " 'none',\n",
       " 'ChatGPT',\n",
       " 'none',\n",
       " 'Bing AI;ChatGPT;Google Bard AI',\n",
       " 'none',\n",
       " 'none',\n",
       " 'ChatGPT',\n",
       " 'none',\n",
       " 'none',\n",
       " 'none',\n",
       " 'ChatGPT',\n",
       " 'ChatGPT',\n",
       " 'none',\n",
       " 'ChatGPT',\n",
       " 'Bing AI;ChatGPT;Perplexity AI',\n",
       " 'ChatGPT;WolframAlpha',\n",
       " 'ChatGPT;You.com',\n",
       " 'ChatGPT;WolframAlpha',\n",
       " 'ChatGPT',\n",
       " 'Bing AI;ChatGPT;WolframAlpha',\n",
       " 'ChatGPT',\n",
       " 'none',\n",
       " 'none',\n",
       " 'ChatGPT',\n",
       " 'none',\n",
       " 'none',\n",
       " 'ChatGPT',\n",
       " 'none',\n",
       " 'ChatGPT',\n",
       " 'ChatGPT;Google Bard AI',\n",
       " 'Bing AI;ChatGPT',\n",
       " 'ChatGPT;You.com',\n",
       " 'ChatGPT;You.com',\n",
       " 'none',\n",
       " 'none',\n",
       " 'ChatGPT',\n",
       " 'ChatGPT',\n",
       " 'ChatGPT',\n",
       " 'none',\n",
       " 'none',\n",
       " 'ChatGPT;WolframAlpha;You.com',\n",
       " 'ChatGPT',\n",
       " 'Bing AI',\n",
       " 'none',\n",
       " 'none',\n",
       " 'none',\n",
       " 'ChatGPT;WolframAlpha',\n",
       " 'ChatGPT;Google Bard AI',\n",
       " 'none',\n",
       " 'none',\n",
       " 'none',\n",
       " 'ChatGPT',\n",
       " 'ChatGPT',\n",
       " 'ChatGPT',\n",
       " 'ChatGPT;Google Bard AI;WolframAlpha',\n",
       " 'ChatGPT;Google Bard AI',\n",
       " 'none',\n",
       " 'WolframAlpha',\n",
       " 'ChatGPT',\n",
       " 'Bing AI;ChatGPT',\n",
       " 'none',\n",
       " 'none',\n",
       " 'Bing AI;ChatGPT',\n",
       " 'ChatGPT',\n",
       " 'ChatGPT',\n",
       " 'ChatGPT',\n",
       " 'Bing AI;ChatGPT',\n",
       " 'none',\n",
       " 'ChatGPT',\n",
       " 'ChatGPT',\n",
       " 'Bing AI',\n",
       " 'ChatGPT',\n",
       " 'none',\n",
       " 'ChatGPT',\n",
       " 'ChatGPT',\n",
       " 'none',\n",
       " 'none',\n",
       " 'Bing AI;ChatGPT',\n",
       " 'ChatGPT',\n",
       " 'Bing AI;ChatGPT;WolframAlpha',\n",
       " 'ChatGPT;WolframAlpha',\n",
       " 'Bing AI;ChatGPT;WolframAlpha',\n",
       " 'Bing AI;ChatGPT',\n",
       " 'none',\n",
       " 'ChatGPT',\n",
       " 'Bing AI;ChatGPT',\n",
       " 'ChatGPT;WolframAlpha',\n",
       " 'Bing AI;ChatGPT',\n",
       " 'none',\n",
       " 'none',\n",
       " 'ChatGPT;Google Bard AI',\n",
       " 'ChatGPT',\n",
       " 'ChatGPT;WolframAlpha',\n",
       " 'ChatGPT',\n",
       " 'WolframAlpha',\n",
       " 'Bing AI;ChatGPT',\n",
       " 'none',\n",
       " 'none',\n",
       " 'ChatGPT',\n",
       " 'ChatGPT',\n",
       " 'ChatGPT',\n",
       " 'none',\n",
       " 'none',\n",
       " 'none',\n",
       " 'none',\n",
       " 'ChatGPT',\n",
       " 'ChatGPT;Google Bard AI',\n",
       " 'none',\n",
       " 'none',\n",
       " 'none',\n",
       " 'Bing AI;ChatGPT',\n",
       " 'none',\n",
       " 'none',\n",
       " 'ChatGPT;WolframAlpha',\n",
       " 'none',\n",
       " 'ChatGPT',\n",
       " 'Bing AI;ChatGPT;Google Bard AI',\n",
       " 'ChatGPT',\n",
       " 'none',\n",
       " 'none',\n",
       " 'none',\n",
       " 'none',\n",
       " 'ChatGPT',\n",
       " 'none',\n",
       " 'ChatGPT',\n",
       " 'WolframAlpha',\n",
       " 'Google Bard AI',\n",
       " 'Bing AI;ChatGPT;WolframAlpha',\n",
       " 'none',\n",
       " 'none',\n",
       " 'none',\n",
       " 'none',\n",
       " 'ChatGPT;WolframAlpha',\n",
       " 'none',\n",
       " 'none',\n",
       " 'ChatGPT',\n",
       " 'ChatGPT',\n",
       " 'ChatGPT',\n",
       " 'none',\n",
       " 'none',\n",
       " 'none',\n",
       " 'ChatGPT',\n",
       " 'ChatGPT',\n",
       " 'ChatGPT',\n",
       " 'ChatGPT',\n",
       " 'none',\n",
       " 'none',\n",
       " 'ChatGPT',\n",
       " 'ChatGPT',\n",
       " 'Bing AI;ChatGPT',\n",
       " 'ChatGPT',\n",
       " 'ChatGPT',\n",
       " 'ChatGPT',\n",
       " 'none',\n",
       " 'WolframAlpha',\n",
       " 'none',\n",
       " 'ChatGPT;WolframAlpha',\n",
       " 'ChatGPT',\n",
       " 'none',\n",
       " 'none',\n",
       " 'none',\n",
       " 'none',\n",
       " 'ChatGPT',\n",
       " 'none',\n",
       " 'ChatGPT',\n",
       " 'ChatGPT',\n",
       " 'none',\n",
       " 'Bing AI;ChatGPT',\n",
       " 'none',\n",
       " 'none',\n",
       " 'ChatGPT',\n",
       " 'none',\n",
       " 'ChatGPT',\n",
       " 'none',\n",
       " 'Bing AI',\n",
       " 'ChatGPT',\n",
       " 'Bing AI;ChatGPT;Google Bard AI;WolframAlpha',\n",
       " 'none',\n",
       " 'ChatGPT',\n",
       " 'none',\n",
       " 'ChatGPT',\n",
       " 'none',\n",
       " 'none',\n",
       " 'none',\n",
       " 'ChatGPT',\n",
       " 'none',\n",
       " 'WolframAlpha',\n",
       " 'none',\n",
       " 'ChatGPT',\n",
       " 'ChatGPT',\n",
       " 'ChatGPT',\n",
       " 'none',\n",
       " 'Bing AI;ChatGPT',\n",
       " 'ChatGPT',\n",
       " 'none',\n",
       " 'ChatGPT',\n",
       " 'ChatGPT',\n",
       " 'none',\n",
       " 'Bing AI',\n",
       " 'ChatGPT',\n",
       " 'ChatGPT',\n",
       " 'ChatGPT',\n",
       " 'none',\n",
       " 'ChatGPT',\n",
       " 'ChatGPT',\n",
       " 'ChatGPT',\n",
       " 'ChatGPT',\n",
       " 'none',\n",
       " 'ChatGPT',\n",
       " 'Bing AI;ChatGPT;Google Bard AI;WolframAlpha',\n",
       " 'none',\n",
       " 'ChatGPT',\n",
       " 'Bing AI;ChatGPT',\n",
       " 'ChatGPT;Google Bard AI',\n",
       " 'ChatGPT',\n",
       " 'ChatGPT',\n",
       " 'ChatGPT',\n",
       " 'Bing AI;ChatGPT;WolframAlpha',\n",
       " 'none',\n",
       " 'ChatGPT;Google Bard AI',\n",
       " 'ChatGPT;Google Bard AI',\n",
       " 'none',\n",
       " 'none',\n",
       " 'none',\n",
       " 'Bing AI;ChatGPT;WolframAlpha',\n",
       " 'ChatGPT;Phind',\n",
       " 'ChatGPT',\n",
       " 'none',\n",
       " 'none',\n",
       " 'none',\n",
       " 'ChatGPT',\n",
       " 'none',\n",
       " 'none',\n",
       " 'none',\n",
       " 'ChatGPT;Phind;WolframAlpha',\n",
       " 'ChatGPT',\n",
       " 'ChatGPT',\n",
       " 'Bing AI;ChatGPT',\n",
       " 'none',\n",
       " 'ChatGPT',\n",
       " 'Bing AI;ChatGPT',\n",
       " 'ChatGPT',\n",
       " 'none',\n",
       " 'Bing AI;ChatGPT',\n",
       " 'none',\n",
       " 'none',\n",
       " 'ChatGPT;WolframAlpha',\n",
       " 'none',\n",
       " 'none',\n",
       " 'ChatGPT',\n",
       " 'Google Bard AI;Quora Poe',\n",
       " 'ChatGPT',\n",
       " 'none',\n",
       " 'ChatGPT',\n",
       " 'Bing AI;ChatGPT',\n",
       " 'none',\n",
       " 'WolframAlpha',\n",
       " 'Bing AI;ChatGPT;WolframAlpha',\n",
       " 'ChatGPT',\n",
       " 'ChatGPT',\n",
       " 'ChatGPT',\n",
       " 'ChatGPT',\n",
       " 'none',\n",
       " 'ChatGPT;WolframAlpha',\n",
       " 'none',\n",
       " 'none',\n",
       " 'ChatGPT',\n",
       " 'none',\n",
       " 'ChatGPT',\n",
       " 'none',\n",
       " 'none',\n",
       " 'ChatGPT;You.com',\n",
       " 'none',\n",
       " 'none',\n",
       " 'none',\n",
       " 'Bing AI;ChatGPT;WolframAlpha',\n",
       " 'ChatGPT',\n",
       " 'ChatGPT;WolframAlpha',\n",
       " 'none',\n",
       " 'ChatGPT',\n",
       " 'ChatGPT',\n",
       " 'Bing AI;ChatGPT',\n",
       " 'ChatGPT',\n",
       " 'ChatGPT',\n",
       " 'Bing AI;ChatGPT;WolframAlpha',\n",
       " 'Phind',\n",
       " 'ChatGPT;Phind;You.com',\n",
       " 'ChatGPT',\n",
       " 'ChatGPT',\n",
       " 'ChatGPT;Google Bard AI',\n",
       " 'ChatGPT',\n",
       " 'ChatGPT',\n",
       " 'ChatGPT',\n",
       " 'ChatGPT',\n",
       " 'none',\n",
       " 'ChatGPT',\n",
       " 'Bing AI;ChatGPT;WolframAlpha',\n",
       " 'none',\n",
       " 'none',\n",
       " 'ChatGPT;WolframAlpha',\n",
       " 'none',\n",
       " 'ChatGPT',\n",
       " 'ChatGPT',\n",
       " 'Bing AI;ChatGPT;Google Bard AI;You.com',\n",
       " 'Google Bard AI',\n",
       " 'ChatGPT',\n",
       " 'Google Bard AI',\n",
       " 'none',\n",
       " 'ChatGPT',\n",
       " 'none',\n",
       " 'Bing AI;ChatGPT;Perplexity AI',\n",
       " 'ChatGPT',\n",
       " 'none',\n",
       " 'none',\n",
       " 'ChatGPT',\n",
       " 'Bing AI;ChatGPT',\n",
       " 'Bing AI;ChatGPT;WolframAlpha',\n",
       " 'Phind',\n",
       " 'ChatGPT',\n",
       " 'ChatGPT;WolframAlpha',\n",
       " 'ChatGPT',\n",
       " 'Bing AI;ChatGPT',\n",
       " 'none',\n",
       " 'ChatGPT',\n",
       " 'ChatGPT;WolframAlpha',\n",
       " 'ChatGPT;WolframAlpha',\n",
       " 'ChatGPT',\n",
       " 'none',\n",
       " 'ChatGPT;WolframAlpha',\n",
       " 'ChatGPT',\n",
       " 'Bing AI;ChatGPT;WolframAlpha',\n",
       " 'none',\n",
       " 'ChatGPT;Quora Poe',\n",
       " 'ChatGPT',\n",
       " 'ChatGPT;Phind',\n",
       " 'ChatGPT',\n",
       " 'ChatGPT',\n",
       " 'Bing AI',\n",
       " 'ChatGPT',\n",
       " 'ChatGPT',\n",
       " 'ChatGPT',\n",
       " 'ChatGPT',\n",
       " 'ChatGPT',\n",
       " 'none',\n",
       " 'ChatGPT',\n",
       " 'Bing AI;ChatGPT',\n",
       " 'none',\n",
       " 'none',\n",
       " 'none',\n",
       " 'Bing AI;ChatGPT;You.com',\n",
       " 'none',\n",
       " 'none',\n",
       " 'ChatGPT;Phind',\n",
       " 'Bing AI;ChatGPT',\n",
       " 'none',\n",
       " 'ChatGPT',\n",
       " 'none',\n",
       " 'ChatGPT;WolframAlpha',\n",
       " 'none',\n",
       " 'ChatGPT',\n",
       " 'Bing AI;Perplexity AI;Quora Poe',\n",
       " 'none',\n",
       " 'none',\n",
       " 'none',\n",
       " 'ChatGPT',\n",
       " 'ChatGPT',\n",
       " 'none',\n",
       " 'ChatGPT',\n",
       " 'none',\n",
       " 'ChatGPT',\n",
       " 'ChatGPT;WolframAlpha',\n",
       " 'ChatGPT',\n",
       " 'Bing AI;ChatGPT',\n",
       " 'none',\n",
       " 'none',\n",
       " 'ChatGPT',\n",
       " 'ChatGPT;Phind',\n",
       " 'none',\n",
       " 'ChatGPT',\n",
       " 'none',\n",
       " 'ChatGPT',\n",
       " 'WolframAlpha',\n",
       " 'ChatGPT',\n",
       " 'ChatGPT',\n",
       " 'ChatGPT;WolframAlpha',\n",
       " 'none',\n",
       " 'ChatGPT',\n",
       " 'ChatGPT;Google Bard AI',\n",
       " 'ChatGPT',\n",
       " 'ChatGPT',\n",
       " 'ChatGPT',\n",
       " 'none',\n",
       " 'none',\n",
       " 'none',\n",
       " 'Bing AI;ChatGPT;Google Bard AI',\n",
       " 'none',\n",
       " 'ChatGPT',\n",
       " 'ChatGPT',\n",
       " 'none',\n",
       " 'ChatGPT',\n",
       " 'ChatGPT',\n",
       " 'none',\n",
       " 'none',\n",
       " 'ChatGPT;WolframAlpha',\n",
       " 'none',\n",
       " 'none',\n",
       " 'ChatGPT',\n",
       " 'none',\n",
       " 'ChatGPT',\n",
       " 'ChatGPT',\n",
       " 'ChatGPT',\n",
       " 'none',\n",
       " 'ChatGPT;WolframAlpha',\n",
       " 'ChatGPT',\n",
       " 'ChatGPT',\n",
       " 'none',\n",
       " 'ChatGPT',\n",
       " 'Bing AI;ChatGPT',\n",
       " 'none',\n",
       " 'ChatGPT',\n",
       " 'ChatGPT;Google Bard AI;WolframAlpha',\n",
       " 'ChatGPT',\n",
       " 'ChatGPT',\n",
       " 'none',\n",
       " 'ChatGPT;WolframAlpha',\n",
       " 'ChatGPT',\n",
       " 'ChatGPT',\n",
       " 'ChatGPT',\n",
       " 'ChatGPT',\n",
       " 'ChatGPT',\n",
       " 'ChatGPT',\n",
       " 'Bing AI;ChatGPT',\n",
       " 'none',\n",
       " 'ChatGPT',\n",
       " 'ChatGPT',\n",
       " 'ChatGPT',\n",
       " 'none',\n",
       " 'ChatGPT',\n",
       " 'none',\n",
       " 'none',\n",
       " 'ChatGPT',\n",
       " 'ChatGPT;WolframAlpha',\n",
       " 'none',\n",
       " 'ChatGPT',\n",
       " 'ChatGPT',\n",
       " 'Bing AI;ChatGPT',\n",
       " 'none',\n",
       " 'Bing AI;ChatGPT;WolframAlpha',\n",
       " 'ChatGPT',\n",
       " 'none',\n",
       " 'Bing AI;ChatGPT;WolframAlpha',\n",
       " 'none',\n",
       " 'none',\n",
       " 'ChatGPT',\n",
       " 'ChatGPT',\n",
       " 'ChatGPT',\n",
       " 'none',\n",
       " 'Bing AI',\n",
       " 'none',\n",
       " 'ChatGPT',\n",
       " 'ChatGPT',\n",
       " 'Bing AI;ChatGPT',\n",
       " 'ChatGPT;Phind',\n",
       " 'Bing AI;ChatGPT',\n",
       " 'ChatGPT',\n",
       " 'ChatGPT',\n",
       " 'ChatGPT',\n",
       " 'Bing AI;ChatGPT',\n",
       " 'ChatGPT',\n",
       " 'ChatGPT',\n",
       " 'ChatGPT',\n",
       " 'ChatGPT',\n",
       " 'none',\n",
       " 'Bing AI;ChatGPT',\n",
       " 'Bing AI;ChatGPT',\n",
       " 'none',\n",
       " 'ChatGPT',\n",
       " 'none',\n",
       " 'ChatGPT',\n",
       " 'ChatGPT;WolframAlpha',\n",
       " 'none',\n",
       " 'none',\n",
       " 'ChatGPT',\n",
       " 'none',\n",
       " 'ChatGPT',\n",
       " 'ChatGPT',\n",
       " 'ChatGPT;WolframAlpha',\n",
       " 'Bing AI',\n",
       " 'none',\n",
       " 'none',\n",
       " 'none',\n",
       " 'ChatGPT;WolframAlpha',\n",
       " 'none',\n",
       " 'ChatGPT',\n",
       " 'none',\n",
       " 'ChatGPT;WolframAlpha',\n",
       " 'ChatGPT',\n",
       " 'Bing AI;ChatGPT',\n",
       " 'none',\n",
       " 'ChatGPT',\n",
       " 'ChatGPT',\n",
       " 'ChatGPT',\n",
       " 'ChatGPT',\n",
       " 'ChatGPT',\n",
       " 'none',\n",
       " 'ChatGPT',\n",
       " 'ChatGPT',\n",
       " 'none',\n",
       " 'none',\n",
       " 'none',\n",
       " 'Bing AI;ChatGPT;Perplexity AI',\n",
       " 'none',\n",
       " 'ChatGPT',\n",
       " 'ChatGPT',\n",
       " 'Andi;Bing AI;ChatGPT;Perplexity AI',\n",
       " 'WolframAlpha',\n",
       " 'Bing AI;ChatGPT;WolframAlpha',\n",
       " 'none',\n",
       " 'Bing AI;ChatGPT',\n",
       " 'ChatGPT',\n",
       " 'ChatGPT',\n",
       " 'ChatGPT',\n",
       " 'ChatGPT;Phind',\n",
       " 'ChatGPT',\n",
       " 'none',\n",
       " 'ChatGPT',\n",
       " 'ChatGPT',\n",
       " 'ChatGPT',\n",
       " 'ChatGPT',\n",
       " 'Bing AI;ChatGPT;Phind',\n",
       " 'none',\n",
       " 'none',\n",
       " 'Bing AI;ChatGPT;Google Bard AI',\n",
       " 'none',\n",
       " 'ChatGPT;WolframAlpha',\n",
       " 'ChatGPT',\n",
       " 'ChatGPT',\n",
       " 'Bing AI;ChatGPT;WolframAlpha',\n",
       " 'ChatGPT',\n",
       " 'ChatGPT',\n",
       " 'ChatGPT',\n",
       " 'none',\n",
       " 'Bing AI;ChatGPT',\n",
       " 'ChatGPT',\n",
       " 'none',\n",
       " 'ChatGPT',\n",
       " 'ChatGPT',\n",
       " 'none',\n",
       " 'none',\n",
       " 'none',\n",
       " 'ChatGPT;WolframAlpha',\n",
       " 'Bing AI;ChatGPT;Google Bard AI;WolframAlpha',\n",
       " 'Bing AI;ChatGPT;WolframAlpha',\n",
       " 'none',\n",
       " 'none',\n",
       " 'ChatGPT',\n",
       " 'ChatGPT',\n",
       " 'Bing AI;ChatGPT;Google Bard AI',\n",
       " 'none',\n",
       " 'none',\n",
       " 'none',\n",
       " 'ChatGPT',\n",
       " 'WolframAlpha',\n",
       " 'ChatGPT',\n",
       " 'ChatGPT',\n",
       " 'none',\n",
       " 'ChatGPT',\n",
       " 'none',\n",
       " 'none',\n",
       " 'Bing AI;ChatGPT',\n",
       " 'Bing AI;ChatGPT',\n",
       " 'ChatGPT',\n",
       " 'none',\n",
       " 'ChatGPT',\n",
       " 'Bing AI;ChatGPT',\n",
       " 'ChatGPT',\n",
       " 'none',\n",
       " 'ChatGPT',\n",
       " 'none',\n",
       " 'none',\n",
       " 'ChatGPT',\n",
       " 'none',\n",
       " 'ChatGPT',\n",
       " 'Google Bard AI;Phind',\n",
       " 'ChatGPT',\n",
       " 'ChatGPT;Phind',\n",
       " 'Bing AI;ChatGPT',\n",
       " 'ChatGPT',\n",
       " 'You.com',\n",
       " 'ChatGPT',\n",
       " 'ChatGPT',\n",
       " 'ChatGPT;WolframAlpha',\n",
       " 'ChatGPT',\n",
       " 'ChatGPT',\n",
       " 'none',\n",
       " 'ChatGPT',\n",
       " 'ChatGPT',\n",
       " 'none',\n",
       " 'none',\n",
       " 'WolframAlpha',\n",
       " ...]"
      ]
     },
     "execution_count": 281,
     "metadata": {},
     "output_type": "execute_result"
    }
   ],
   "source": [
    "column_list = d['AISearchHaveWorkedWith'].tolist()\n",
    "column_list"
   ]
  },
  {
   "cell_type": "code",
   "execution_count": null,
   "id": "9b8ec951",
   "metadata": {},
   "outputs": [],
   "source": []
  },
  {
   "cell_type": "markdown",
   "id": "fe90f236",
   "metadata": {},
   "source": [
    "## To be able to handle columns with more than one response, seperated by ';', we need a function to extract it's contents."
   ]
  },
  {
   "cell_type": "code",
   "execution_count": 282,
   "id": "6aee8a02",
   "metadata": {},
   "outputs": [],
   "source": [
    "# create a function to extract content of each columns as a list\n",
    "import re\n",
    "def column_extract(column):\n",
    "    listed = column.tolist()\n",
    "    new=[]\n",
    "    buffer =[]\n",
    "    for item in listed:\n",
    "        if re.search(r'[A-Za-z]+;[A-Za-z]',item):\n",
    "            buffer=item.split(';')\n",
    "            new = new+buffer\n",
    "        else:\n",
    "            new.append(item)\n",
    "    return new\n",
    "\n",
    "#create another function to bring out the unique items\n",
    "def column_unique(column):\n",
    "    new = column_extract(column)\n",
    "    unique_values =set(new)\n",
    "    unique_values=list(unique_values)\n",
    "    return unique_values\n",
    "#create a function to bring a table of the content counts\n",
    "def column_count(column):\n",
    "    count = {}\n",
    "    new = column_extract(column)\n",
    "    unique_values = column_unique(column)\n",
    "    \n",
    "    for i in unique_values: \n",
    "        count[i]= new.count(i)\n",
    "    return pd.DataFrame(list(count.items()), columns = ['answer','count']).sort_values(by='count',ascending=False)"
   ]
  },
  {
   "cell_type": "code",
   "execution_count": 283,
   "id": "d1d3c61b",
   "metadata": {},
   "outputs": [],
   "source": [
    "content = column_extract(d['MainBranch'])"
   ]
  },
  {
   "cell_type": "code",
   "execution_count": 284,
   "id": "4912eb66",
   "metadata": {},
   "outputs": [
    {
     "data": {
      "text/plain": [
       "['I am a developer by profession',\n",
       " 'I am a developer by profession',\n",
       " 'I am a developer by profession',\n",
       " 'I am a developer by profession',\n",
       " 'I am a developer by profession',\n",
       " 'I am a developer by profession',\n",
       " 'I am a developer by profession',\n",
       " 'I am not primarily a developer, but I write code sometimes as part of my work/studies',\n",
       " 'I am a developer by profession',\n",
       " 'I am a developer by profession',\n",
       " 'I am a developer by profession',\n",
       " 'I am a developer by profession',\n",
       " 'I am not primarily a developer, but I write code sometimes as part of my work/studies',\n",
       " 'I am a developer by profession',\n",
       " 'I am a developer by profession',\n",
       " 'I am a developer by profession',\n",
       " 'I am a developer by profession',\n",
       " 'I am a developer by profession',\n",
       " 'I am a developer by profession',\n",
       " 'I am a developer by profession',\n",
       " 'I am not primarily a developer, but I write code sometimes as part of my work/studies',\n",
       " 'I am a developer by profession',\n",
       " 'I am not primarily a developer, but I write code sometimes as part of my work/studies',\n",
       " 'I am a developer by profession',\n",
       " 'I am a developer by profession',\n",
       " 'I am a developer by profession',\n",
       " 'I am a developer by profession',\n",
       " 'I am a developer by profession',\n",
       " 'I am a developer by profession',\n",
       " 'I am not primarily a developer, but I write code sometimes as part of my work/studies',\n",
       " 'I am a developer by profession',\n",
       " 'I am a developer by profession',\n",
       " 'I am a developer by profession',\n",
       " 'I am not primarily a developer, but I write code sometimes as part of my work/studies',\n",
       " 'I am a developer by profession',\n",
       " 'I am a developer by profession',\n",
       " 'I am a developer by profession',\n",
       " 'I am a developer by profession',\n",
       " 'I am a developer by profession',\n",
       " 'I am a developer by profession',\n",
       " 'I am a developer by profession',\n",
       " 'I am not primarily a developer, but I write code sometimes as part of my work/studies',\n",
       " 'I am a developer by profession',\n",
       " 'I am a developer by profession',\n",
       " 'I am a developer by profession',\n",
       " 'I am a developer by profession',\n",
       " 'I am a developer by profession',\n",
       " 'I am a developer by profession',\n",
       " 'I am a developer by profession',\n",
       " 'I am a developer by profession',\n",
       " 'I am a developer by profession',\n",
       " 'I am a developer by profession',\n",
       " 'I am a developer by profession',\n",
       " 'I am a developer by profession',\n",
       " 'I am a developer by profession',\n",
       " 'I am a developer by profession',\n",
       " 'I am a developer by profession',\n",
       " 'I am a developer by profession',\n",
       " 'I am a developer by profession',\n",
       " 'I am a developer by profession',\n",
       " 'I am a developer by profession',\n",
       " 'I am not primarily a developer, but I write code sometimes as part of my work/studies',\n",
       " 'I am a developer by profession',\n",
       " 'I am a developer by profession',\n",
       " 'I am a developer by profession',\n",
       " 'I am a developer by profession',\n",
       " 'I am a developer by profession',\n",
       " 'I am a developer by profession',\n",
       " 'I am a developer by profession',\n",
       " 'I am a developer by profession',\n",
       " 'I am a developer by profession',\n",
       " 'I am a developer by profession',\n",
       " 'I am a developer by profession',\n",
       " 'I am a developer by profession',\n",
       " 'I am a developer by profession',\n",
       " 'I am a developer by profession',\n",
       " 'I am a developer by profession',\n",
       " 'I am a developer by profession',\n",
       " 'I am a developer by profession',\n",
       " 'I am a developer by profession',\n",
       " 'I am a developer by profession',\n",
       " 'I am a developer by profession',\n",
       " 'I am a developer by profession',\n",
       " 'I am a developer by profession',\n",
       " 'I am a developer by profession',\n",
       " 'I am a developer by profession',\n",
       " 'I am a developer by profession',\n",
       " 'I am a developer by profession',\n",
       " 'I code primarily as a hobby',\n",
       " 'I am a developer by profession',\n",
       " 'I am a developer by profession',\n",
       " 'I am a developer by profession',\n",
       " 'I am a developer by profession',\n",
       " 'I am a developer by profession',\n",
       " 'I am not primarily a developer, but I write code sometimes as part of my work/studies',\n",
       " 'I am a developer by profession',\n",
       " 'I am a developer by profession',\n",
       " 'I am a developer by profession',\n",
       " 'I am a developer by profession',\n",
       " 'I am a developer by profession',\n",
       " 'I am a developer by profession',\n",
       " 'I am a developer by profession',\n",
       " 'I am a developer by profession',\n",
       " 'I am a developer by profession',\n",
       " 'I am a developer by profession',\n",
       " 'I am a developer by profession',\n",
       " 'I am a developer by profession',\n",
       " 'I am a developer by profession',\n",
       " 'I am a developer by profession',\n",
       " 'I am a developer by profession',\n",
       " 'I am a developer by profession',\n",
       " 'I am not primarily a developer, but I write code sometimes as part of my work/studies',\n",
       " 'I am a developer by profession',\n",
       " 'I am a developer by profession',\n",
       " 'I am not primarily a developer, but I write code sometimes as part of my work/studies',\n",
       " 'I am a developer by profession',\n",
       " 'I am a developer by profession',\n",
       " 'I am a developer by profession',\n",
       " 'I am a developer by profession',\n",
       " 'I am a developer by profession',\n",
       " 'I am a developer by profession',\n",
       " 'I am a developer by profession',\n",
       " 'I am a developer by profession',\n",
       " 'I am a developer by profession',\n",
       " 'I am a developer by profession',\n",
       " 'I am a developer by profession',\n",
       " 'I am a developer by profession',\n",
       " 'I used to be a developer by profession, but no longer am',\n",
       " 'I am a developer by profession',\n",
       " 'I am a developer by profession',\n",
       " 'I am a developer by profession',\n",
       " 'I am a developer by profession',\n",
       " 'I am a developer by profession',\n",
       " 'I am a developer by profession',\n",
       " 'I am a developer by profession',\n",
       " 'I am not primarily a developer, but I write code sometimes as part of my work/studies',\n",
       " 'I am a developer by profession',\n",
       " 'I am a developer by profession',\n",
       " 'I am a developer by profession',\n",
       " 'I am learning to code',\n",
       " 'I am a developer by profession',\n",
       " 'I am not primarily a developer, but I write code sometimes as part of my work/studies',\n",
       " 'I am a developer by profession',\n",
       " 'I am a developer by profession',\n",
       " 'I am a developer by profession',\n",
       " 'I am a developer by profession',\n",
       " 'I am a developer by profession',\n",
       " 'I am a developer by profession',\n",
       " 'I am a developer by profession',\n",
       " 'I am a developer by profession',\n",
       " 'I am a developer by profession',\n",
       " 'I am a developer by profession',\n",
       " 'I am a developer by profession',\n",
       " 'I am a developer by profession',\n",
       " 'I am a developer by profession',\n",
       " 'I am a developer by profession',\n",
       " 'I am not primarily a developer, but I write code sometimes as part of my work/studies',\n",
       " 'I am a developer by profession',\n",
       " 'I am a developer by profession',\n",
       " 'I am a developer by profession',\n",
       " 'I am a developer by profession',\n",
       " 'I am a developer by profession',\n",
       " 'I am a developer by profession',\n",
       " 'I am a developer by profession',\n",
       " 'I am a developer by profession',\n",
       " 'I am a developer by profession',\n",
       " 'I am a developer by profession',\n",
       " 'I am a developer by profession',\n",
       " 'I am a developer by profession',\n",
       " 'I am not primarily a developer, but I write code sometimes as part of my work/studies',\n",
       " 'I am a developer by profession',\n",
       " 'I am a developer by profession',\n",
       " 'I am a developer by profession',\n",
       " 'I am a developer by profession',\n",
       " 'I am a developer by profession',\n",
       " 'I am a developer by profession',\n",
       " 'I am a developer by profession',\n",
       " 'I am a developer by profession',\n",
       " 'I am a developer by profession',\n",
       " 'I am a developer by profession',\n",
       " 'I am not primarily a developer, but I write code sometimes as part of my work/studies',\n",
       " 'I am a developer by profession',\n",
       " 'I am a developer by profession',\n",
       " 'I am a developer by profession',\n",
       " 'I am a developer by profession',\n",
       " 'I am a developer by profession',\n",
       " 'I code primarily as a hobby',\n",
       " 'I am a developer by profession',\n",
       " 'I am a developer by profession',\n",
       " 'I am a developer by profession',\n",
       " 'I am a developer by profession',\n",
       " 'I am a developer by profession',\n",
       " 'I am a developer by profession',\n",
       " 'I am a developer by profession',\n",
       " 'I am a developer by profession',\n",
       " 'I am a developer by profession',\n",
       " 'I am a developer by profession',\n",
       " 'I am a developer by profession',\n",
       " 'I am not primarily a developer, but I write code sometimes as part of my work/studies',\n",
       " 'I am a developer by profession',\n",
       " 'I am a developer by profession',\n",
       " 'I am a developer by profession',\n",
       " 'I am a developer by profession',\n",
       " 'I am a developer by profession',\n",
       " 'I am a developer by profession',\n",
       " 'I am a developer by profession',\n",
       " 'I am a developer by profession',\n",
       " 'I am a developer by profession',\n",
       " 'I am a developer by profession',\n",
       " 'I am a developer by profession',\n",
       " 'I am a developer by profession',\n",
       " 'I am not primarily a developer, but I write code sometimes as part of my work/studies',\n",
       " 'I am a developer by profession',\n",
       " 'I am a developer by profession',\n",
       " 'I am a developer by profession',\n",
       " 'I code primarily as a hobby',\n",
       " 'I am a developer by profession',\n",
       " 'I am a developer by profession',\n",
       " 'I am a developer by profession',\n",
       " 'I am a developer by profession',\n",
       " 'I am a developer by profession',\n",
       " 'I am a developer by profession',\n",
       " 'I am a developer by profession',\n",
       " 'I am a developer by profession',\n",
       " 'I am a developer by profession',\n",
       " 'I am a developer by profession',\n",
       " 'I am a developer by profession',\n",
       " 'I am a developer by profession',\n",
       " 'I am a developer by profession',\n",
       " 'I am a developer by profession',\n",
       " 'I am a developer by profession',\n",
       " 'I am a developer by profession',\n",
       " 'I am a developer by profession',\n",
       " 'I am a developer by profession',\n",
       " 'I am a developer by profession',\n",
       " 'I am a developer by profession',\n",
       " 'I am a developer by profession',\n",
       " 'I am a developer by profession',\n",
       " 'I am a developer by profession',\n",
       " 'I am a developer by profession',\n",
       " 'I am a developer by profession',\n",
       " 'I am a developer by profession',\n",
       " 'I am a developer by profession',\n",
       " 'I am a developer by profession',\n",
       " 'I am a developer by profession',\n",
       " 'I am a developer by profession',\n",
       " 'I am a developer by profession',\n",
       " 'I code primarily as a hobby',\n",
       " 'I am a developer by profession',\n",
       " 'I am a developer by profession',\n",
       " 'I am a developer by profession',\n",
       " 'I code primarily as a hobby',\n",
       " 'I used to be a developer by profession, but no longer am',\n",
       " 'I am a developer by profession',\n",
       " 'I am a developer by profession',\n",
       " 'I am a developer by profession',\n",
       " 'I am a developer by profession',\n",
       " 'I am a developer by profession',\n",
       " 'I am a developer by profession',\n",
       " 'I am a developer by profession',\n",
       " 'I am a developer by profession',\n",
       " 'I am a developer by profession',\n",
       " 'I am a developer by profession',\n",
       " 'I am a developer by profession',\n",
       " 'I am a developer by profession',\n",
       " 'I am not primarily a developer, but I write code sometimes as part of my work/studies',\n",
       " 'I am a developer by profession',\n",
       " 'I am a developer by profession',\n",
       " 'I am a developer by profession',\n",
       " 'I am a developer by profession',\n",
       " 'I am a developer by profession',\n",
       " 'I am a developer by profession',\n",
       " 'I am a developer by profession',\n",
       " 'I am not primarily a developer, but I write code sometimes as part of my work/studies',\n",
       " 'I am a developer by profession',\n",
       " 'I am a developer by profession',\n",
       " 'I am a developer by profession',\n",
       " 'I am not primarily a developer, but I write code sometimes as part of my work/studies',\n",
       " 'I am a developer by profession',\n",
       " 'I am a developer by profession',\n",
       " 'I am a developer by profession',\n",
       " 'I am a developer by profession',\n",
       " 'I am a developer by profession',\n",
       " 'I am a developer by profession',\n",
       " 'I am a developer by profession',\n",
       " 'I am a developer by profession',\n",
       " 'I am a developer by profession',\n",
       " 'I am a developer by profession',\n",
       " 'I am a developer by profession',\n",
       " 'I am a developer by profession',\n",
       " 'I am not primarily a developer, but I write code sometimes as part of my work/studies',\n",
       " 'I am a developer by profession',\n",
       " 'I am a developer by profession',\n",
       " 'I am a developer by profession',\n",
       " 'I am a developer by profession',\n",
       " 'I am a developer by profession',\n",
       " 'I am a developer by profession',\n",
       " 'I am a developer by profession',\n",
       " 'I am a developer by profession',\n",
       " 'I am not primarily a developer, but I write code sometimes as part of my work/studies',\n",
       " 'I am a developer by profession',\n",
       " 'I am a developer by profession',\n",
       " 'I am a developer by profession',\n",
       " 'I am a developer by profession',\n",
       " 'I am a developer by profession',\n",
       " 'I code primarily as a hobby',\n",
       " 'I am a developer by profession',\n",
       " 'I am a developer by profession',\n",
       " 'I am a developer by profession',\n",
       " 'I am a developer by profession',\n",
       " 'I am a developer by profession',\n",
       " 'I am a developer by profession',\n",
       " 'I am a developer by profession',\n",
       " 'I am a developer by profession',\n",
       " 'I am a developer by profession',\n",
       " 'I am a developer by profession',\n",
       " 'I am a developer by profession',\n",
       " 'I am a developer by profession',\n",
       " 'I am a developer by profession',\n",
       " 'I am a developer by profession',\n",
       " 'I am a developer by profession',\n",
       " 'I am a developer by profession',\n",
       " 'I am a developer by profession',\n",
       " 'I am a developer by profession',\n",
       " 'I am a developer by profession',\n",
       " 'I am a developer by profession',\n",
       " 'I am a developer by profession',\n",
       " 'I am a developer by profession',\n",
       " 'I am not primarily a developer, but I write code sometimes as part of my work/studies',\n",
       " 'I am a developer by profession',\n",
       " 'I am a developer by profession',\n",
       " 'I am a developer by profession',\n",
       " 'I am a developer by profession',\n",
       " 'I am a developer by profession',\n",
       " 'I am a developer by profession',\n",
       " 'I am a developer by profession',\n",
       " 'I am not primarily a developer, but I write code sometimes as part of my work/studies',\n",
       " 'I am a developer by profession',\n",
       " 'I am a developer by profession',\n",
       " 'I am a developer by profession',\n",
       " 'I am a developer by profession',\n",
       " 'I am a developer by profession',\n",
       " 'I am a developer by profession',\n",
       " 'I am a developer by profession',\n",
       " 'I am a developer by profession',\n",
       " 'I am a developer by profession',\n",
       " 'I am a developer by profession',\n",
       " 'I am a developer by profession',\n",
       " 'I am a developer by profession',\n",
       " 'I am a developer by profession',\n",
       " 'I am a developer by profession',\n",
       " 'I am a developer by profession',\n",
       " 'I am a developer by profession',\n",
       " 'I am a developer by profession',\n",
       " 'I am a developer by profession',\n",
       " 'I am a developer by profession',\n",
       " 'I am not primarily a developer, but I write code sometimes as part of my work/studies',\n",
       " 'I am a developer by profession',\n",
       " 'I am a developer by profession',\n",
       " 'I am a developer by profession',\n",
       " 'I used to be a developer by profession, but no longer am',\n",
       " 'I am a developer by profession',\n",
       " 'I am a developer by profession',\n",
       " 'I am a developer by profession',\n",
       " 'I am a developer by profession',\n",
       " 'I am not primarily a developer, but I write code sometimes as part of my work/studies',\n",
       " 'I am a developer by profession',\n",
       " 'I am not primarily a developer, but I write code sometimes as part of my work/studies',\n",
       " 'I am a developer by profession',\n",
       " 'I am not primarily a developer, but I write code sometimes as part of my work/studies',\n",
       " 'I am a developer by profession',\n",
       " 'I am a developer by profession',\n",
       " 'I am a developer by profession',\n",
       " 'I am learning to code',\n",
       " 'I am a developer by profession',\n",
       " 'I am a developer by profession',\n",
       " 'I am a developer by profession',\n",
       " 'I am a developer by profession',\n",
       " 'I am a developer by profession',\n",
       " 'I am a developer by profession',\n",
       " 'I am a developer by profession',\n",
       " 'I am a developer by profession',\n",
       " 'I am a developer by profession',\n",
       " 'I am a developer by profession',\n",
       " 'I am a developer by profession',\n",
       " 'I am a developer by profession',\n",
       " 'I am a developer by profession',\n",
       " 'I am a developer by profession',\n",
       " 'I am a developer by profession',\n",
       " 'I am a developer by profession',\n",
       " 'I am a developer by profession',\n",
       " 'I am a developer by profession',\n",
       " 'I am a developer by profession',\n",
       " 'I am a developer by profession',\n",
       " 'I am a developer by profession',\n",
       " 'I am a developer by profession',\n",
       " 'I am a developer by profession',\n",
       " 'I am a developer by profession',\n",
       " 'I am a developer by profession',\n",
       " 'I am a developer by profession',\n",
       " 'I am a developer by profession',\n",
       " 'I am not primarily a developer, but I write code sometimes as part of my work/studies',\n",
       " 'I used to be a developer by profession, but no longer am',\n",
       " 'I am a developer by profession',\n",
       " 'I am a developer by profession',\n",
       " 'I am a developer by profession',\n",
       " 'I am a developer by profession',\n",
       " 'I am a developer by profession',\n",
       " 'I am a developer by profession',\n",
       " 'I am a developer by profession',\n",
       " 'I am not primarily a developer, but I write code sometimes as part of my work/studies',\n",
       " 'I am a developer by profession',\n",
       " 'I am a developer by profession',\n",
       " 'I am a developer by profession',\n",
       " 'I am a developer by profession',\n",
       " 'I am a developer by profession',\n",
       " 'I am a developer by profession',\n",
       " 'I am a developer by profession',\n",
       " 'I am a developer by profession',\n",
       " 'I am a developer by profession',\n",
       " 'I am a developer by profession',\n",
       " 'I am a developer by profession',\n",
       " 'I am a developer by profession',\n",
       " 'I am a developer by profession',\n",
       " 'I am a developer by profession',\n",
       " 'I am a developer by profession',\n",
       " 'I am a developer by profession',\n",
       " 'I am a developer by profession',\n",
       " 'I am a developer by profession',\n",
       " 'I am a developer by profession',\n",
       " 'I am a developer by profession',\n",
       " 'I am a developer by profession',\n",
       " 'I code primarily as a hobby',\n",
       " 'I am a developer by profession',\n",
       " 'I am a developer by profession',\n",
       " 'I am a developer by profession',\n",
       " 'I am a developer by profession',\n",
       " 'I am a developer by profession',\n",
       " 'I am a developer by profession',\n",
       " 'I am a developer by profession',\n",
       " 'I am a developer by profession',\n",
       " 'I am a developer by profession',\n",
       " 'I am a developer by profession',\n",
       " 'I am a developer by profession',\n",
       " 'I am a developer by profession',\n",
       " 'I am a developer by profession',\n",
       " 'I am not primarily a developer, but I write code sometimes as part of my work/studies',\n",
       " 'I am a developer by profession',\n",
       " 'I am a developer by profession',\n",
       " 'I am a developer by profession',\n",
       " 'I am a developer by profession',\n",
       " 'I am a developer by profession',\n",
       " 'I am not primarily a developer, but I write code sometimes as part of my work/studies',\n",
       " 'I am a developer by profession',\n",
       " 'I am not primarily a developer, but I write code sometimes as part of my work/studies',\n",
       " 'I am a developer by profession',\n",
       " 'I am a developer by profession',\n",
       " 'I am a developer by profession',\n",
       " 'I am a developer by profession',\n",
       " 'I am a developer by profession',\n",
       " 'I am a developer by profession',\n",
       " 'I am a developer by profession',\n",
       " 'I am a developer by profession',\n",
       " 'I am a developer by profession',\n",
       " 'I am a developer by profession',\n",
       " 'I am a developer by profession',\n",
       " 'I am a developer by profession',\n",
       " 'I am a developer by profession',\n",
       " 'I am a developer by profession',\n",
       " 'I am a developer by profession',\n",
       " 'I am a developer by profession',\n",
       " 'I am a developer by profession',\n",
       " 'I am a developer by profession',\n",
       " 'I am a developer by profession',\n",
       " 'I am not primarily a developer, but I write code sometimes as part of my work/studies',\n",
       " 'I am a developer by profession',\n",
       " 'I am a developer by profession',\n",
       " 'I am a developer by profession',\n",
       " 'I am a developer by profession',\n",
       " 'I am a developer by profession',\n",
       " 'I am a developer by profession',\n",
       " 'I am a developer by profession',\n",
       " 'I am a developer by profession',\n",
       " 'I am a developer by profession',\n",
       " 'I am not primarily a developer, but I write code sometimes as part of my work/studies',\n",
       " 'I am not primarily a developer, but I write code sometimes as part of my work/studies',\n",
       " 'I am a developer by profession',\n",
       " 'I am a developer by profession',\n",
       " 'I am a developer by profession',\n",
       " 'I am a developer by profession',\n",
       " 'I am a developer by profession',\n",
       " 'I am a developer by profession',\n",
       " 'I am a developer by profession',\n",
       " 'I am a developer by profession',\n",
       " 'I am a developer by profession',\n",
       " 'I am a developer by profession',\n",
       " 'I am a developer by profession',\n",
       " 'I am a developer by profession',\n",
       " 'I am a developer by profession',\n",
       " 'I am not primarily a developer, but I write code sometimes as part of my work/studies',\n",
       " 'I am a developer by profession',\n",
       " 'I am a developer by profession',\n",
       " 'I am a developer by profession',\n",
       " 'I am a developer by profession',\n",
       " 'I am a developer by profession',\n",
       " 'I am a developer by profession',\n",
       " 'I am a developer by profession',\n",
       " 'I am a developer by profession',\n",
       " 'I am a developer by profession',\n",
       " 'I am a developer by profession',\n",
       " 'I code primarily as a hobby',\n",
       " 'I am a developer by profession',\n",
       " 'I am not primarily a developer, but I write code sometimes as part of my work/studies',\n",
       " 'I am a developer by profession',\n",
       " 'I am a developer by profession',\n",
       " 'I am a developer by profession',\n",
       " 'I am a developer by profession',\n",
       " 'I code primarily as a hobby',\n",
       " 'I am a developer by profession',\n",
       " 'I am a developer by profession',\n",
       " 'I am a developer by profession',\n",
       " 'I am not primarily a developer, but I write code sometimes as part of my work/studies',\n",
       " 'I am a developer by profession',\n",
       " 'I am a developer by profession',\n",
       " 'I am a developer by profession',\n",
       " 'I am not primarily a developer, but I write code sometimes as part of my work/studies',\n",
       " 'I code primarily as a hobby',\n",
       " 'I am a developer by profession',\n",
       " 'I am a developer by profession',\n",
       " 'I am not primarily a developer, but I write code sometimes as part of my work/studies',\n",
       " 'I am a developer by profession',\n",
       " 'I am a developer by profession',\n",
       " 'I am a developer by profession',\n",
       " 'I am a developer by profession',\n",
       " 'I am a developer by profession',\n",
       " 'I am a developer by profession',\n",
       " 'I am a developer by profession',\n",
       " 'I am a developer by profession',\n",
       " 'I am a developer by profession',\n",
       " 'I am a developer by profession',\n",
       " 'I am a developer by profession',\n",
       " 'I am a developer by profession',\n",
       " 'I am a developer by profession',\n",
       " 'I am a developer by profession',\n",
       " 'I am a developer by profession',\n",
       " 'I am a developer by profession',\n",
       " 'I am a developer by profession',\n",
       " 'I am a developer by profession',\n",
       " 'I am a developer by profession',\n",
       " 'I code primarily as a hobby',\n",
       " 'I am a developer by profession',\n",
       " 'I am a developer by profession',\n",
       " 'I am a developer by profession',\n",
       " 'I am a developer by profession',\n",
       " 'I am a developer by profession',\n",
       " 'I am not primarily a developer, but I write code sometimes as part of my work/studies',\n",
       " 'I am a developer by profession',\n",
       " 'I am a developer by profession',\n",
       " 'I am a developer by profession',\n",
       " 'I am a developer by profession',\n",
       " 'I am a developer by profession',\n",
       " 'I am a developer by profession',\n",
       " 'I am a developer by profession',\n",
       " 'I am a developer by profession',\n",
       " 'I am a developer by profession',\n",
       " 'I am a developer by profession',\n",
       " 'I am a developer by profession',\n",
       " 'I am a developer by profession',\n",
       " 'I am a developer by profession',\n",
       " 'I am a developer by profession',\n",
       " 'I am a developer by profession',\n",
       " 'I am a developer by profession',\n",
       " 'I am a developer by profession',\n",
       " 'I am a developer by profession',\n",
       " 'I am a developer by profession',\n",
       " 'I am a developer by profession',\n",
       " 'I am a developer by profession',\n",
       " 'I am a developer by profession',\n",
       " 'I am a developer by profession',\n",
       " 'I am a developer by profession',\n",
       " 'I am a developer by profession',\n",
       " 'I am a developer by profession',\n",
       " 'I am a developer by profession',\n",
       " 'I am a developer by profession',\n",
       " 'I am a developer by profession',\n",
       " 'I am a developer by profession',\n",
       " 'I am a developer by profession',\n",
       " 'I am a developer by profession',\n",
       " 'I am a developer by profession',\n",
       " 'I am a developer by profession',\n",
       " 'I am a developer by profession',\n",
       " 'I am a developer by profession',\n",
       " 'I used to be a developer by profession, but no longer am',\n",
       " 'I am a developer by profession',\n",
       " 'I am a developer by profession',\n",
       " 'I am a developer by profession',\n",
       " 'I am not primarily a developer, but I write code sometimes as part of my work/studies',\n",
       " 'I am a developer by profession',\n",
       " 'I am a developer by profession',\n",
       " 'I am a developer by profession',\n",
       " 'I am a developer by profession',\n",
       " 'I am a developer by profession',\n",
       " 'I am a developer by profession',\n",
       " 'I am a developer by profession',\n",
       " 'I am a developer by profession',\n",
       " 'I am a developer by profession',\n",
       " 'I am a developer by profession',\n",
       " 'I am a developer by profession',\n",
       " 'I am a developer by profession',\n",
       " 'I am a developer by profession',\n",
       " 'I am not primarily a developer, but I write code sometimes as part of my work/studies',\n",
       " 'I am a developer by profession',\n",
       " 'I am a developer by profession',\n",
       " 'I am a developer by profession',\n",
       " 'I am learning to code',\n",
       " 'I am a developer by profession',\n",
       " 'I am a developer by profession',\n",
       " 'I am a developer by profession',\n",
       " 'I am a developer by profession',\n",
       " 'I am not primarily a developer, but I write code sometimes as part of my work/studies',\n",
       " 'I used to be a developer by profession, but no longer am',\n",
       " 'I am a developer by profession',\n",
       " 'I am a developer by profession',\n",
       " 'I am a developer by profession',\n",
       " 'I am a developer by profession',\n",
       " 'I am a developer by profession',\n",
       " 'I am a developer by profession',\n",
       " 'I am a developer by profession',\n",
       " 'I am a developer by profession',\n",
       " 'I am a developer by profession',\n",
       " 'I am a developer by profession',\n",
       " 'I am a developer by profession',\n",
       " 'I am a developer by profession',\n",
       " 'I am a developer by profession',\n",
       " 'I am a developer by profession',\n",
       " 'I am a developer by profession',\n",
       " 'I am a developer by profession',\n",
       " 'I am a developer by profession',\n",
       " 'I am a developer by profession',\n",
       " 'I am a developer by profession',\n",
       " 'I am not primarily a developer, but I write code sometimes as part of my work/studies',\n",
       " 'I am a developer by profession',\n",
       " 'I am a developer by profession',\n",
       " 'I am a developer by profession',\n",
       " 'I am a developer by profession',\n",
       " 'I am a developer by profession',\n",
       " 'I am a developer by profession',\n",
       " 'I am a developer by profession',\n",
       " 'I am a developer by profession',\n",
       " 'I am a developer by profession',\n",
       " 'I am a developer by profession',\n",
       " 'I am a developer by profession',\n",
       " 'I am a developer by profession',\n",
       " 'I am a developer by profession',\n",
       " 'I am not primarily a developer, but I write code sometimes as part of my work/studies',\n",
       " 'I am a developer by profession',\n",
       " 'I am not primarily a developer, but I write code sometimes as part of my work/studies',\n",
       " 'I am not primarily a developer, but I write code sometimes as part of my work/studies',\n",
       " 'I am a developer by profession',\n",
       " 'I am a developer by profession',\n",
       " 'I am a developer by profession',\n",
       " 'I am a developer by profession',\n",
       " 'I am a developer by profession',\n",
       " 'I am not primarily a developer, but I write code sometimes as part of my work/studies',\n",
       " 'I am a developer by profession',\n",
       " 'I am a developer by profession',\n",
       " 'I am not primarily a developer, but I write code sometimes as part of my work/studies',\n",
       " 'I am a developer by profession',\n",
       " 'I am a developer by profession',\n",
       " 'I am a developer by profession',\n",
       " 'I am a developer by profession',\n",
       " 'I am a developer by profession',\n",
       " 'I am a developer by profession',\n",
       " 'I am a developer by profession',\n",
       " 'I am a developer by profession',\n",
       " 'I am not primarily a developer, but I write code sometimes as part of my work/studies',\n",
       " 'I code primarily as a hobby',\n",
       " 'I used to be a developer by profession, but no longer am',\n",
       " 'I am a developer by profession',\n",
       " 'I am a developer by profession',\n",
       " 'I am a developer by profession',\n",
       " 'I am a developer by profession',\n",
       " 'I am a developer by profession',\n",
       " 'I am a developer by profession',\n",
       " 'I am learning to code',\n",
       " 'I am a developer by profession',\n",
       " 'I am a developer by profession',\n",
       " 'I am a developer by profession',\n",
       " 'I am a developer by profession',\n",
       " 'I am a developer by profession',\n",
       " 'I am a developer by profession',\n",
       " 'I am a developer by profession',\n",
       " 'I am a developer by profession',\n",
       " 'I am a developer by profession',\n",
       " 'I am a developer by profession',\n",
       " 'I am not primarily a developer, but I write code sometimes as part of my work/studies',\n",
       " 'I am a developer by profession',\n",
       " 'I am a developer by profession',\n",
       " 'I am a developer by profession',\n",
       " 'I am not primarily a developer, but I write code sometimes as part of my work/studies',\n",
       " 'I am a developer by profession',\n",
       " 'I am a developer by profession',\n",
       " 'I am a developer by profession',\n",
       " 'I code primarily as a hobby',\n",
       " 'I am a developer by profession',\n",
       " 'I am a developer by profession',\n",
       " 'I am a developer by profession',\n",
       " 'I am a developer by profession',\n",
       " 'I am a developer by profession',\n",
       " 'I am a developer by profession',\n",
       " 'I am a developer by profession',\n",
       " 'I am not primarily a developer, but I write code sometimes as part of my work/studies',\n",
       " 'I am a developer by profession',\n",
       " 'I am a developer by profession',\n",
       " 'I am a developer by profession',\n",
       " 'I code primarily as a hobby',\n",
       " 'I am a developer by profession',\n",
       " 'I am a developer by profession',\n",
       " 'I am a developer by profession',\n",
       " 'I am a developer by profession',\n",
       " 'I am not primarily a developer, but I write code sometimes as part of my work/studies',\n",
       " 'I am a developer by profession',\n",
       " 'I am a developer by profession',\n",
       " 'I am a developer by profession',\n",
       " 'I am learning to code',\n",
       " 'I am a developer by profession',\n",
       " 'I am learning to code',\n",
       " 'I am not primarily a developer, but I write code sometimes as part of my work/studies',\n",
       " 'I am a developer by profession',\n",
       " 'I am a developer by profession',\n",
       " 'I am learning to code',\n",
       " 'I am a developer by profession',\n",
       " 'I am learning to code',\n",
       " 'I am a developer by profession',\n",
       " 'I am a developer by profession',\n",
       " 'I am a developer by profession',\n",
       " 'I am a developer by profession',\n",
       " 'I am a developer by profession',\n",
       " 'I am a developer by profession',\n",
       " 'I am a developer by profession',\n",
       " 'I am a developer by profession',\n",
       " 'I am a developer by profession',\n",
       " 'I am a developer by profession',\n",
       " 'I am a developer by profession',\n",
       " 'I am not primarily a developer, but I write code sometimes as part of my work/studies',\n",
       " 'I am a developer by profession',\n",
       " 'I used to be a developer by profession, but no longer am',\n",
       " 'I am a developer by profession',\n",
       " 'I am a developer by profession',\n",
       " 'I am a developer by profession',\n",
       " 'I am not primarily a developer, but I write code sometimes as part of my work/studies',\n",
       " 'I am a developer by profession',\n",
       " 'I am a developer by profession',\n",
       " 'I am a developer by profession',\n",
       " 'I am a developer by profession',\n",
       " 'I am a developer by profession',\n",
       " 'I am a developer by profession',\n",
       " 'I am a developer by profession',\n",
       " 'I am a developer by profession',\n",
       " 'I am a developer by profession',\n",
       " 'I am a developer by profession',\n",
       " 'I am a developer by profession',\n",
       " 'I am a developer by profession',\n",
       " 'I am not primarily a developer, but I write code sometimes as part of my work/studies',\n",
       " 'I am a developer by profession',\n",
       " 'I am a developer by profession',\n",
       " 'I am a developer by profession',\n",
       " 'I am a developer by profession',\n",
       " 'I am a developer by profession',\n",
       " 'I am learning to code',\n",
       " 'I am not primarily a developer, but I write code sometimes as part of my work/studies',\n",
       " 'I am a developer by profession',\n",
       " 'I am a developer by profession',\n",
       " 'I am a developer by profession',\n",
       " 'I am not primarily a developer, but I write code sometimes as part of my work/studies',\n",
       " 'I am a developer by profession',\n",
       " 'I am not primarily a developer, but I write code sometimes as part of my work/studies',\n",
       " 'I am a developer by profession',\n",
       " 'I am a developer by profession',\n",
       " 'I am a developer by profession',\n",
       " 'I am a developer by profession',\n",
       " 'I am a developer by profession',\n",
       " 'I am a developer by profession',\n",
       " 'I am a developer by profession',\n",
       " 'I am not primarily a developer, but I write code sometimes as part of my work/studies',\n",
       " 'I am a developer by profession',\n",
       " 'I am a developer by profession',\n",
       " 'I am a developer by profession',\n",
       " 'I am a developer by profession',\n",
       " 'I am a developer by profession',\n",
       " 'I am a developer by profession',\n",
       " 'I am a developer by profession',\n",
       " 'I am a developer by profession',\n",
       " 'I am a developer by profession',\n",
       " 'I am a developer by profession',\n",
       " 'I am a developer by profession',\n",
       " 'I am a developer by profession',\n",
       " 'I am a developer by profession',\n",
       " 'I am a developer by profession',\n",
       " 'I am a developer by profession',\n",
       " 'I am a developer by profession',\n",
       " 'I am a developer by profession',\n",
       " 'I am a developer by profession',\n",
       " 'I am not primarily a developer, but I write code sometimes as part of my work/studies',\n",
       " 'I am a developer by profession',\n",
       " 'I am a developer by profession',\n",
       " 'I am a developer by profession',\n",
       " 'I am a developer by profession',\n",
       " 'I am a developer by profession',\n",
       " 'I am a developer by profession',\n",
       " 'I am a developer by profession',\n",
       " 'I am a developer by profession',\n",
       " 'I am a developer by profession',\n",
       " 'I am a developer by profession',\n",
       " 'I am a developer by profession',\n",
       " 'I am a developer by profession',\n",
       " 'I am a developer by profession',\n",
       " 'I am a developer by profession',\n",
       " 'I am a developer by profession',\n",
       " 'I am a developer by profession',\n",
       " 'I am a developer by profession',\n",
       " 'I am a developer by profession',\n",
       " 'I am a developer by profession',\n",
       " 'I am a developer by profession',\n",
       " 'I am a developer by profession',\n",
       " 'I am a developer by profession',\n",
       " 'I am a developer by profession',\n",
       " 'I am a developer by profession',\n",
       " 'I am a developer by profession',\n",
       " 'I am a developer by profession',\n",
       " 'I am a developer by profession',\n",
       " 'I am a developer by profession',\n",
       " 'I am a developer by profession',\n",
       " 'I am a developer by profession',\n",
       " 'I am a developer by profession',\n",
       " 'I am a developer by profession',\n",
       " 'I am a developer by profession',\n",
       " 'I am a developer by profession',\n",
       " 'I am a developer by profession',\n",
       " 'I am a developer by profession',\n",
       " 'I am a developer by profession',\n",
       " 'I am learning to code',\n",
       " 'I am not primarily a developer, but I write code sometimes as part of my work/studies',\n",
       " 'I am a developer by profession',\n",
       " 'I am a developer by profession',\n",
       " 'I am a developer by profession',\n",
       " 'I am a developer by profession',\n",
       " 'I am a developer by profession',\n",
       " 'I am a developer by profession',\n",
       " 'I am a developer by profession',\n",
       " 'I am a developer by profession',\n",
       " 'I am a developer by profession',\n",
       " 'I am a developer by profession',\n",
       " 'I am a developer by profession',\n",
       " 'I am not primarily a developer, but I write code sometimes as part of my work/studies',\n",
       " 'I am not primarily a developer, but I write code sometimes as part of my work/studies',\n",
       " 'I am a developer by profession',\n",
       " 'I am a developer by profession',\n",
       " 'I am a developer by profession',\n",
       " 'I am a developer by profession',\n",
       " 'I am a developer by profession',\n",
       " 'I am a developer by profession',\n",
       " 'I am a developer by profession',\n",
       " 'I am not primarily a developer, but I write code sometimes as part of my work/studies',\n",
       " 'I am not primarily a developer, but I write code sometimes as part of my work/studies',\n",
       " 'I am a developer by profession',\n",
       " 'I am a developer by profession',\n",
       " 'I am a developer by profession',\n",
       " 'I am a developer by profession',\n",
       " 'I am a developer by profession',\n",
       " 'I am a developer by profession',\n",
       " 'I am a developer by profession',\n",
       " 'I am not primarily a developer, but I write code sometimes as part of my work/studies',\n",
       " 'I am a developer by profession',\n",
       " 'I am learning to code',\n",
       " 'I am a developer by profession',\n",
       " 'I am a developer by profession',\n",
       " 'I am not primarily a developer, but I write code sometimes as part of my work/studies',\n",
       " 'I am a developer by profession',\n",
       " 'I am a developer by profession',\n",
       " 'I am a developer by profession',\n",
       " 'I am a developer by profession',\n",
       " 'I am a developer by profession',\n",
       " 'I am a developer by profession',\n",
       " 'I am a developer by profession',\n",
       " 'I am a developer by profession',\n",
       " 'I am a developer by profession',\n",
       " 'I code primarily as a hobby',\n",
       " 'I am a developer by profession',\n",
       " 'I am a developer by profession',\n",
       " 'I am a developer by profession',\n",
       " 'I am not primarily a developer, but I write code sometimes as part of my work/studies',\n",
       " 'I am a developer by profession',\n",
       " 'I am a developer by profession',\n",
       " 'I am a developer by profession',\n",
       " 'I am not primarily a developer, but I write code sometimes as part of my work/studies',\n",
       " 'I am a developer by profession',\n",
       " 'I am a developer by profession',\n",
       " 'I am not primarily a developer, but I write code sometimes as part of my work/studies',\n",
       " 'I am a developer by profession',\n",
       " 'I am a developer by profession',\n",
       " 'I am a developer by profession',\n",
       " 'I code primarily as a hobby',\n",
       " 'I am a developer by profession',\n",
       " 'I am a developer by profession',\n",
       " 'I am a developer by profession',\n",
       " 'I am a developer by profession',\n",
       " 'I am a developer by profession',\n",
       " 'I am a developer by profession',\n",
       " 'I am a developer by profession',\n",
       " 'I am a developer by profession',\n",
       " 'I am a developer by profession',\n",
       " 'I am a developer by profession',\n",
       " 'I am learning to code',\n",
       " 'I am a developer by profession',\n",
       " 'I am a developer by profession',\n",
       " 'I am a developer by profession',\n",
       " 'I am a developer by profession',\n",
       " 'I am a developer by profession',\n",
       " 'I am a developer by profession',\n",
       " 'I am a developer by profession',\n",
       " 'I am a developer by profession',\n",
       " 'I am a developer by profession',\n",
       " 'I am a developer by profession',\n",
       " 'I am a developer by profession',\n",
       " 'I am a developer by profession',\n",
       " 'I am a developer by profession',\n",
       " 'I used to be a developer by profession, but no longer am',\n",
       " 'I am a developer by profession',\n",
       " 'I am a developer by profession',\n",
       " 'I am a developer by profession',\n",
       " 'I am a developer by profession',\n",
       " 'I am a developer by profession',\n",
       " 'I am a developer by profession',\n",
       " 'I am a developer by profession',\n",
       " 'I am a developer by profession',\n",
       " 'I am a developer by profession',\n",
       " 'I am a developer by profession',\n",
       " 'I am a developer by profession',\n",
       " 'I am a developer by profession',\n",
       " 'I am a developer by profession',\n",
       " 'I am a developer by profession',\n",
       " 'I am learning to code',\n",
       " 'I am a developer by profession',\n",
       " 'I am a developer by profession',\n",
       " 'I am a developer by profession',\n",
       " 'I am a developer by profession',\n",
       " 'I am not primarily a developer, but I write code sometimes as part of my work/studies',\n",
       " 'I am not primarily a developer, but I write code sometimes as part of my work/studies',\n",
       " 'I am a developer by profession',\n",
       " 'I am a developer by profession',\n",
       " 'I used to be a developer by profession, but no longer am',\n",
       " 'I am a developer by profession',\n",
       " 'I am a developer by profession',\n",
       " 'I am a developer by profession',\n",
       " 'I am a developer by profession',\n",
       " 'I am a developer by profession',\n",
       " 'I am a developer by profession',\n",
       " 'I am not primarily a developer, but I write code sometimes as part of my work/studies',\n",
       " 'I am a developer by profession',\n",
       " 'I am a developer by profession',\n",
       " 'I am a developer by profession',\n",
       " 'I am a developer by profession',\n",
       " 'I am a developer by profession',\n",
       " 'I am a developer by profession',\n",
       " 'I am a developer by profession',\n",
       " 'I am a developer by profession',\n",
       " 'I am a developer by profession',\n",
       " 'I am a developer by profession',\n",
       " 'I am a developer by profession',\n",
       " 'I am a developer by profession',\n",
       " 'I am a developer by profession',\n",
       " 'I am a developer by profession',\n",
       " 'I am a developer by profession',\n",
       " 'I am a developer by profession',\n",
       " 'I used to be a developer by profession, but no longer am',\n",
       " 'I am not primarily a developer, but I write code sometimes as part of my work/studies',\n",
       " 'I am a developer by profession',\n",
       " 'I am a developer by profession',\n",
       " 'I am a developer by profession',\n",
       " 'I am a developer by profession',\n",
       " 'I am a developer by profession',\n",
       " 'I am a developer by profession',\n",
       " 'I am a developer by profession',\n",
       " 'I am a developer by profession',\n",
       " 'I am a developer by profession',\n",
       " 'I am a developer by profession',\n",
       " 'I am a developer by profession',\n",
       " 'I am a developer by profession',\n",
       " 'I am a developer by profession',\n",
       " 'I am a developer by profession',\n",
       " 'I am a developer by profession',\n",
       " 'I am a developer by profession',\n",
       " 'I am a developer by profession',\n",
       " 'I am a developer by profession',\n",
       " 'I am a developer by profession',\n",
       " 'I am a developer by profession',\n",
       " 'I am a developer by profession',\n",
       " 'I am not primarily a developer, but I write code sometimes as part of my work/studies',\n",
       " 'I am a developer by profession',\n",
       " ...]"
      ]
     },
     "execution_count": 284,
     "metadata": {},
     "output_type": "execute_result"
    }
   ],
   "source": [
    "content"
   ]
  },
  {
   "cell_type": "code",
   "execution_count": 285,
   "id": "da7029fc",
   "metadata": {},
   "outputs": [
    {
     "data": {
      "text/plain": [
       "0        I am a developer by profession\n",
       "1        I am a developer by profession\n",
       "2        I am a developer by profession\n",
       "3        I am a developer by profession\n",
       "4        I am a developer by profession\n",
       "                      ...              \n",
       "71024    I am a developer by profession\n",
       "71025    I am a developer by profession\n",
       "71026    I am a developer by profession\n",
       "71027    I am a developer by profession\n",
       "71028    I am a developer by profession\n",
       "Name: MainBranch, Length: 71029, dtype: object"
      ]
     },
     "execution_count": 285,
     "metadata": {},
     "output_type": "execute_result"
    }
   ],
   "source": [
    "d['MainBranch']"
   ]
  },
  {
   "cell_type": "code",
   "execution_count": null,
   "id": "80db438f",
   "metadata": {},
   "outputs": [],
   "source": []
  },
  {
   "cell_type": "code",
   "execution_count": 286,
   "id": "a0ba223b",
   "metadata": {},
   "outputs": [],
   "source": [
    "#A function to handle everything and try it out\n",
    "def plotter(name):\n",
    "    MB =column_count(name)\n",
    "    DB = MB.copy()\n",
    "    encode = [chr(i) for i in range(97,123)]\n",
    "    index = 0\n",
    "    answer ={}\n",
    "    for i in MB.answer:\n",
    "        answer[i] =encode[index]\n",
    "        index = index+1\n",
    "    label = answer\n",
    "    DB.answer = DB.answer.map(answer)\n",
    "    graph = px.bar(DB, x = \"answer\", y =\"count\", color = \"answer\")\n",
    "    return graph,label\n",
    "    \n",
    "graph, label = plotter(d['ProfessionalTech']) "
   ]
  },
  {
   "cell_type": "code",
   "execution_count": 287,
   "id": "25cc68b6",
   "metadata": {},
   "outputs": [
    {
     "data": {
      "application/vnd.plotly.v1+json": {
       "config": {
        "plotlyServerURL": "https://plot.ly"
       },
       "data": [
        {
         "alignmentgroup": "True",
         "hovertemplate": "answer=%{x}<br>count=%{y}<extra></extra>",
         "legendgroup": "a",
         "marker": {
          "color": "#636efa",
          "pattern": {
           "shape": ""
          }
         },
         "name": "a",
         "offsetgroup": "a",
         "orientation": "v",
         "showlegend": true,
         "textposition": "auto",
         "type": "bar",
         "x": [
          "a"
         ],
         "xaxis": "x",
         "y": [
          30040
         ],
         "yaxis": "y"
        },
        {
         "alignmentgroup": "True",
         "hovertemplate": "answer=%{x}<br>count=%{y}<extra></extra>",
         "legendgroup": "b",
         "marker": {
          "color": "#EF553B",
          "pattern": {
           "shape": ""
          }
         },
         "name": "b",
         "offsetgroup": "b",
         "orientation": "v",
         "showlegend": true,
         "textposition": "auto",
         "type": "bar",
         "x": [
          "b"
         ],
         "xaxis": "x",
         "y": [
          29314
         ],
         "yaxis": "y"
        },
        {
         "alignmentgroup": "True",
         "hovertemplate": "answer=%{x}<br>count=%{y}<extra></extra>",
         "legendgroup": "c",
         "marker": {
          "color": "#00cc96",
          "pattern": {
           "shape": ""
          }
         },
         "name": "c",
         "offsetgroup": "c",
         "orientation": "v",
         "showlegend": true,
         "textposition": "auto",
         "type": "bar",
         "x": [
          "c"
         ],
         "xaxis": "x",
         "y": [
          25377
         ],
         "yaxis": "y"
        },
        {
         "alignmentgroup": "True",
         "hovertemplate": "answer=%{x}<br>count=%{y}<extra></extra>",
         "legendgroup": "d",
         "marker": {
          "color": "#ab63fa",
          "pattern": {
           "shape": ""
          }
         },
         "name": "d",
         "offsetgroup": "d",
         "orientation": "v",
         "showlegend": true,
         "textposition": "auto",
         "type": "bar",
         "x": [
          "d"
         ],
         "xaxis": "x",
         "y": [
          25240
         ],
         "yaxis": "y"
        },
        {
         "alignmentgroup": "True",
         "hovertemplate": "answer=%{x}<br>count=%{y}<extra></extra>",
         "legendgroup": "e",
         "marker": {
          "color": "#FFA15A",
          "pattern": {
           "shape": ""
          }
         },
         "name": "e",
         "offsetgroup": "e",
         "orientation": "v",
         "showlegend": true,
         "textposition": "auto",
         "type": "bar",
         "x": [
          "e"
         ],
         "xaxis": "x",
         "y": [
          20510
         ],
         "yaxis": "y"
        },
        {
         "alignmentgroup": "True",
         "hovertemplate": "answer=%{x}<br>count=%{y}<extra></extra>",
         "legendgroup": "f",
         "marker": {
          "color": "#19d3f3",
          "pattern": {
           "shape": ""
          }
         },
         "name": "f",
         "offsetgroup": "f",
         "orientation": "v",
         "showlegend": true,
         "textposition": "auto",
         "type": "bar",
         "x": [
          "f"
         ],
         "xaxis": "x",
         "y": [
          16433
         ],
         "yaxis": "y"
        },
        {
         "alignmentgroup": "True",
         "hovertemplate": "answer=%{x}<br>count=%{y}<extra></extra>",
         "legendgroup": "g",
         "marker": {
          "color": "#FF6692",
          "pattern": {
           "shape": ""
          }
         },
         "name": "g",
         "offsetgroup": "g",
         "orientation": "v",
         "showlegend": true,
         "textposition": "auto",
         "type": "bar",
         "x": [
          "g"
         ],
         "xaxis": "x",
         "y": [
          15323
         ],
         "yaxis": "y"
        },
        {
         "alignmentgroup": "True",
         "hovertemplate": "answer=%{x}<br>count=%{y}<extra></extra>",
         "legendgroup": "h",
         "marker": {
          "color": "#B6E880",
          "pattern": {
           "shape": ""
          }
         },
         "name": "h",
         "offsetgroup": "h",
         "orientation": "v",
         "showlegend": true,
         "textposition": "auto",
         "type": "bar",
         "x": [
          "h"
         ],
         "xaxis": "x",
         "y": [
          6536
         ],
         "yaxis": "y"
        },
        {
         "alignmentgroup": "True",
         "hovertemplate": "answer=%{x}<br>count=%{y}<extra></extra>",
         "legendgroup": "i",
         "marker": {
          "color": "#FF97FF",
          "pattern": {
           "shape": ""
          }
         },
         "name": "i",
         "offsetgroup": "i",
         "orientation": "v",
         "showlegend": true,
         "textposition": "auto",
         "type": "bar",
         "x": [
          "i"
         ],
         "xaxis": "x",
         "y": [
          5893
         ],
         "yaxis": "y"
        },
        {
         "alignmentgroup": "True",
         "hovertemplate": "answer=%{x}<br>count=%{y}<extra></extra>",
         "legendgroup": "j",
         "marker": {
          "color": "#FECB52",
          "pattern": {
           "shape": ""
          }
         },
         "name": "j",
         "offsetgroup": "j",
         "orientation": "v",
         "showlegend": true,
         "textposition": "auto",
         "type": "bar",
         "x": [
          "j"
         ],
         "xaxis": "x",
         "y": [
          4968
         ],
         "yaxis": "y"
        }
       ],
       "layout": {
        "barmode": "relative",
        "legend": {
         "title": {
          "text": "answer"
         },
         "tracegroupgap": 0
        },
        "margin": {
         "t": 60
        },
        "template": {
         "data": {
          "bar": [
           {
            "error_x": {
             "color": "#2a3f5f"
            },
            "error_y": {
             "color": "#2a3f5f"
            },
            "marker": {
             "line": {
              "color": "#E5ECF6",
              "width": 0.5
             },
             "pattern": {
              "fillmode": "overlay",
              "size": 10,
              "solidity": 0.2
             }
            },
            "type": "bar"
           }
          ],
          "barpolar": [
           {
            "marker": {
             "line": {
              "color": "#E5ECF6",
              "width": 0.5
             },
             "pattern": {
              "fillmode": "overlay",
              "size": 10,
              "solidity": 0.2
             }
            },
            "type": "barpolar"
           }
          ],
          "carpet": [
           {
            "aaxis": {
             "endlinecolor": "#2a3f5f",
             "gridcolor": "white",
             "linecolor": "white",
             "minorgridcolor": "white",
             "startlinecolor": "#2a3f5f"
            },
            "baxis": {
             "endlinecolor": "#2a3f5f",
             "gridcolor": "white",
             "linecolor": "white",
             "minorgridcolor": "white",
             "startlinecolor": "#2a3f5f"
            },
            "type": "carpet"
           }
          ],
          "choropleth": [
           {
            "colorbar": {
             "outlinewidth": 0,
             "ticks": ""
            },
            "type": "choropleth"
           }
          ],
          "contour": [
           {
            "colorbar": {
             "outlinewidth": 0,
             "ticks": ""
            },
            "colorscale": [
             [
              0,
              "#0d0887"
             ],
             [
              0.1111111111111111,
              "#46039f"
             ],
             [
              0.2222222222222222,
              "#7201a8"
             ],
             [
              0.3333333333333333,
              "#9c179e"
             ],
             [
              0.4444444444444444,
              "#bd3786"
             ],
             [
              0.5555555555555556,
              "#d8576b"
             ],
             [
              0.6666666666666666,
              "#ed7953"
             ],
             [
              0.7777777777777778,
              "#fb9f3a"
             ],
             [
              0.8888888888888888,
              "#fdca26"
             ],
             [
              1,
              "#f0f921"
             ]
            ],
            "type": "contour"
           }
          ],
          "contourcarpet": [
           {
            "colorbar": {
             "outlinewidth": 0,
             "ticks": ""
            },
            "type": "contourcarpet"
           }
          ],
          "heatmap": [
           {
            "colorbar": {
             "outlinewidth": 0,
             "ticks": ""
            },
            "colorscale": [
             [
              0,
              "#0d0887"
             ],
             [
              0.1111111111111111,
              "#46039f"
             ],
             [
              0.2222222222222222,
              "#7201a8"
             ],
             [
              0.3333333333333333,
              "#9c179e"
             ],
             [
              0.4444444444444444,
              "#bd3786"
             ],
             [
              0.5555555555555556,
              "#d8576b"
             ],
             [
              0.6666666666666666,
              "#ed7953"
             ],
             [
              0.7777777777777778,
              "#fb9f3a"
             ],
             [
              0.8888888888888888,
              "#fdca26"
             ],
             [
              1,
              "#f0f921"
             ]
            ],
            "type": "heatmap"
           }
          ],
          "heatmapgl": [
           {
            "colorbar": {
             "outlinewidth": 0,
             "ticks": ""
            },
            "colorscale": [
             [
              0,
              "#0d0887"
             ],
             [
              0.1111111111111111,
              "#46039f"
             ],
             [
              0.2222222222222222,
              "#7201a8"
             ],
             [
              0.3333333333333333,
              "#9c179e"
             ],
             [
              0.4444444444444444,
              "#bd3786"
             ],
             [
              0.5555555555555556,
              "#d8576b"
             ],
             [
              0.6666666666666666,
              "#ed7953"
             ],
             [
              0.7777777777777778,
              "#fb9f3a"
             ],
             [
              0.8888888888888888,
              "#fdca26"
             ],
             [
              1,
              "#f0f921"
             ]
            ],
            "type": "heatmapgl"
           }
          ],
          "histogram": [
           {
            "marker": {
             "pattern": {
              "fillmode": "overlay",
              "size": 10,
              "solidity": 0.2
             }
            },
            "type": "histogram"
           }
          ],
          "histogram2d": [
           {
            "colorbar": {
             "outlinewidth": 0,
             "ticks": ""
            },
            "colorscale": [
             [
              0,
              "#0d0887"
             ],
             [
              0.1111111111111111,
              "#46039f"
             ],
             [
              0.2222222222222222,
              "#7201a8"
             ],
             [
              0.3333333333333333,
              "#9c179e"
             ],
             [
              0.4444444444444444,
              "#bd3786"
             ],
             [
              0.5555555555555556,
              "#d8576b"
             ],
             [
              0.6666666666666666,
              "#ed7953"
             ],
             [
              0.7777777777777778,
              "#fb9f3a"
             ],
             [
              0.8888888888888888,
              "#fdca26"
             ],
             [
              1,
              "#f0f921"
             ]
            ],
            "type": "histogram2d"
           }
          ],
          "histogram2dcontour": [
           {
            "colorbar": {
             "outlinewidth": 0,
             "ticks": ""
            },
            "colorscale": [
             [
              0,
              "#0d0887"
             ],
             [
              0.1111111111111111,
              "#46039f"
             ],
             [
              0.2222222222222222,
              "#7201a8"
             ],
             [
              0.3333333333333333,
              "#9c179e"
             ],
             [
              0.4444444444444444,
              "#bd3786"
             ],
             [
              0.5555555555555556,
              "#d8576b"
             ],
             [
              0.6666666666666666,
              "#ed7953"
             ],
             [
              0.7777777777777778,
              "#fb9f3a"
             ],
             [
              0.8888888888888888,
              "#fdca26"
             ],
             [
              1,
              "#f0f921"
             ]
            ],
            "type": "histogram2dcontour"
           }
          ],
          "mesh3d": [
           {
            "colorbar": {
             "outlinewidth": 0,
             "ticks": ""
            },
            "type": "mesh3d"
           }
          ],
          "parcoords": [
           {
            "line": {
             "colorbar": {
              "outlinewidth": 0,
              "ticks": ""
             }
            },
            "type": "parcoords"
           }
          ],
          "pie": [
           {
            "automargin": true,
            "type": "pie"
           }
          ],
          "scatter": [
           {
            "fillpattern": {
             "fillmode": "overlay",
             "size": 10,
             "solidity": 0.2
            },
            "type": "scatter"
           }
          ],
          "scatter3d": [
           {
            "line": {
             "colorbar": {
              "outlinewidth": 0,
              "ticks": ""
             }
            },
            "marker": {
             "colorbar": {
              "outlinewidth": 0,
              "ticks": ""
             }
            },
            "type": "scatter3d"
           }
          ],
          "scattercarpet": [
           {
            "marker": {
             "colorbar": {
              "outlinewidth": 0,
              "ticks": ""
             }
            },
            "type": "scattercarpet"
           }
          ],
          "scattergeo": [
           {
            "marker": {
             "colorbar": {
              "outlinewidth": 0,
              "ticks": ""
             }
            },
            "type": "scattergeo"
           }
          ],
          "scattergl": [
           {
            "marker": {
             "colorbar": {
              "outlinewidth": 0,
              "ticks": ""
             }
            },
            "type": "scattergl"
           }
          ],
          "scattermapbox": [
           {
            "marker": {
             "colorbar": {
              "outlinewidth": 0,
              "ticks": ""
             }
            },
            "type": "scattermapbox"
           }
          ],
          "scatterpolar": [
           {
            "marker": {
             "colorbar": {
              "outlinewidth": 0,
              "ticks": ""
             }
            },
            "type": "scatterpolar"
           }
          ],
          "scatterpolargl": [
           {
            "marker": {
             "colorbar": {
              "outlinewidth": 0,
              "ticks": ""
             }
            },
            "type": "scatterpolargl"
           }
          ],
          "scatterternary": [
           {
            "marker": {
             "colorbar": {
              "outlinewidth": 0,
              "ticks": ""
             }
            },
            "type": "scatterternary"
           }
          ],
          "surface": [
           {
            "colorbar": {
             "outlinewidth": 0,
             "ticks": ""
            },
            "colorscale": [
             [
              0,
              "#0d0887"
             ],
             [
              0.1111111111111111,
              "#46039f"
             ],
             [
              0.2222222222222222,
              "#7201a8"
             ],
             [
              0.3333333333333333,
              "#9c179e"
             ],
             [
              0.4444444444444444,
              "#bd3786"
             ],
             [
              0.5555555555555556,
              "#d8576b"
             ],
             [
              0.6666666666666666,
              "#ed7953"
             ],
             [
              0.7777777777777778,
              "#fb9f3a"
             ],
             [
              0.8888888888888888,
              "#fdca26"
             ],
             [
              1,
              "#f0f921"
             ]
            ],
            "type": "surface"
           }
          ],
          "table": [
           {
            "cells": {
             "fill": {
              "color": "#EBF0F8"
             },
             "line": {
              "color": "white"
             }
            },
            "header": {
             "fill": {
              "color": "#C8D4E3"
             },
             "line": {
              "color": "white"
             }
            },
            "type": "table"
           }
          ]
         },
         "layout": {
          "annotationdefaults": {
           "arrowcolor": "#2a3f5f",
           "arrowhead": 0,
           "arrowwidth": 1
          },
          "autotypenumbers": "strict",
          "coloraxis": {
           "colorbar": {
            "outlinewidth": 0,
            "ticks": ""
           }
          },
          "colorscale": {
           "diverging": [
            [
             0,
             "#8e0152"
            ],
            [
             0.1,
             "#c51b7d"
            ],
            [
             0.2,
             "#de77ae"
            ],
            [
             0.3,
             "#f1b6da"
            ],
            [
             0.4,
             "#fde0ef"
            ],
            [
             0.5,
             "#f7f7f7"
            ],
            [
             0.6,
             "#e6f5d0"
            ],
            [
             0.7,
             "#b8e186"
            ],
            [
             0.8,
             "#7fbc41"
            ],
            [
             0.9,
             "#4d9221"
            ],
            [
             1,
             "#276419"
            ]
           ],
           "sequential": [
            [
             0,
             "#0d0887"
            ],
            [
             0.1111111111111111,
             "#46039f"
            ],
            [
             0.2222222222222222,
             "#7201a8"
            ],
            [
             0.3333333333333333,
             "#9c179e"
            ],
            [
             0.4444444444444444,
             "#bd3786"
            ],
            [
             0.5555555555555556,
             "#d8576b"
            ],
            [
             0.6666666666666666,
             "#ed7953"
            ],
            [
             0.7777777777777778,
             "#fb9f3a"
            ],
            [
             0.8888888888888888,
             "#fdca26"
            ],
            [
             1,
             "#f0f921"
            ]
           ],
           "sequentialminus": [
            [
             0,
             "#0d0887"
            ],
            [
             0.1111111111111111,
             "#46039f"
            ],
            [
             0.2222222222222222,
             "#7201a8"
            ],
            [
             0.3333333333333333,
             "#9c179e"
            ],
            [
             0.4444444444444444,
             "#bd3786"
            ],
            [
             0.5555555555555556,
             "#d8576b"
            ],
            [
             0.6666666666666666,
             "#ed7953"
            ],
            [
             0.7777777777777778,
             "#fb9f3a"
            ],
            [
             0.8888888888888888,
             "#fdca26"
            ],
            [
             1,
             "#f0f921"
            ]
           ]
          },
          "colorway": [
           "#636efa",
           "#EF553B",
           "#00cc96",
           "#ab63fa",
           "#FFA15A",
           "#19d3f3",
           "#FF6692",
           "#B6E880",
           "#FF97FF",
           "#FECB52"
          ],
          "font": {
           "color": "#2a3f5f"
          },
          "geo": {
           "bgcolor": "white",
           "lakecolor": "white",
           "landcolor": "#E5ECF6",
           "showlakes": true,
           "showland": true,
           "subunitcolor": "white"
          },
          "hoverlabel": {
           "align": "left"
          },
          "hovermode": "closest",
          "mapbox": {
           "style": "light"
          },
          "paper_bgcolor": "white",
          "plot_bgcolor": "#E5ECF6",
          "polar": {
           "angularaxis": {
            "gridcolor": "white",
            "linecolor": "white",
            "ticks": ""
           },
           "bgcolor": "#E5ECF6",
           "radialaxis": {
            "gridcolor": "white",
            "linecolor": "white",
            "ticks": ""
           }
          },
          "scene": {
           "xaxis": {
            "backgroundcolor": "#E5ECF6",
            "gridcolor": "white",
            "gridwidth": 2,
            "linecolor": "white",
            "showbackground": true,
            "ticks": "",
            "zerolinecolor": "white"
           },
           "yaxis": {
            "backgroundcolor": "#E5ECF6",
            "gridcolor": "white",
            "gridwidth": 2,
            "linecolor": "white",
            "showbackground": true,
            "ticks": "",
            "zerolinecolor": "white"
           },
           "zaxis": {
            "backgroundcolor": "#E5ECF6",
            "gridcolor": "white",
            "gridwidth": 2,
            "linecolor": "white",
            "showbackground": true,
            "ticks": "",
            "zerolinecolor": "white"
           }
          },
          "shapedefaults": {
           "line": {
            "color": "#2a3f5f"
           }
          },
          "ternary": {
           "aaxis": {
            "gridcolor": "white",
            "linecolor": "white",
            "ticks": ""
           },
           "baxis": {
            "gridcolor": "white",
            "linecolor": "white",
            "ticks": ""
           },
           "bgcolor": "#E5ECF6",
           "caxis": {
            "gridcolor": "white",
            "linecolor": "white",
            "ticks": ""
           }
          },
          "title": {
           "x": 0.05
          },
          "xaxis": {
           "automargin": true,
           "gridcolor": "white",
           "linecolor": "white",
           "ticks": "",
           "title": {
            "standoff": 15
           },
           "zerolinecolor": "white",
           "zerolinewidth": 2
          },
          "yaxis": {
           "automargin": true,
           "gridcolor": "white",
           "linecolor": "white",
           "ticks": "",
           "title": {
            "standoff": 15
           },
           "zerolinecolor": "white",
           "zerolinewidth": 2
          }
         }
        },
        "xaxis": {
         "anchor": "y",
         "categoryarray": [
          "a",
          "b",
          "c",
          "d",
          "e",
          "f",
          "g",
          "h",
          "i",
          "j"
         ],
         "categoryorder": "array",
         "domain": [
          0,
          1
         ],
         "title": {
          "text": "answer"
         }
        },
        "yaxis": {
         "anchor": "x",
         "domain": [
          0,
          1
         ],
         "title": {
          "text": "count"
         }
        }
       }
      },
      "text/html": [
       "<div>                            <div id=\"c6a8f782-e4f1-4b25-a433-ad6b4238365b\" class=\"plotly-graph-div\" style=\"height:525px; width:100%;\"></div>            <script type=\"text/javascript\">                require([\"plotly\"], function(Plotly) {                    window.PLOTLYENV=window.PLOTLYENV || {};                                    if (document.getElementById(\"c6a8f782-e4f1-4b25-a433-ad6b4238365b\")) {                    Plotly.newPlot(                        \"c6a8f782-e4f1-4b25-a433-ad6b4238365b\",                        [{\"alignmentgroup\":\"True\",\"hovertemplate\":\"answer=%{x}\\u003cbr\\u003ecount=%{y}\\u003cextra\\u003e\\u003c\\u002fextra\\u003e\",\"legendgroup\":\"a\",\"marker\":{\"color\":\"#636efa\",\"pattern\":{\"shape\":\"\"}},\"name\":\"a\",\"offsetgroup\":\"a\",\"orientation\":\"v\",\"showlegend\":true,\"textposition\":\"auto\",\"x\":[\"a\"],\"xaxis\":\"x\",\"y\":[30040],\"yaxis\":\"y\",\"type\":\"bar\"},{\"alignmentgroup\":\"True\",\"hovertemplate\":\"answer=%{x}\\u003cbr\\u003ecount=%{y}\\u003cextra\\u003e\\u003c\\u002fextra\\u003e\",\"legendgroup\":\"b\",\"marker\":{\"color\":\"#EF553B\",\"pattern\":{\"shape\":\"\"}},\"name\":\"b\",\"offsetgroup\":\"b\",\"orientation\":\"v\",\"showlegend\":true,\"textposition\":\"auto\",\"x\":[\"b\"],\"xaxis\":\"x\",\"y\":[29314],\"yaxis\":\"y\",\"type\":\"bar\"},{\"alignmentgroup\":\"True\",\"hovertemplate\":\"answer=%{x}\\u003cbr\\u003ecount=%{y}\\u003cextra\\u003e\\u003c\\u002fextra\\u003e\",\"legendgroup\":\"c\",\"marker\":{\"color\":\"#00cc96\",\"pattern\":{\"shape\":\"\"}},\"name\":\"c\",\"offsetgroup\":\"c\",\"orientation\":\"v\",\"showlegend\":true,\"textposition\":\"auto\",\"x\":[\"c\"],\"xaxis\":\"x\",\"y\":[25377],\"yaxis\":\"y\",\"type\":\"bar\"},{\"alignmentgroup\":\"True\",\"hovertemplate\":\"answer=%{x}\\u003cbr\\u003ecount=%{y}\\u003cextra\\u003e\\u003c\\u002fextra\\u003e\",\"legendgroup\":\"d\",\"marker\":{\"color\":\"#ab63fa\",\"pattern\":{\"shape\":\"\"}},\"name\":\"d\",\"offsetgroup\":\"d\",\"orientation\":\"v\",\"showlegend\":true,\"textposition\":\"auto\",\"x\":[\"d\"],\"xaxis\":\"x\",\"y\":[25240],\"yaxis\":\"y\",\"type\":\"bar\"},{\"alignmentgroup\":\"True\",\"hovertemplate\":\"answer=%{x}\\u003cbr\\u003ecount=%{y}\\u003cextra\\u003e\\u003c\\u002fextra\\u003e\",\"legendgroup\":\"e\",\"marker\":{\"color\":\"#FFA15A\",\"pattern\":{\"shape\":\"\"}},\"name\":\"e\",\"offsetgroup\":\"e\",\"orientation\":\"v\",\"showlegend\":true,\"textposition\":\"auto\",\"x\":[\"e\"],\"xaxis\":\"x\",\"y\":[20510],\"yaxis\":\"y\",\"type\":\"bar\"},{\"alignmentgroup\":\"True\",\"hovertemplate\":\"answer=%{x}\\u003cbr\\u003ecount=%{y}\\u003cextra\\u003e\\u003c\\u002fextra\\u003e\",\"legendgroup\":\"f\",\"marker\":{\"color\":\"#19d3f3\",\"pattern\":{\"shape\":\"\"}},\"name\":\"f\",\"offsetgroup\":\"f\",\"orientation\":\"v\",\"showlegend\":true,\"textposition\":\"auto\",\"x\":[\"f\"],\"xaxis\":\"x\",\"y\":[16433],\"yaxis\":\"y\",\"type\":\"bar\"},{\"alignmentgroup\":\"True\",\"hovertemplate\":\"answer=%{x}\\u003cbr\\u003ecount=%{y}\\u003cextra\\u003e\\u003c\\u002fextra\\u003e\",\"legendgroup\":\"g\",\"marker\":{\"color\":\"#FF6692\",\"pattern\":{\"shape\":\"\"}},\"name\":\"g\",\"offsetgroup\":\"g\",\"orientation\":\"v\",\"showlegend\":true,\"textposition\":\"auto\",\"x\":[\"g\"],\"xaxis\":\"x\",\"y\":[15323],\"yaxis\":\"y\",\"type\":\"bar\"},{\"alignmentgroup\":\"True\",\"hovertemplate\":\"answer=%{x}\\u003cbr\\u003ecount=%{y}\\u003cextra\\u003e\\u003c\\u002fextra\\u003e\",\"legendgroup\":\"h\",\"marker\":{\"color\":\"#B6E880\",\"pattern\":{\"shape\":\"\"}},\"name\":\"h\",\"offsetgroup\":\"h\",\"orientation\":\"v\",\"showlegend\":true,\"textposition\":\"auto\",\"x\":[\"h\"],\"xaxis\":\"x\",\"y\":[6536],\"yaxis\":\"y\",\"type\":\"bar\"},{\"alignmentgroup\":\"True\",\"hovertemplate\":\"answer=%{x}\\u003cbr\\u003ecount=%{y}\\u003cextra\\u003e\\u003c\\u002fextra\\u003e\",\"legendgroup\":\"i\",\"marker\":{\"color\":\"#FF97FF\",\"pattern\":{\"shape\":\"\"}},\"name\":\"i\",\"offsetgroup\":\"i\",\"orientation\":\"v\",\"showlegend\":true,\"textposition\":\"auto\",\"x\":[\"i\"],\"xaxis\":\"x\",\"y\":[5893],\"yaxis\":\"y\",\"type\":\"bar\"},{\"alignmentgroup\":\"True\",\"hovertemplate\":\"answer=%{x}\\u003cbr\\u003ecount=%{y}\\u003cextra\\u003e\\u003c\\u002fextra\\u003e\",\"legendgroup\":\"j\",\"marker\":{\"color\":\"#FECB52\",\"pattern\":{\"shape\":\"\"}},\"name\":\"j\",\"offsetgroup\":\"j\",\"orientation\":\"v\",\"showlegend\":true,\"textposition\":\"auto\",\"x\":[\"j\"],\"xaxis\":\"x\",\"y\":[4968],\"yaxis\":\"y\",\"type\":\"bar\"}],                        {\"template\":{\"data\":{\"histogram2dcontour\":[{\"type\":\"histogram2dcontour\",\"colorbar\":{\"outlinewidth\":0,\"ticks\":\"\"},\"colorscale\":[[0.0,\"#0d0887\"],[0.1111111111111111,\"#46039f\"],[0.2222222222222222,\"#7201a8\"],[0.3333333333333333,\"#9c179e\"],[0.4444444444444444,\"#bd3786\"],[0.5555555555555556,\"#d8576b\"],[0.6666666666666666,\"#ed7953\"],[0.7777777777777778,\"#fb9f3a\"],[0.8888888888888888,\"#fdca26\"],[1.0,\"#f0f921\"]]}],\"choropleth\":[{\"type\":\"choropleth\",\"colorbar\":{\"outlinewidth\":0,\"ticks\":\"\"}}],\"histogram2d\":[{\"type\":\"histogram2d\",\"colorbar\":{\"outlinewidth\":0,\"ticks\":\"\"},\"colorscale\":[[0.0,\"#0d0887\"],[0.1111111111111111,\"#46039f\"],[0.2222222222222222,\"#7201a8\"],[0.3333333333333333,\"#9c179e\"],[0.4444444444444444,\"#bd3786\"],[0.5555555555555556,\"#d8576b\"],[0.6666666666666666,\"#ed7953\"],[0.7777777777777778,\"#fb9f3a\"],[0.8888888888888888,\"#fdca26\"],[1.0,\"#f0f921\"]]}],\"heatmap\":[{\"type\":\"heatmap\",\"colorbar\":{\"outlinewidth\":0,\"ticks\":\"\"},\"colorscale\":[[0.0,\"#0d0887\"],[0.1111111111111111,\"#46039f\"],[0.2222222222222222,\"#7201a8\"],[0.3333333333333333,\"#9c179e\"],[0.4444444444444444,\"#bd3786\"],[0.5555555555555556,\"#d8576b\"],[0.6666666666666666,\"#ed7953\"],[0.7777777777777778,\"#fb9f3a\"],[0.8888888888888888,\"#fdca26\"],[1.0,\"#f0f921\"]]}],\"heatmapgl\":[{\"type\":\"heatmapgl\",\"colorbar\":{\"outlinewidth\":0,\"ticks\":\"\"},\"colorscale\":[[0.0,\"#0d0887\"],[0.1111111111111111,\"#46039f\"],[0.2222222222222222,\"#7201a8\"],[0.3333333333333333,\"#9c179e\"],[0.4444444444444444,\"#bd3786\"],[0.5555555555555556,\"#d8576b\"],[0.6666666666666666,\"#ed7953\"],[0.7777777777777778,\"#fb9f3a\"],[0.8888888888888888,\"#fdca26\"],[1.0,\"#f0f921\"]]}],\"contourcarpet\":[{\"type\":\"contourcarpet\",\"colorbar\":{\"outlinewidth\":0,\"ticks\":\"\"}}],\"contour\":[{\"type\":\"contour\",\"colorbar\":{\"outlinewidth\":0,\"ticks\":\"\"},\"colorscale\":[[0.0,\"#0d0887\"],[0.1111111111111111,\"#46039f\"],[0.2222222222222222,\"#7201a8\"],[0.3333333333333333,\"#9c179e\"],[0.4444444444444444,\"#bd3786\"],[0.5555555555555556,\"#d8576b\"],[0.6666666666666666,\"#ed7953\"],[0.7777777777777778,\"#fb9f3a\"],[0.8888888888888888,\"#fdca26\"],[1.0,\"#f0f921\"]]}],\"surface\":[{\"type\":\"surface\",\"colorbar\":{\"outlinewidth\":0,\"ticks\":\"\"},\"colorscale\":[[0.0,\"#0d0887\"],[0.1111111111111111,\"#46039f\"],[0.2222222222222222,\"#7201a8\"],[0.3333333333333333,\"#9c179e\"],[0.4444444444444444,\"#bd3786\"],[0.5555555555555556,\"#d8576b\"],[0.6666666666666666,\"#ed7953\"],[0.7777777777777778,\"#fb9f3a\"],[0.8888888888888888,\"#fdca26\"],[1.0,\"#f0f921\"]]}],\"mesh3d\":[{\"type\":\"mesh3d\",\"colorbar\":{\"outlinewidth\":0,\"ticks\":\"\"}}],\"scatter\":[{\"fillpattern\":{\"fillmode\":\"overlay\",\"size\":10,\"solidity\":0.2},\"type\":\"scatter\"}],\"parcoords\":[{\"type\":\"parcoords\",\"line\":{\"colorbar\":{\"outlinewidth\":0,\"ticks\":\"\"}}}],\"scatterpolargl\":[{\"type\":\"scatterpolargl\",\"marker\":{\"colorbar\":{\"outlinewidth\":0,\"ticks\":\"\"}}}],\"bar\":[{\"error_x\":{\"color\":\"#2a3f5f\"},\"error_y\":{\"color\":\"#2a3f5f\"},\"marker\":{\"line\":{\"color\":\"#E5ECF6\",\"width\":0.5},\"pattern\":{\"fillmode\":\"overlay\",\"size\":10,\"solidity\":0.2}},\"type\":\"bar\"}],\"scattergeo\":[{\"type\":\"scattergeo\",\"marker\":{\"colorbar\":{\"outlinewidth\":0,\"ticks\":\"\"}}}],\"scatterpolar\":[{\"type\":\"scatterpolar\",\"marker\":{\"colorbar\":{\"outlinewidth\":0,\"ticks\":\"\"}}}],\"histogram\":[{\"marker\":{\"pattern\":{\"fillmode\":\"overlay\",\"size\":10,\"solidity\":0.2}},\"type\":\"histogram\"}],\"scattergl\":[{\"type\":\"scattergl\",\"marker\":{\"colorbar\":{\"outlinewidth\":0,\"ticks\":\"\"}}}],\"scatter3d\":[{\"type\":\"scatter3d\",\"line\":{\"colorbar\":{\"outlinewidth\":0,\"ticks\":\"\"}},\"marker\":{\"colorbar\":{\"outlinewidth\":0,\"ticks\":\"\"}}}],\"scattermapbox\":[{\"type\":\"scattermapbox\",\"marker\":{\"colorbar\":{\"outlinewidth\":0,\"ticks\":\"\"}}}],\"scatterternary\":[{\"type\":\"scatterternary\",\"marker\":{\"colorbar\":{\"outlinewidth\":0,\"ticks\":\"\"}}}],\"scattercarpet\":[{\"type\":\"scattercarpet\",\"marker\":{\"colorbar\":{\"outlinewidth\":0,\"ticks\":\"\"}}}],\"carpet\":[{\"aaxis\":{\"endlinecolor\":\"#2a3f5f\",\"gridcolor\":\"white\",\"linecolor\":\"white\",\"minorgridcolor\":\"white\",\"startlinecolor\":\"#2a3f5f\"},\"baxis\":{\"endlinecolor\":\"#2a3f5f\",\"gridcolor\":\"white\",\"linecolor\":\"white\",\"minorgridcolor\":\"white\",\"startlinecolor\":\"#2a3f5f\"},\"type\":\"carpet\"}],\"table\":[{\"cells\":{\"fill\":{\"color\":\"#EBF0F8\"},\"line\":{\"color\":\"white\"}},\"header\":{\"fill\":{\"color\":\"#C8D4E3\"},\"line\":{\"color\":\"white\"}},\"type\":\"table\"}],\"barpolar\":[{\"marker\":{\"line\":{\"color\":\"#E5ECF6\",\"width\":0.5},\"pattern\":{\"fillmode\":\"overlay\",\"size\":10,\"solidity\":0.2}},\"type\":\"barpolar\"}],\"pie\":[{\"automargin\":true,\"type\":\"pie\"}]},\"layout\":{\"autotypenumbers\":\"strict\",\"colorway\":[\"#636efa\",\"#EF553B\",\"#00cc96\",\"#ab63fa\",\"#FFA15A\",\"#19d3f3\",\"#FF6692\",\"#B6E880\",\"#FF97FF\",\"#FECB52\"],\"font\":{\"color\":\"#2a3f5f\"},\"hovermode\":\"closest\",\"hoverlabel\":{\"align\":\"left\"},\"paper_bgcolor\":\"white\",\"plot_bgcolor\":\"#E5ECF6\",\"polar\":{\"bgcolor\":\"#E5ECF6\",\"angularaxis\":{\"gridcolor\":\"white\",\"linecolor\":\"white\",\"ticks\":\"\"},\"radialaxis\":{\"gridcolor\":\"white\",\"linecolor\":\"white\",\"ticks\":\"\"}},\"ternary\":{\"bgcolor\":\"#E5ECF6\",\"aaxis\":{\"gridcolor\":\"white\",\"linecolor\":\"white\",\"ticks\":\"\"},\"baxis\":{\"gridcolor\":\"white\",\"linecolor\":\"white\",\"ticks\":\"\"},\"caxis\":{\"gridcolor\":\"white\",\"linecolor\":\"white\",\"ticks\":\"\"}},\"coloraxis\":{\"colorbar\":{\"outlinewidth\":0,\"ticks\":\"\"}},\"colorscale\":{\"sequential\":[[0.0,\"#0d0887\"],[0.1111111111111111,\"#46039f\"],[0.2222222222222222,\"#7201a8\"],[0.3333333333333333,\"#9c179e\"],[0.4444444444444444,\"#bd3786\"],[0.5555555555555556,\"#d8576b\"],[0.6666666666666666,\"#ed7953\"],[0.7777777777777778,\"#fb9f3a\"],[0.8888888888888888,\"#fdca26\"],[1.0,\"#f0f921\"]],\"sequentialminus\":[[0.0,\"#0d0887\"],[0.1111111111111111,\"#46039f\"],[0.2222222222222222,\"#7201a8\"],[0.3333333333333333,\"#9c179e\"],[0.4444444444444444,\"#bd3786\"],[0.5555555555555556,\"#d8576b\"],[0.6666666666666666,\"#ed7953\"],[0.7777777777777778,\"#fb9f3a\"],[0.8888888888888888,\"#fdca26\"],[1.0,\"#f0f921\"]],\"diverging\":[[0,\"#8e0152\"],[0.1,\"#c51b7d\"],[0.2,\"#de77ae\"],[0.3,\"#f1b6da\"],[0.4,\"#fde0ef\"],[0.5,\"#f7f7f7\"],[0.6,\"#e6f5d0\"],[0.7,\"#b8e186\"],[0.8,\"#7fbc41\"],[0.9,\"#4d9221\"],[1,\"#276419\"]]},\"xaxis\":{\"gridcolor\":\"white\",\"linecolor\":\"white\",\"ticks\":\"\",\"title\":{\"standoff\":15},\"zerolinecolor\":\"white\",\"automargin\":true,\"zerolinewidth\":2},\"yaxis\":{\"gridcolor\":\"white\",\"linecolor\":\"white\",\"ticks\":\"\",\"title\":{\"standoff\":15},\"zerolinecolor\":\"white\",\"automargin\":true,\"zerolinewidth\":2},\"scene\":{\"xaxis\":{\"backgroundcolor\":\"#E5ECF6\",\"gridcolor\":\"white\",\"linecolor\":\"white\",\"showbackground\":true,\"ticks\":\"\",\"zerolinecolor\":\"white\",\"gridwidth\":2},\"yaxis\":{\"backgroundcolor\":\"#E5ECF6\",\"gridcolor\":\"white\",\"linecolor\":\"white\",\"showbackground\":true,\"ticks\":\"\",\"zerolinecolor\":\"white\",\"gridwidth\":2},\"zaxis\":{\"backgroundcolor\":\"#E5ECF6\",\"gridcolor\":\"white\",\"linecolor\":\"white\",\"showbackground\":true,\"ticks\":\"\",\"zerolinecolor\":\"white\",\"gridwidth\":2}},\"shapedefaults\":{\"line\":{\"color\":\"#2a3f5f\"}},\"annotationdefaults\":{\"arrowcolor\":\"#2a3f5f\",\"arrowhead\":0,\"arrowwidth\":1},\"geo\":{\"bgcolor\":\"white\",\"landcolor\":\"#E5ECF6\",\"subunitcolor\":\"white\",\"showland\":true,\"showlakes\":true,\"lakecolor\":\"white\"},\"title\":{\"x\":0.05},\"mapbox\":{\"style\":\"light\"}}},\"xaxis\":{\"anchor\":\"y\",\"domain\":[0.0,1.0],\"title\":{\"text\":\"answer\"},\"categoryorder\":\"array\",\"categoryarray\":[\"a\",\"b\",\"c\",\"d\",\"e\",\"f\",\"g\",\"h\",\"i\",\"j\"]},\"yaxis\":{\"anchor\":\"x\",\"domain\":[0.0,1.0],\"title\":{\"text\":\"count\"}},\"legend\":{\"title\":{\"text\":\"answer\"},\"tracegroupgap\":0},\"margin\":{\"t\":60},\"barmode\":\"relative\"},                        {\"responsive\": true}                    ).then(function(){\n",
       "                            \n",
       "var gd = document.getElementById('c6a8f782-e4f1-4b25-a433-ad6b4238365b');\n",
       "var x = new MutationObserver(function (mutations, observer) {{\n",
       "        var display = window.getComputedStyle(gd).display;\n",
       "        if (!display || display === 'none') {{\n",
       "            console.log([gd, 'removed!']);\n",
       "            Plotly.purge(gd);\n",
       "            observer.disconnect();\n",
       "        }}\n",
       "}});\n",
       "\n",
       "// Listen for the removal of the full notebook cells\n",
       "var notebookContainer = gd.closest('#notebook-container');\n",
       "if (notebookContainer) {{\n",
       "    x.observe(notebookContainer, {childList: true});\n",
       "}}\n",
       "\n",
       "// Listen for the clearing of the current output cell\n",
       "var outputEl = gd.closest('.output');\n",
       "if (outputEl) {{\n",
       "    x.observe(outputEl, {childList: true});\n",
       "}}\n",
       "\n",
       "                        })                };                });            </script>        </div>"
      ]
     },
     "metadata": {},
     "output_type": "display_data"
    }
   ],
   "source": [
    "graph"
   ]
  },
  {
   "cell_type": "code",
   "execution_count": 288,
   "id": "0a524fcb",
   "metadata": {},
   "outputs": [
    {
     "data": {
      "text/plain": [
       "{'Continuous integration (CI) and (more often) continuous delivery': 'a',\n",
       " 'none': 'b',\n",
       " 'Automated testing': 'c',\n",
       " 'DevOps function': 'd',\n",
       " 'Microservices': 'e',\n",
       " 'Observability tools': 'f',\n",
       " 'Developer portal or other central places to find tools/services': 'g',\n",
       " 'AI-assisted technology tool(s)': 'h',\n",
       " 'Innersource initiative': 'i',\n",
       " 'None of these': 'j'}"
      ]
     },
     "execution_count": 288,
     "metadata": {},
     "output_type": "execute_result"
    }
   ],
   "source": [
    "label"
   ]
  },
  {
   "cell_type": "code",
   "execution_count": 289,
   "id": "ff2803a8",
   "metadata": {},
   "outputs": [],
   "source": [
    "#Let's create another function to handle float column and plot a line graph for it\n",
    "name=d['WorkExp']\n",
    "\n",
    "def plotline(name):\n",
    "    MB =name[name!=\"none\"].value_counts()\n",
    "    DB = pd.DataFrame(MB).sort_values(by='WorkExp',ascending=False)\n",
    "    #columns = ['answer','count'].sort_values(by='count',ascending=False)\n",
    "    #type(DB[1])\n",
    "    graph = px.line(DB,y='count')\n",
    "    return graph\n",
    "\n",
    "output = plotline(name)"
   ]
  },
  {
   "cell_type": "code",
   "execution_count": 290,
   "id": "9f814190",
   "metadata": {},
   "outputs": [
    {
     "data": {
      "application/vnd.plotly.v1+json": {
       "config": {
        "plotlyServerURL": "https://plot.ly"
       },
       "data": [
        {
         "hovertemplate": "WorkExp=%{x}<br>count=%{y}<extra></extra>",
         "legendgroup": "",
         "line": {
          "color": "#636efa",
          "dash": "solid"
         },
         "marker": {
          "symbol": "circle"
         },
         "mode": "lines",
         "name": "",
         "orientation": "v",
         "showlegend": false,
         "type": "scatter",
         "x": [
          50,
          49,
          48,
          47,
          46,
          45,
          44,
          43,
          42,
          41,
          40,
          39,
          38,
          37,
          36,
          35,
          34,
          33,
          32,
          31,
          30,
          29,
          28,
          27,
          26,
          25,
          24,
          23,
          22,
          21,
          20,
          19,
          18,
          17,
          16,
          15,
          14,
          13,
          12,
          11,
          10,
          9,
          8,
          7,
          6,
          5,
          4,
          3,
          2,
          1,
          0
         ],
         "xaxis": "x",
         "y": [
          76,
          4,
          12,
          17,
          26,
          52,
          27,
          43,
          44,
          66,
          175,
          45,
          86,
          94,
          125,
          291,
          106,
          168,
          162,
          130,
          620,
          128,
          268,
          294,
          332,
          1198,
          410,
          728,
          538,
          374,
          1603,
          378,
          770,
          851,
          869,
          1990,
          846,
          1169,
          1714,
          1316,
          3000,
          1418,
          2219,
          2406,
          2318,
          3272,
          2513,
          2760,
          2769,
          2250,
          254
         ],
         "yaxis": "y"
        }
       ],
       "layout": {
        "legend": {
         "tracegroupgap": 0
        },
        "margin": {
         "t": 60
        },
        "template": {
         "data": {
          "bar": [
           {
            "error_x": {
             "color": "#2a3f5f"
            },
            "error_y": {
             "color": "#2a3f5f"
            },
            "marker": {
             "line": {
              "color": "#E5ECF6",
              "width": 0.5
             },
             "pattern": {
              "fillmode": "overlay",
              "size": 10,
              "solidity": 0.2
             }
            },
            "type": "bar"
           }
          ],
          "barpolar": [
           {
            "marker": {
             "line": {
              "color": "#E5ECF6",
              "width": 0.5
             },
             "pattern": {
              "fillmode": "overlay",
              "size": 10,
              "solidity": 0.2
             }
            },
            "type": "barpolar"
           }
          ],
          "carpet": [
           {
            "aaxis": {
             "endlinecolor": "#2a3f5f",
             "gridcolor": "white",
             "linecolor": "white",
             "minorgridcolor": "white",
             "startlinecolor": "#2a3f5f"
            },
            "baxis": {
             "endlinecolor": "#2a3f5f",
             "gridcolor": "white",
             "linecolor": "white",
             "minorgridcolor": "white",
             "startlinecolor": "#2a3f5f"
            },
            "type": "carpet"
           }
          ],
          "choropleth": [
           {
            "colorbar": {
             "outlinewidth": 0,
             "ticks": ""
            },
            "type": "choropleth"
           }
          ],
          "contour": [
           {
            "colorbar": {
             "outlinewidth": 0,
             "ticks": ""
            },
            "colorscale": [
             [
              0,
              "#0d0887"
             ],
             [
              0.1111111111111111,
              "#46039f"
             ],
             [
              0.2222222222222222,
              "#7201a8"
             ],
             [
              0.3333333333333333,
              "#9c179e"
             ],
             [
              0.4444444444444444,
              "#bd3786"
             ],
             [
              0.5555555555555556,
              "#d8576b"
             ],
             [
              0.6666666666666666,
              "#ed7953"
             ],
             [
              0.7777777777777778,
              "#fb9f3a"
             ],
             [
              0.8888888888888888,
              "#fdca26"
             ],
             [
              1,
              "#f0f921"
             ]
            ],
            "type": "contour"
           }
          ],
          "contourcarpet": [
           {
            "colorbar": {
             "outlinewidth": 0,
             "ticks": ""
            },
            "type": "contourcarpet"
           }
          ],
          "heatmap": [
           {
            "colorbar": {
             "outlinewidth": 0,
             "ticks": ""
            },
            "colorscale": [
             [
              0,
              "#0d0887"
             ],
             [
              0.1111111111111111,
              "#46039f"
             ],
             [
              0.2222222222222222,
              "#7201a8"
             ],
             [
              0.3333333333333333,
              "#9c179e"
             ],
             [
              0.4444444444444444,
              "#bd3786"
             ],
             [
              0.5555555555555556,
              "#d8576b"
             ],
             [
              0.6666666666666666,
              "#ed7953"
             ],
             [
              0.7777777777777778,
              "#fb9f3a"
             ],
             [
              0.8888888888888888,
              "#fdca26"
             ],
             [
              1,
              "#f0f921"
             ]
            ],
            "type": "heatmap"
           }
          ],
          "heatmapgl": [
           {
            "colorbar": {
             "outlinewidth": 0,
             "ticks": ""
            },
            "colorscale": [
             [
              0,
              "#0d0887"
             ],
             [
              0.1111111111111111,
              "#46039f"
             ],
             [
              0.2222222222222222,
              "#7201a8"
             ],
             [
              0.3333333333333333,
              "#9c179e"
             ],
             [
              0.4444444444444444,
              "#bd3786"
             ],
             [
              0.5555555555555556,
              "#d8576b"
             ],
             [
              0.6666666666666666,
              "#ed7953"
             ],
             [
              0.7777777777777778,
              "#fb9f3a"
             ],
             [
              0.8888888888888888,
              "#fdca26"
             ],
             [
              1,
              "#f0f921"
             ]
            ],
            "type": "heatmapgl"
           }
          ],
          "histogram": [
           {
            "marker": {
             "pattern": {
              "fillmode": "overlay",
              "size": 10,
              "solidity": 0.2
             }
            },
            "type": "histogram"
           }
          ],
          "histogram2d": [
           {
            "colorbar": {
             "outlinewidth": 0,
             "ticks": ""
            },
            "colorscale": [
             [
              0,
              "#0d0887"
             ],
             [
              0.1111111111111111,
              "#46039f"
             ],
             [
              0.2222222222222222,
              "#7201a8"
             ],
             [
              0.3333333333333333,
              "#9c179e"
             ],
             [
              0.4444444444444444,
              "#bd3786"
             ],
             [
              0.5555555555555556,
              "#d8576b"
             ],
             [
              0.6666666666666666,
              "#ed7953"
             ],
             [
              0.7777777777777778,
              "#fb9f3a"
             ],
             [
              0.8888888888888888,
              "#fdca26"
             ],
             [
              1,
              "#f0f921"
             ]
            ],
            "type": "histogram2d"
           }
          ],
          "histogram2dcontour": [
           {
            "colorbar": {
             "outlinewidth": 0,
             "ticks": ""
            },
            "colorscale": [
             [
              0,
              "#0d0887"
             ],
             [
              0.1111111111111111,
              "#46039f"
             ],
             [
              0.2222222222222222,
              "#7201a8"
             ],
             [
              0.3333333333333333,
              "#9c179e"
             ],
             [
              0.4444444444444444,
              "#bd3786"
             ],
             [
              0.5555555555555556,
              "#d8576b"
             ],
             [
              0.6666666666666666,
              "#ed7953"
             ],
             [
              0.7777777777777778,
              "#fb9f3a"
             ],
             [
              0.8888888888888888,
              "#fdca26"
             ],
             [
              1,
              "#f0f921"
             ]
            ],
            "type": "histogram2dcontour"
           }
          ],
          "mesh3d": [
           {
            "colorbar": {
             "outlinewidth": 0,
             "ticks": ""
            },
            "type": "mesh3d"
           }
          ],
          "parcoords": [
           {
            "line": {
             "colorbar": {
              "outlinewidth": 0,
              "ticks": ""
             }
            },
            "type": "parcoords"
           }
          ],
          "pie": [
           {
            "automargin": true,
            "type": "pie"
           }
          ],
          "scatter": [
           {
            "fillpattern": {
             "fillmode": "overlay",
             "size": 10,
             "solidity": 0.2
            },
            "type": "scatter"
           }
          ],
          "scatter3d": [
           {
            "line": {
             "colorbar": {
              "outlinewidth": 0,
              "ticks": ""
             }
            },
            "marker": {
             "colorbar": {
              "outlinewidth": 0,
              "ticks": ""
             }
            },
            "type": "scatter3d"
           }
          ],
          "scattercarpet": [
           {
            "marker": {
             "colorbar": {
              "outlinewidth": 0,
              "ticks": ""
             }
            },
            "type": "scattercarpet"
           }
          ],
          "scattergeo": [
           {
            "marker": {
             "colorbar": {
              "outlinewidth": 0,
              "ticks": ""
             }
            },
            "type": "scattergeo"
           }
          ],
          "scattergl": [
           {
            "marker": {
             "colorbar": {
              "outlinewidth": 0,
              "ticks": ""
             }
            },
            "type": "scattergl"
           }
          ],
          "scattermapbox": [
           {
            "marker": {
             "colorbar": {
              "outlinewidth": 0,
              "ticks": ""
             }
            },
            "type": "scattermapbox"
           }
          ],
          "scatterpolar": [
           {
            "marker": {
             "colorbar": {
              "outlinewidth": 0,
              "ticks": ""
             }
            },
            "type": "scatterpolar"
           }
          ],
          "scatterpolargl": [
           {
            "marker": {
             "colorbar": {
              "outlinewidth": 0,
              "ticks": ""
             }
            },
            "type": "scatterpolargl"
           }
          ],
          "scatterternary": [
           {
            "marker": {
             "colorbar": {
              "outlinewidth": 0,
              "ticks": ""
             }
            },
            "type": "scatterternary"
           }
          ],
          "surface": [
           {
            "colorbar": {
             "outlinewidth": 0,
             "ticks": ""
            },
            "colorscale": [
             [
              0,
              "#0d0887"
             ],
             [
              0.1111111111111111,
              "#46039f"
             ],
             [
              0.2222222222222222,
              "#7201a8"
             ],
             [
              0.3333333333333333,
              "#9c179e"
             ],
             [
              0.4444444444444444,
              "#bd3786"
             ],
             [
              0.5555555555555556,
              "#d8576b"
             ],
             [
              0.6666666666666666,
              "#ed7953"
             ],
             [
              0.7777777777777778,
              "#fb9f3a"
             ],
             [
              0.8888888888888888,
              "#fdca26"
             ],
             [
              1,
              "#f0f921"
             ]
            ],
            "type": "surface"
           }
          ],
          "table": [
           {
            "cells": {
             "fill": {
              "color": "#EBF0F8"
             },
             "line": {
              "color": "white"
             }
            },
            "header": {
             "fill": {
              "color": "#C8D4E3"
             },
             "line": {
              "color": "white"
             }
            },
            "type": "table"
           }
          ]
         },
         "layout": {
          "annotationdefaults": {
           "arrowcolor": "#2a3f5f",
           "arrowhead": 0,
           "arrowwidth": 1
          },
          "autotypenumbers": "strict",
          "coloraxis": {
           "colorbar": {
            "outlinewidth": 0,
            "ticks": ""
           }
          },
          "colorscale": {
           "diverging": [
            [
             0,
             "#8e0152"
            ],
            [
             0.1,
             "#c51b7d"
            ],
            [
             0.2,
             "#de77ae"
            ],
            [
             0.3,
             "#f1b6da"
            ],
            [
             0.4,
             "#fde0ef"
            ],
            [
             0.5,
             "#f7f7f7"
            ],
            [
             0.6,
             "#e6f5d0"
            ],
            [
             0.7,
             "#b8e186"
            ],
            [
             0.8,
             "#7fbc41"
            ],
            [
             0.9,
             "#4d9221"
            ],
            [
             1,
             "#276419"
            ]
           ],
           "sequential": [
            [
             0,
             "#0d0887"
            ],
            [
             0.1111111111111111,
             "#46039f"
            ],
            [
             0.2222222222222222,
             "#7201a8"
            ],
            [
             0.3333333333333333,
             "#9c179e"
            ],
            [
             0.4444444444444444,
             "#bd3786"
            ],
            [
             0.5555555555555556,
             "#d8576b"
            ],
            [
             0.6666666666666666,
             "#ed7953"
            ],
            [
             0.7777777777777778,
             "#fb9f3a"
            ],
            [
             0.8888888888888888,
             "#fdca26"
            ],
            [
             1,
             "#f0f921"
            ]
           ],
           "sequentialminus": [
            [
             0,
             "#0d0887"
            ],
            [
             0.1111111111111111,
             "#46039f"
            ],
            [
             0.2222222222222222,
             "#7201a8"
            ],
            [
             0.3333333333333333,
             "#9c179e"
            ],
            [
             0.4444444444444444,
             "#bd3786"
            ],
            [
             0.5555555555555556,
             "#d8576b"
            ],
            [
             0.6666666666666666,
             "#ed7953"
            ],
            [
             0.7777777777777778,
             "#fb9f3a"
            ],
            [
             0.8888888888888888,
             "#fdca26"
            ],
            [
             1,
             "#f0f921"
            ]
           ]
          },
          "colorway": [
           "#636efa",
           "#EF553B",
           "#00cc96",
           "#ab63fa",
           "#FFA15A",
           "#19d3f3",
           "#FF6692",
           "#B6E880",
           "#FF97FF",
           "#FECB52"
          ],
          "font": {
           "color": "#2a3f5f"
          },
          "geo": {
           "bgcolor": "white",
           "lakecolor": "white",
           "landcolor": "#E5ECF6",
           "showlakes": true,
           "showland": true,
           "subunitcolor": "white"
          },
          "hoverlabel": {
           "align": "left"
          },
          "hovermode": "closest",
          "mapbox": {
           "style": "light"
          },
          "paper_bgcolor": "white",
          "plot_bgcolor": "#E5ECF6",
          "polar": {
           "angularaxis": {
            "gridcolor": "white",
            "linecolor": "white",
            "ticks": ""
           },
           "bgcolor": "#E5ECF6",
           "radialaxis": {
            "gridcolor": "white",
            "linecolor": "white",
            "ticks": ""
           }
          },
          "scene": {
           "xaxis": {
            "backgroundcolor": "#E5ECF6",
            "gridcolor": "white",
            "gridwidth": 2,
            "linecolor": "white",
            "showbackground": true,
            "ticks": "",
            "zerolinecolor": "white"
           },
           "yaxis": {
            "backgroundcolor": "#E5ECF6",
            "gridcolor": "white",
            "gridwidth": 2,
            "linecolor": "white",
            "showbackground": true,
            "ticks": "",
            "zerolinecolor": "white"
           },
           "zaxis": {
            "backgroundcolor": "#E5ECF6",
            "gridcolor": "white",
            "gridwidth": 2,
            "linecolor": "white",
            "showbackground": true,
            "ticks": "",
            "zerolinecolor": "white"
           }
          },
          "shapedefaults": {
           "line": {
            "color": "#2a3f5f"
           }
          },
          "ternary": {
           "aaxis": {
            "gridcolor": "white",
            "linecolor": "white",
            "ticks": ""
           },
           "baxis": {
            "gridcolor": "white",
            "linecolor": "white",
            "ticks": ""
           },
           "bgcolor": "#E5ECF6",
           "caxis": {
            "gridcolor": "white",
            "linecolor": "white",
            "ticks": ""
           }
          },
          "title": {
           "x": 0.05
          },
          "xaxis": {
           "automargin": true,
           "gridcolor": "white",
           "linecolor": "white",
           "ticks": "",
           "title": {
            "standoff": 15
           },
           "zerolinecolor": "white",
           "zerolinewidth": 2
          },
          "yaxis": {
           "automargin": true,
           "gridcolor": "white",
           "linecolor": "white",
           "ticks": "",
           "title": {
            "standoff": 15
           },
           "zerolinecolor": "white",
           "zerolinewidth": 2
          }
         }
        },
        "xaxis": {
         "anchor": "y",
         "domain": [
          0,
          1
         ],
         "title": {
          "text": "WorkExp"
         }
        },
        "yaxis": {
         "anchor": "x",
         "domain": [
          0,
          1
         ],
         "title": {
          "text": "count"
         }
        }
       }
      },
      "text/html": [
       "<div>                            <div id=\"46bcc241-657a-4516-87ee-3b9d6cbdc4f4\" class=\"plotly-graph-div\" style=\"height:525px; width:100%;\"></div>            <script type=\"text/javascript\">                require([\"plotly\"], function(Plotly) {                    window.PLOTLYENV=window.PLOTLYENV || {};                                    if (document.getElementById(\"46bcc241-657a-4516-87ee-3b9d6cbdc4f4\")) {                    Plotly.newPlot(                        \"46bcc241-657a-4516-87ee-3b9d6cbdc4f4\",                        [{\"hovertemplate\":\"WorkExp=%{x}\\u003cbr\\u003ecount=%{y}\\u003cextra\\u003e\\u003c\\u002fextra\\u003e\",\"legendgroup\":\"\",\"line\":{\"color\":\"#636efa\",\"dash\":\"solid\"},\"marker\":{\"symbol\":\"circle\"},\"mode\":\"lines\",\"name\":\"\",\"orientation\":\"v\",\"showlegend\":false,\"x\":[50.0,49.0,48.0,47.0,46.0,45.0,44.0,43.0,42.0,41.0,40.0,39.0,38.0,37.0,36.0,35.0,34.0,33.0,32.0,31.0,30.0,29.0,28.0,27.0,26.0,25.0,24.0,23.0,22.0,21.0,20.0,19.0,18.0,17.0,16.0,15.0,14.0,13.0,12.0,11.0,10.0,9.0,8.0,7.0,6.0,5.0,4.0,3.0,2.0,1.0,0.0],\"xaxis\":\"x\",\"y\":[76,4,12,17,26,52,27,43,44,66,175,45,86,94,125,291,106,168,162,130,620,128,268,294,332,1198,410,728,538,374,1603,378,770,851,869,1990,846,1169,1714,1316,3000,1418,2219,2406,2318,3272,2513,2760,2769,2250,254],\"yaxis\":\"y\",\"type\":\"scatter\"}],                        {\"template\":{\"data\":{\"histogram2dcontour\":[{\"type\":\"histogram2dcontour\",\"colorbar\":{\"outlinewidth\":0,\"ticks\":\"\"},\"colorscale\":[[0.0,\"#0d0887\"],[0.1111111111111111,\"#46039f\"],[0.2222222222222222,\"#7201a8\"],[0.3333333333333333,\"#9c179e\"],[0.4444444444444444,\"#bd3786\"],[0.5555555555555556,\"#d8576b\"],[0.6666666666666666,\"#ed7953\"],[0.7777777777777778,\"#fb9f3a\"],[0.8888888888888888,\"#fdca26\"],[1.0,\"#f0f921\"]]}],\"choropleth\":[{\"type\":\"choropleth\",\"colorbar\":{\"outlinewidth\":0,\"ticks\":\"\"}}],\"histogram2d\":[{\"type\":\"histogram2d\",\"colorbar\":{\"outlinewidth\":0,\"ticks\":\"\"},\"colorscale\":[[0.0,\"#0d0887\"],[0.1111111111111111,\"#46039f\"],[0.2222222222222222,\"#7201a8\"],[0.3333333333333333,\"#9c179e\"],[0.4444444444444444,\"#bd3786\"],[0.5555555555555556,\"#d8576b\"],[0.6666666666666666,\"#ed7953\"],[0.7777777777777778,\"#fb9f3a\"],[0.8888888888888888,\"#fdca26\"],[1.0,\"#f0f921\"]]}],\"heatmap\":[{\"type\":\"heatmap\",\"colorbar\":{\"outlinewidth\":0,\"ticks\":\"\"},\"colorscale\":[[0.0,\"#0d0887\"],[0.1111111111111111,\"#46039f\"],[0.2222222222222222,\"#7201a8\"],[0.3333333333333333,\"#9c179e\"],[0.4444444444444444,\"#bd3786\"],[0.5555555555555556,\"#d8576b\"],[0.6666666666666666,\"#ed7953\"],[0.7777777777777778,\"#fb9f3a\"],[0.8888888888888888,\"#fdca26\"],[1.0,\"#f0f921\"]]}],\"heatmapgl\":[{\"type\":\"heatmapgl\",\"colorbar\":{\"outlinewidth\":0,\"ticks\":\"\"},\"colorscale\":[[0.0,\"#0d0887\"],[0.1111111111111111,\"#46039f\"],[0.2222222222222222,\"#7201a8\"],[0.3333333333333333,\"#9c179e\"],[0.4444444444444444,\"#bd3786\"],[0.5555555555555556,\"#d8576b\"],[0.6666666666666666,\"#ed7953\"],[0.7777777777777778,\"#fb9f3a\"],[0.8888888888888888,\"#fdca26\"],[1.0,\"#f0f921\"]]}],\"contourcarpet\":[{\"type\":\"contourcarpet\",\"colorbar\":{\"outlinewidth\":0,\"ticks\":\"\"}}],\"contour\":[{\"type\":\"contour\",\"colorbar\":{\"outlinewidth\":0,\"ticks\":\"\"},\"colorscale\":[[0.0,\"#0d0887\"],[0.1111111111111111,\"#46039f\"],[0.2222222222222222,\"#7201a8\"],[0.3333333333333333,\"#9c179e\"],[0.4444444444444444,\"#bd3786\"],[0.5555555555555556,\"#d8576b\"],[0.6666666666666666,\"#ed7953\"],[0.7777777777777778,\"#fb9f3a\"],[0.8888888888888888,\"#fdca26\"],[1.0,\"#f0f921\"]]}],\"surface\":[{\"type\":\"surface\",\"colorbar\":{\"outlinewidth\":0,\"ticks\":\"\"},\"colorscale\":[[0.0,\"#0d0887\"],[0.1111111111111111,\"#46039f\"],[0.2222222222222222,\"#7201a8\"],[0.3333333333333333,\"#9c179e\"],[0.4444444444444444,\"#bd3786\"],[0.5555555555555556,\"#d8576b\"],[0.6666666666666666,\"#ed7953\"],[0.7777777777777778,\"#fb9f3a\"],[0.8888888888888888,\"#fdca26\"],[1.0,\"#f0f921\"]]}],\"mesh3d\":[{\"type\":\"mesh3d\",\"colorbar\":{\"outlinewidth\":0,\"ticks\":\"\"}}],\"scatter\":[{\"fillpattern\":{\"fillmode\":\"overlay\",\"size\":10,\"solidity\":0.2},\"type\":\"scatter\"}],\"parcoords\":[{\"type\":\"parcoords\",\"line\":{\"colorbar\":{\"outlinewidth\":0,\"ticks\":\"\"}}}],\"scatterpolargl\":[{\"type\":\"scatterpolargl\",\"marker\":{\"colorbar\":{\"outlinewidth\":0,\"ticks\":\"\"}}}],\"bar\":[{\"error_x\":{\"color\":\"#2a3f5f\"},\"error_y\":{\"color\":\"#2a3f5f\"},\"marker\":{\"line\":{\"color\":\"#E5ECF6\",\"width\":0.5},\"pattern\":{\"fillmode\":\"overlay\",\"size\":10,\"solidity\":0.2}},\"type\":\"bar\"}],\"scattergeo\":[{\"type\":\"scattergeo\",\"marker\":{\"colorbar\":{\"outlinewidth\":0,\"ticks\":\"\"}}}],\"scatterpolar\":[{\"type\":\"scatterpolar\",\"marker\":{\"colorbar\":{\"outlinewidth\":0,\"ticks\":\"\"}}}],\"histogram\":[{\"marker\":{\"pattern\":{\"fillmode\":\"overlay\",\"size\":10,\"solidity\":0.2}},\"type\":\"histogram\"}],\"scattergl\":[{\"type\":\"scattergl\",\"marker\":{\"colorbar\":{\"outlinewidth\":0,\"ticks\":\"\"}}}],\"scatter3d\":[{\"type\":\"scatter3d\",\"line\":{\"colorbar\":{\"outlinewidth\":0,\"ticks\":\"\"}},\"marker\":{\"colorbar\":{\"outlinewidth\":0,\"ticks\":\"\"}}}],\"scattermapbox\":[{\"type\":\"scattermapbox\",\"marker\":{\"colorbar\":{\"outlinewidth\":0,\"ticks\":\"\"}}}],\"scatterternary\":[{\"type\":\"scatterternary\",\"marker\":{\"colorbar\":{\"outlinewidth\":0,\"ticks\":\"\"}}}],\"scattercarpet\":[{\"type\":\"scattercarpet\",\"marker\":{\"colorbar\":{\"outlinewidth\":0,\"ticks\":\"\"}}}],\"carpet\":[{\"aaxis\":{\"endlinecolor\":\"#2a3f5f\",\"gridcolor\":\"white\",\"linecolor\":\"white\",\"minorgridcolor\":\"white\",\"startlinecolor\":\"#2a3f5f\"},\"baxis\":{\"endlinecolor\":\"#2a3f5f\",\"gridcolor\":\"white\",\"linecolor\":\"white\",\"minorgridcolor\":\"white\",\"startlinecolor\":\"#2a3f5f\"},\"type\":\"carpet\"}],\"table\":[{\"cells\":{\"fill\":{\"color\":\"#EBF0F8\"},\"line\":{\"color\":\"white\"}},\"header\":{\"fill\":{\"color\":\"#C8D4E3\"},\"line\":{\"color\":\"white\"}},\"type\":\"table\"}],\"barpolar\":[{\"marker\":{\"line\":{\"color\":\"#E5ECF6\",\"width\":0.5},\"pattern\":{\"fillmode\":\"overlay\",\"size\":10,\"solidity\":0.2}},\"type\":\"barpolar\"}],\"pie\":[{\"automargin\":true,\"type\":\"pie\"}]},\"layout\":{\"autotypenumbers\":\"strict\",\"colorway\":[\"#636efa\",\"#EF553B\",\"#00cc96\",\"#ab63fa\",\"#FFA15A\",\"#19d3f3\",\"#FF6692\",\"#B6E880\",\"#FF97FF\",\"#FECB52\"],\"font\":{\"color\":\"#2a3f5f\"},\"hovermode\":\"closest\",\"hoverlabel\":{\"align\":\"left\"},\"paper_bgcolor\":\"white\",\"plot_bgcolor\":\"#E5ECF6\",\"polar\":{\"bgcolor\":\"#E5ECF6\",\"angularaxis\":{\"gridcolor\":\"white\",\"linecolor\":\"white\",\"ticks\":\"\"},\"radialaxis\":{\"gridcolor\":\"white\",\"linecolor\":\"white\",\"ticks\":\"\"}},\"ternary\":{\"bgcolor\":\"#E5ECF6\",\"aaxis\":{\"gridcolor\":\"white\",\"linecolor\":\"white\",\"ticks\":\"\"},\"baxis\":{\"gridcolor\":\"white\",\"linecolor\":\"white\",\"ticks\":\"\"},\"caxis\":{\"gridcolor\":\"white\",\"linecolor\":\"white\",\"ticks\":\"\"}},\"coloraxis\":{\"colorbar\":{\"outlinewidth\":0,\"ticks\":\"\"}},\"colorscale\":{\"sequential\":[[0.0,\"#0d0887\"],[0.1111111111111111,\"#46039f\"],[0.2222222222222222,\"#7201a8\"],[0.3333333333333333,\"#9c179e\"],[0.4444444444444444,\"#bd3786\"],[0.5555555555555556,\"#d8576b\"],[0.6666666666666666,\"#ed7953\"],[0.7777777777777778,\"#fb9f3a\"],[0.8888888888888888,\"#fdca26\"],[1.0,\"#f0f921\"]],\"sequentialminus\":[[0.0,\"#0d0887\"],[0.1111111111111111,\"#46039f\"],[0.2222222222222222,\"#7201a8\"],[0.3333333333333333,\"#9c179e\"],[0.4444444444444444,\"#bd3786\"],[0.5555555555555556,\"#d8576b\"],[0.6666666666666666,\"#ed7953\"],[0.7777777777777778,\"#fb9f3a\"],[0.8888888888888888,\"#fdca26\"],[1.0,\"#f0f921\"]],\"diverging\":[[0,\"#8e0152\"],[0.1,\"#c51b7d\"],[0.2,\"#de77ae\"],[0.3,\"#f1b6da\"],[0.4,\"#fde0ef\"],[0.5,\"#f7f7f7\"],[0.6,\"#e6f5d0\"],[0.7,\"#b8e186\"],[0.8,\"#7fbc41\"],[0.9,\"#4d9221\"],[1,\"#276419\"]]},\"xaxis\":{\"gridcolor\":\"white\",\"linecolor\":\"white\",\"ticks\":\"\",\"title\":{\"standoff\":15},\"zerolinecolor\":\"white\",\"automargin\":true,\"zerolinewidth\":2},\"yaxis\":{\"gridcolor\":\"white\",\"linecolor\":\"white\",\"ticks\":\"\",\"title\":{\"standoff\":15},\"zerolinecolor\":\"white\",\"automargin\":true,\"zerolinewidth\":2},\"scene\":{\"xaxis\":{\"backgroundcolor\":\"#E5ECF6\",\"gridcolor\":\"white\",\"linecolor\":\"white\",\"showbackground\":true,\"ticks\":\"\",\"zerolinecolor\":\"white\",\"gridwidth\":2},\"yaxis\":{\"backgroundcolor\":\"#E5ECF6\",\"gridcolor\":\"white\",\"linecolor\":\"white\",\"showbackground\":true,\"ticks\":\"\",\"zerolinecolor\":\"white\",\"gridwidth\":2},\"zaxis\":{\"backgroundcolor\":\"#E5ECF6\",\"gridcolor\":\"white\",\"linecolor\":\"white\",\"showbackground\":true,\"ticks\":\"\",\"zerolinecolor\":\"white\",\"gridwidth\":2}},\"shapedefaults\":{\"line\":{\"color\":\"#2a3f5f\"}},\"annotationdefaults\":{\"arrowcolor\":\"#2a3f5f\",\"arrowhead\":0,\"arrowwidth\":1},\"geo\":{\"bgcolor\":\"white\",\"landcolor\":\"#E5ECF6\",\"subunitcolor\":\"white\",\"showland\":true,\"showlakes\":true,\"lakecolor\":\"white\"},\"title\":{\"x\":0.05},\"mapbox\":{\"style\":\"light\"}}},\"xaxis\":{\"anchor\":\"y\",\"domain\":[0.0,1.0],\"title\":{\"text\":\"WorkExp\"}},\"yaxis\":{\"anchor\":\"x\",\"domain\":[0.0,1.0],\"title\":{\"text\":\"count\"}},\"legend\":{\"tracegroupgap\":0},\"margin\":{\"t\":60}},                        {\"responsive\": true}                    ).then(function(){\n",
       "                            \n",
       "var gd = document.getElementById('46bcc241-657a-4516-87ee-3b9d6cbdc4f4');\n",
       "var x = new MutationObserver(function (mutations, observer) {{\n",
       "        var display = window.getComputedStyle(gd).display;\n",
       "        if (!display || display === 'none') {{\n",
       "            console.log([gd, 'removed!']);\n",
       "            Plotly.purge(gd);\n",
       "            observer.disconnect();\n",
       "        }}\n",
       "}});\n",
       "\n",
       "// Listen for the removal of the full notebook cells\n",
       "var notebookContainer = gd.closest('#notebook-container');\n",
       "if (notebookContainer) {{\n",
       "    x.observe(notebookContainer, {childList: true});\n",
       "}}\n",
       "\n",
       "// Listen for the clearing of the current output cell\n",
       "var outputEl = gd.closest('.output');\n",
       "if (outputEl) {{\n",
       "    x.observe(outputEl, {childList: true});\n",
       "}}\n",
       "\n",
       "                        })                };                });            </script>        </div>"
      ]
     },
     "metadata": {},
     "output_type": "display_data"
    }
   ],
   "source": [
    "output"
   ]
  },
  {
   "cell_type": "code",
   "execution_count": 179,
   "id": "72253444",
   "metadata": {},
   "outputs": [],
   "source": [
    "name=d['ConvertedCompYearly']\n",
    "\n",
    "def plotline(name):\n",
    "    MB =name[name!=\"none\"].value_counts()\n",
    "    DB = pd.DataFrame(MB).sort_values(by='ConvertedCompYearly',ascending=False)\n",
    "    #columns = ['answer','count'].sort_values(by='count',ascending=False)\n",
    "    #type(DB[1])\n",
    "    graph = px.bar(DB,y='count')\n",
    "    return graph\n",
    "\n",
    "output = plotline(name)"
   ]
  },
  {
   "cell_type": "code",
   "execution_count": 181,
   "id": "f907d381",
   "metadata": {},
   "outputs": [
    {
     "name": "stdout",
     "output_type": "stream",
     "text": [
      "74351432.0\n",
      "103110.08171765343\n",
      "1.0\n"
     ]
    }
   ],
   "source": [
    "print(data['ConvertedCompYearly'].max())\n",
    "print(data['ConvertedCompYearly'].mean())\n",
    "print(data['ConvertedCompYearly'].min())\n",
    "\n",
    "#the lowest value for compensation in dollar is 1 dollar \n",
    "#which is mostly a mistake in the data entry, as such we will exclude this column in our analysis"
   ]
  },
  {
   "cell_type": "code",
   "execution_count": 292,
   "id": "05fde41b",
   "metadata": {},
   "outputs": [],
   "source": [
    "# a function to plot a pie chat\n",
    "def pie(name):\n",
    "    MB =column_count(name)\n",
    "    DB = MB.copy()\n",
    "    encode = [chr(i) for i in range(97,123)]\n",
    "    index = 0\n",
    "    answer ={}\n",
    "    for i in MB.answer:\n",
    "        answer[i] =encode[index]\n",
    "        index = index+1\n",
    "    label = answer\n",
    "    DB.answer = DB.answer.map(answer)\n",
    "    graph = px.pie(DB, names = \"answer\", values =\"count\", color = \"answer\")\n",
    "    return graph,label\n",
    "\n",
    "out,lab = pie(d['ProfessionalTech'])"
   ]
  },
  {
   "cell_type": "code",
   "execution_count": 293,
   "id": "3653823a",
   "metadata": {},
   "outputs": [
    {
     "data": {
      "application/vnd.plotly.v1+json": {
       "config": {
        "plotlyServerURL": "https://plot.ly"
       },
       "data": [
        {
         "customdata": [
          [
           "a"
          ],
          [
           "b"
          ],
          [
           "c"
          ],
          [
           "d"
          ],
          [
           "e"
          ],
          [
           "f"
          ],
          [
           "g"
          ],
          [
           "h"
          ],
          [
           "i"
          ],
          [
           "j"
          ]
         ],
         "domain": {
          "x": [
           0,
           1
          ],
          "y": [
           0,
           1
          ]
         },
         "hovertemplate": "answer=%{customdata[0]}<br>count=%{value}<extra></extra>",
         "labels": [
          "a",
          "b",
          "c",
          "d",
          "e",
          "f",
          "g",
          "h",
          "i",
          "j"
         ],
         "legendgroup": "",
         "marker": {
          "colors": [
           "#636efa",
           "#EF553B",
           "#00cc96",
           "#ab63fa",
           "#FFA15A",
           "#19d3f3",
           "#FF6692",
           "#B6E880",
           "#FF97FF",
           "#FECB52"
          ]
         },
         "name": "",
         "showlegend": true,
         "type": "pie",
         "values": [
          30040,
          29314,
          25377,
          25240,
          20510,
          16433,
          15323,
          6536,
          5893,
          4968
         ]
        }
       ],
       "layout": {
        "legend": {
         "tracegroupgap": 0
        },
        "margin": {
         "t": 60
        },
        "template": {
         "data": {
          "bar": [
           {
            "error_x": {
             "color": "#2a3f5f"
            },
            "error_y": {
             "color": "#2a3f5f"
            },
            "marker": {
             "line": {
              "color": "#E5ECF6",
              "width": 0.5
             },
             "pattern": {
              "fillmode": "overlay",
              "size": 10,
              "solidity": 0.2
             }
            },
            "type": "bar"
           }
          ],
          "barpolar": [
           {
            "marker": {
             "line": {
              "color": "#E5ECF6",
              "width": 0.5
             },
             "pattern": {
              "fillmode": "overlay",
              "size": 10,
              "solidity": 0.2
             }
            },
            "type": "barpolar"
           }
          ],
          "carpet": [
           {
            "aaxis": {
             "endlinecolor": "#2a3f5f",
             "gridcolor": "white",
             "linecolor": "white",
             "minorgridcolor": "white",
             "startlinecolor": "#2a3f5f"
            },
            "baxis": {
             "endlinecolor": "#2a3f5f",
             "gridcolor": "white",
             "linecolor": "white",
             "minorgridcolor": "white",
             "startlinecolor": "#2a3f5f"
            },
            "type": "carpet"
           }
          ],
          "choropleth": [
           {
            "colorbar": {
             "outlinewidth": 0,
             "ticks": ""
            },
            "type": "choropleth"
           }
          ],
          "contour": [
           {
            "colorbar": {
             "outlinewidth": 0,
             "ticks": ""
            },
            "colorscale": [
             [
              0,
              "#0d0887"
             ],
             [
              0.1111111111111111,
              "#46039f"
             ],
             [
              0.2222222222222222,
              "#7201a8"
             ],
             [
              0.3333333333333333,
              "#9c179e"
             ],
             [
              0.4444444444444444,
              "#bd3786"
             ],
             [
              0.5555555555555556,
              "#d8576b"
             ],
             [
              0.6666666666666666,
              "#ed7953"
             ],
             [
              0.7777777777777778,
              "#fb9f3a"
             ],
             [
              0.8888888888888888,
              "#fdca26"
             ],
             [
              1,
              "#f0f921"
             ]
            ],
            "type": "contour"
           }
          ],
          "contourcarpet": [
           {
            "colorbar": {
             "outlinewidth": 0,
             "ticks": ""
            },
            "type": "contourcarpet"
           }
          ],
          "heatmap": [
           {
            "colorbar": {
             "outlinewidth": 0,
             "ticks": ""
            },
            "colorscale": [
             [
              0,
              "#0d0887"
             ],
             [
              0.1111111111111111,
              "#46039f"
             ],
             [
              0.2222222222222222,
              "#7201a8"
             ],
             [
              0.3333333333333333,
              "#9c179e"
             ],
             [
              0.4444444444444444,
              "#bd3786"
             ],
             [
              0.5555555555555556,
              "#d8576b"
             ],
             [
              0.6666666666666666,
              "#ed7953"
             ],
             [
              0.7777777777777778,
              "#fb9f3a"
             ],
             [
              0.8888888888888888,
              "#fdca26"
             ],
             [
              1,
              "#f0f921"
             ]
            ],
            "type": "heatmap"
           }
          ],
          "heatmapgl": [
           {
            "colorbar": {
             "outlinewidth": 0,
             "ticks": ""
            },
            "colorscale": [
             [
              0,
              "#0d0887"
             ],
             [
              0.1111111111111111,
              "#46039f"
             ],
             [
              0.2222222222222222,
              "#7201a8"
             ],
             [
              0.3333333333333333,
              "#9c179e"
             ],
             [
              0.4444444444444444,
              "#bd3786"
             ],
             [
              0.5555555555555556,
              "#d8576b"
             ],
             [
              0.6666666666666666,
              "#ed7953"
             ],
             [
              0.7777777777777778,
              "#fb9f3a"
             ],
             [
              0.8888888888888888,
              "#fdca26"
             ],
             [
              1,
              "#f0f921"
             ]
            ],
            "type": "heatmapgl"
           }
          ],
          "histogram": [
           {
            "marker": {
             "pattern": {
              "fillmode": "overlay",
              "size": 10,
              "solidity": 0.2
             }
            },
            "type": "histogram"
           }
          ],
          "histogram2d": [
           {
            "colorbar": {
             "outlinewidth": 0,
             "ticks": ""
            },
            "colorscale": [
             [
              0,
              "#0d0887"
             ],
             [
              0.1111111111111111,
              "#46039f"
             ],
             [
              0.2222222222222222,
              "#7201a8"
             ],
             [
              0.3333333333333333,
              "#9c179e"
             ],
             [
              0.4444444444444444,
              "#bd3786"
             ],
             [
              0.5555555555555556,
              "#d8576b"
             ],
             [
              0.6666666666666666,
              "#ed7953"
             ],
             [
              0.7777777777777778,
              "#fb9f3a"
             ],
             [
              0.8888888888888888,
              "#fdca26"
             ],
             [
              1,
              "#f0f921"
             ]
            ],
            "type": "histogram2d"
           }
          ],
          "histogram2dcontour": [
           {
            "colorbar": {
             "outlinewidth": 0,
             "ticks": ""
            },
            "colorscale": [
             [
              0,
              "#0d0887"
             ],
             [
              0.1111111111111111,
              "#46039f"
             ],
             [
              0.2222222222222222,
              "#7201a8"
             ],
             [
              0.3333333333333333,
              "#9c179e"
             ],
             [
              0.4444444444444444,
              "#bd3786"
             ],
             [
              0.5555555555555556,
              "#d8576b"
             ],
             [
              0.6666666666666666,
              "#ed7953"
             ],
             [
              0.7777777777777778,
              "#fb9f3a"
             ],
             [
              0.8888888888888888,
              "#fdca26"
             ],
             [
              1,
              "#f0f921"
             ]
            ],
            "type": "histogram2dcontour"
           }
          ],
          "mesh3d": [
           {
            "colorbar": {
             "outlinewidth": 0,
             "ticks": ""
            },
            "type": "mesh3d"
           }
          ],
          "parcoords": [
           {
            "line": {
             "colorbar": {
              "outlinewidth": 0,
              "ticks": ""
             }
            },
            "type": "parcoords"
           }
          ],
          "pie": [
           {
            "automargin": true,
            "type": "pie"
           }
          ],
          "scatter": [
           {
            "fillpattern": {
             "fillmode": "overlay",
             "size": 10,
             "solidity": 0.2
            },
            "type": "scatter"
           }
          ],
          "scatter3d": [
           {
            "line": {
             "colorbar": {
              "outlinewidth": 0,
              "ticks": ""
             }
            },
            "marker": {
             "colorbar": {
              "outlinewidth": 0,
              "ticks": ""
             }
            },
            "type": "scatter3d"
           }
          ],
          "scattercarpet": [
           {
            "marker": {
             "colorbar": {
              "outlinewidth": 0,
              "ticks": ""
             }
            },
            "type": "scattercarpet"
           }
          ],
          "scattergeo": [
           {
            "marker": {
             "colorbar": {
              "outlinewidth": 0,
              "ticks": ""
             }
            },
            "type": "scattergeo"
           }
          ],
          "scattergl": [
           {
            "marker": {
             "colorbar": {
              "outlinewidth": 0,
              "ticks": ""
             }
            },
            "type": "scattergl"
           }
          ],
          "scattermapbox": [
           {
            "marker": {
             "colorbar": {
              "outlinewidth": 0,
              "ticks": ""
             }
            },
            "type": "scattermapbox"
           }
          ],
          "scatterpolar": [
           {
            "marker": {
             "colorbar": {
              "outlinewidth": 0,
              "ticks": ""
             }
            },
            "type": "scatterpolar"
           }
          ],
          "scatterpolargl": [
           {
            "marker": {
             "colorbar": {
              "outlinewidth": 0,
              "ticks": ""
             }
            },
            "type": "scatterpolargl"
           }
          ],
          "scatterternary": [
           {
            "marker": {
             "colorbar": {
              "outlinewidth": 0,
              "ticks": ""
             }
            },
            "type": "scatterternary"
           }
          ],
          "surface": [
           {
            "colorbar": {
             "outlinewidth": 0,
             "ticks": ""
            },
            "colorscale": [
             [
              0,
              "#0d0887"
             ],
             [
              0.1111111111111111,
              "#46039f"
             ],
             [
              0.2222222222222222,
              "#7201a8"
             ],
             [
              0.3333333333333333,
              "#9c179e"
             ],
             [
              0.4444444444444444,
              "#bd3786"
             ],
             [
              0.5555555555555556,
              "#d8576b"
             ],
             [
              0.6666666666666666,
              "#ed7953"
             ],
             [
              0.7777777777777778,
              "#fb9f3a"
             ],
             [
              0.8888888888888888,
              "#fdca26"
             ],
             [
              1,
              "#f0f921"
             ]
            ],
            "type": "surface"
           }
          ],
          "table": [
           {
            "cells": {
             "fill": {
              "color": "#EBF0F8"
             },
             "line": {
              "color": "white"
             }
            },
            "header": {
             "fill": {
              "color": "#C8D4E3"
             },
             "line": {
              "color": "white"
             }
            },
            "type": "table"
           }
          ]
         },
         "layout": {
          "annotationdefaults": {
           "arrowcolor": "#2a3f5f",
           "arrowhead": 0,
           "arrowwidth": 1
          },
          "autotypenumbers": "strict",
          "coloraxis": {
           "colorbar": {
            "outlinewidth": 0,
            "ticks": ""
           }
          },
          "colorscale": {
           "diverging": [
            [
             0,
             "#8e0152"
            ],
            [
             0.1,
             "#c51b7d"
            ],
            [
             0.2,
             "#de77ae"
            ],
            [
             0.3,
             "#f1b6da"
            ],
            [
             0.4,
             "#fde0ef"
            ],
            [
             0.5,
             "#f7f7f7"
            ],
            [
             0.6,
             "#e6f5d0"
            ],
            [
             0.7,
             "#b8e186"
            ],
            [
             0.8,
             "#7fbc41"
            ],
            [
             0.9,
             "#4d9221"
            ],
            [
             1,
             "#276419"
            ]
           ],
           "sequential": [
            [
             0,
             "#0d0887"
            ],
            [
             0.1111111111111111,
             "#46039f"
            ],
            [
             0.2222222222222222,
             "#7201a8"
            ],
            [
             0.3333333333333333,
             "#9c179e"
            ],
            [
             0.4444444444444444,
             "#bd3786"
            ],
            [
             0.5555555555555556,
             "#d8576b"
            ],
            [
             0.6666666666666666,
             "#ed7953"
            ],
            [
             0.7777777777777778,
             "#fb9f3a"
            ],
            [
             0.8888888888888888,
             "#fdca26"
            ],
            [
             1,
             "#f0f921"
            ]
           ],
           "sequentialminus": [
            [
             0,
             "#0d0887"
            ],
            [
             0.1111111111111111,
             "#46039f"
            ],
            [
             0.2222222222222222,
             "#7201a8"
            ],
            [
             0.3333333333333333,
             "#9c179e"
            ],
            [
             0.4444444444444444,
             "#bd3786"
            ],
            [
             0.5555555555555556,
             "#d8576b"
            ],
            [
             0.6666666666666666,
             "#ed7953"
            ],
            [
             0.7777777777777778,
             "#fb9f3a"
            ],
            [
             0.8888888888888888,
             "#fdca26"
            ],
            [
             1,
             "#f0f921"
            ]
           ]
          },
          "colorway": [
           "#636efa",
           "#EF553B",
           "#00cc96",
           "#ab63fa",
           "#FFA15A",
           "#19d3f3",
           "#FF6692",
           "#B6E880",
           "#FF97FF",
           "#FECB52"
          ],
          "font": {
           "color": "#2a3f5f"
          },
          "geo": {
           "bgcolor": "white",
           "lakecolor": "white",
           "landcolor": "#E5ECF6",
           "showlakes": true,
           "showland": true,
           "subunitcolor": "white"
          },
          "hoverlabel": {
           "align": "left"
          },
          "hovermode": "closest",
          "mapbox": {
           "style": "light"
          },
          "paper_bgcolor": "white",
          "plot_bgcolor": "#E5ECF6",
          "polar": {
           "angularaxis": {
            "gridcolor": "white",
            "linecolor": "white",
            "ticks": ""
           },
           "bgcolor": "#E5ECF6",
           "radialaxis": {
            "gridcolor": "white",
            "linecolor": "white",
            "ticks": ""
           }
          },
          "scene": {
           "xaxis": {
            "backgroundcolor": "#E5ECF6",
            "gridcolor": "white",
            "gridwidth": 2,
            "linecolor": "white",
            "showbackground": true,
            "ticks": "",
            "zerolinecolor": "white"
           },
           "yaxis": {
            "backgroundcolor": "#E5ECF6",
            "gridcolor": "white",
            "gridwidth": 2,
            "linecolor": "white",
            "showbackground": true,
            "ticks": "",
            "zerolinecolor": "white"
           },
           "zaxis": {
            "backgroundcolor": "#E5ECF6",
            "gridcolor": "white",
            "gridwidth": 2,
            "linecolor": "white",
            "showbackground": true,
            "ticks": "",
            "zerolinecolor": "white"
           }
          },
          "shapedefaults": {
           "line": {
            "color": "#2a3f5f"
           }
          },
          "ternary": {
           "aaxis": {
            "gridcolor": "white",
            "linecolor": "white",
            "ticks": ""
           },
           "baxis": {
            "gridcolor": "white",
            "linecolor": "white",
            "ticks": ""
           },
           "bgcolor": "#E5ECF6",
           "caxis": {
            "gridcolor": "white",
            "linecolor": "white",
            "ticks": ""
           }
          },
          "title": {
           "x": 0.05
          },
          "xaxis": {
           "automargin": true,
           "gridcolor": "white",
           "linecolor": "white",
           "ticks": "",
           "title": {
            "standoff": 15
           },
           "zerolinecolor": "white",
           "zerolinewidth": 2
          },
          "yaxis": {
           "automargin": true,
           "gridcolor": "white",
           "linecolor": "white",
           "ticks": "",
           "title": {
            "standoff": 15
           },
           "zerolinecolor": "white",
           "zerolinewidth": 2
          }
         }
        }
       }
      },
      "text/html": [
       "<div>                            <div id=\"d4b43b76-d50d-4000-92bf-6ff10a1ae865\" class=\"plotly-graph-div\" style=\"height:525px; width:100%;\"></div>            <script type=\"text/javascript\">                require([\"plotly\"], function(Plotly) {                    window.PLOTLYENV=window.PLOTLYENV || {};                                    if (document.getElementById(\"d4b43b76-d50d-4000-92bf-6ff10a1ae865\")) {                    Plotly.newPlot(                        \"d4b43b76-d50d-4000-92bf-6ff10a1ae865\",                        [{\"customdata\":[[\"a\"],[\"b\"],[\"c\"],[\"d\"],[\"e\"],[\"f\"],[\"g\"],[\"h\"],[\"i\"],[\"j\"]],\"domain\":{\"x\":[0.0,1.0],\"y\":[0.0,1.0]},\"hovertemplate\":\"answer=%{customdata[0]}\\u003cbr\\u003ecount=%{value}\\u003cextra\\u003e\\u003c\\u002fextra\\u003e\",\"labels\":[\"a\",\"b\",\"c\",\"d\",\"e\",\"f\",\"g\",\"h\",\"i\",\"j\"],\"legendgroup\":\"\",\"marker\":{\"colors\":[\"#636efa\",\"#EF553B\",\"#00cc96\",\"#ab63fa\",\"#FFA15A\",\"#19d3f3\",\"#FF6692\",\"#B6E880\",\"#FF97FF\",\"#FECB52\"]},\"name\":\"\",\"showlegend\":true,\"values\":[30040,29314,25377,25240,20510,16433,15323,6536,5893,4968],\"type\":\"pie\"}],                        {\"template\":{\"data\":{\"histogram2dcontour\":[{\"type\":\"histogram2dcontour\",\"colorbar\":{\"outlinewidth\":0,\"ticks\":\"\"},\"colorscale\":[[0.0,\"#0d0887\"],[0.1111111111111111,\"#46039f\"],[0.2222222222222222,\"#7201a8\"],[0.3333333333333333,\"#9c179e\"],[0.4444444444444444,\"#bd3786\"],[0.5555555555555556,\"#d8576b\"],[0.6666666666666666,\"#ed7953\"],[0.7777777777777778,\"#fb9f3a\"],[0.8888888888888888,\"#fdca26\"],[1.0,\"#f0f921\"]]}],\"choropleth\":[{\"type\":\"choropleth\",\"colorbar\":{\"outlinewidth\":0,\"ticks\":\"\"}}],\"histogram2d\":[{\"type\":\"histogram2d\",\"colorbar\":{\"outlinewidth\":0,\"ticks\":\"\"},\"colorscale\":[[0.0,\"#0d0887\"],[0.1111111111111111,\"#46039f\"],[0.2222222222222222,\"#7201a8\"],[0.3333333333333333,\"#9c179e\"],[0.4444444444444444,\"#bd3786\"],[0.5555555555555556,\"#d8576b\"],[0.6666666666666666,\"#ed7953\"],[0.7777777777777778,\"#fb9f3a\"],[0.8888888888888888,\"#fdca26\"],[1.0,\"#f0f921\"]]}],\"heatmap\":[{\"type\":\"heatmap\",\"colorbar\":{\"outlinewidth\":0,\"ticks\":\"\"},\"colorscale\":[[0.0,\"#0d0887\"],[0.1111111111111111,\"#46039f\"],[0.2222222222222222,\"#7201a8\"],[0.3333333333333333,\"#9c179e\"],[0.4444444444444444,\"#bd3786\"],[0.5555555555555556,\"#d8576b\"],[0.6666666666666666,\"#ed7953\"],[0.7777777777777778,\"#fb9f3a\"],[0.8888888888888888,\"#fdca26\"],[1.0,\"#f0f921\"]]}],\"heatmapgl\":[{\"type\":\"heatmapgl\",\"colorbar\":{\"outlinewidth\":0,\"ticks\":\"\"},\"colorscale\":[[0.0,\"#0d0887\"],[0.1111111111111111,\"#46039f\"],[0.2222222222222222,\"#7201a8\"],[0.3333333333333333,\"#9c179e\"],[0.4444444444444444,\"#bd3786\"],[0.5555555555555556,\"#d8576b\"],[0.6666666666666666,\"#ed7953\"],[0.7777777777777778,\"#fb9f3a\"],[0.8888888888888888,\"#fdca26\"],[1.0,\"#f0f921\"]]}],\"contourcarpet\":[{\"type\":\"contourcarpet\",\"colorbar\":{\"outlinewidth\":0,\"ticks\":\"\"}}],\"contour\":[{\"type\":\"contour\",\"colorbar\":{\"outlinewidth\":0,\"ticks\":\"\"},\"colorscale\":[[0.0,\"#0d0887\"],[0.1111111111111111,\"#46039f\"],[0.2222222222222222,\"#7201a8\"],[0.3333333333333333,\"#9c179e\"],[0.4444444444444444,\"#bd3786\"],[0.5555555555555556,\"#d8576b\"],[0.6666666666666666,\"#ed7953\"],[0.7777777777777778,\"#fb9f3a\"],[0.8888888888888888,\"#fdca26\"],[1.0,\"#f0f921\"]]}],\"surface\":[{\"type\":\"surface\",\"colorbar\":{\"outlinewidth\":0,\"ticks\":\"\"},\"colorscale\":[[0.0,\"#0d0887\"],[0.1111111111111111,\"#46039f\"],[0.2222222222222222,\"#7201a8\"],[0.3333333333333333,\"#9c179e\"],[0.4444444444444444,\"#bd3786\"],[0.5555555555555556,\"#d8576b\"],[0.6666666666666666,\"#ed7953\"],[0.7777777777777778,\"#fb9f3a\"],[0.8888888888888888,\"#fdca26\"],[1.0,\"#f0f921\"]]}],\"mesh3d\":[{\"type\":\"mesh3d\",\"colorbar\":{\"outlinewidth\":0,\"ticks\":\"\"}}],\"scatter\":[{\"fillpattern\":{\"fillmode\":\"overlay\",\"size\":10,\"solidity\":0.2},\"type\":\"scatter\"}],\"parcoords\":[{\"type\":\"parcoords\",\"line\":{\"colorbar\":{\"outlinewidth\":0,\"ticks\":\"\"}}}],\"scatterpolargl\":[{\"type\":\"scatterpolargl\",\"marker\":{\"colorbar\":{\"outlinewidth\":0,\"ticks\":\"\"}}}],\"bar\":[{\"error_x\":{\"color\":\"#2a3f5f\"},\"error_y\":{\"color\":\"#2a3f5f\"},\"marker\":{\"line\":{\"color\":\"#E5ECF6\",\"width\":0.5},\"pattern\":{\"fillmode\":\"overlay\",\"size\":10,\"solidity\":0.2}},\"type\":\"bar\"}],\"scattergeo\":[{\"type\":\"scattergeo\",\"marker\":{\"colorbar\":{\"outlinewidth\":0,\"ticks\":\"\"}}}],\"scatterpolar\":[{\"type\":\"scatterpolar\",\"marker\":{\"colorbar\":{\"outlinewidth\":0,\"ticks\":\"\"}}}],\"histogram\":[{\"marker\":{\"pattern\":{\"fillmode\":\"overlay\",\"size\":10,\"solidity\":0.2}},\"type\":\"histogram\"}],\"scattergl\":[{\"type\":\"scattergl\",\"marker\":{\"colorbar\":{\"outlinewidth\":0,\"ticks\":\"\"}}}],\"scatter3d\":[{\"type\":\"scatter3d\",\"line\":{\"colorbar\":{\"outlinewidth\":0,\"ticks\":\"\"}},\"marker\":{\"colorbar\":{\"outlinewidth\":0,\"ticks\":\"\"}}}],\"scattermapbox\":[{\"type\":\"scattermapbox\",\"marker\":{\"colorbar\":{\"outlinewidth\":0,\"ticks\":\"\"}}}],\"scatterternary\":[{\"type\":\"scatterternary\",\"marker\":{\"colorbar\":{\"outlinewidth\":0,\"ticks\":\"\"}}}],\"scattercarpet\":[{\"type\":\"scattercarpet\",\"marker\":{\"colorbar\":{\"outlinewidth\":0,\"ticks\":\"\"}}}],\"carpet\":[{\"aaxis\":{\"endlinecolor\":\"#2a3f5f\",\"gridcolor\":\"white\",\"linecolor\":\"white\",\"minorgridcolor\":\"white\",\"startlinecolor\":\"#2a3f5f\"},\"baxis\":{\"endlinecolor\":\"#2a3f5f\",\"gridcolor\":\"white\",\"linecolor\":\"white\",\"minorgridcolor\":\"white\",\"startlinecolor\":\"#2a3f5f\"},\"type\":\"carpet\"}],\"table\":[{\"cells\":{\"fill\":{\"color\":\"#EBF0F8\"},\"line\":{\"color\":\"white\"}},\"header\":{\"fill\":{\"color\":\"#C8D4E3\"},\"line\":{\"color\":\"white\"}},\"type\":\"table\"}],\"barpolar\":[{\"marker\":{\"line\":{\"color\":\"#E5ECF6\",\"width\":0.5},\"pattern\":{\"fillmode\":\"overlay\",\"size\":10,\"solidity\":0.2}},\"type\":\"barpolar\"}],\"pie\":[{\"automargin\":true,\"type\":\"pie\"}]},\"layout\":{\"autotypenumbers\":\"strict\",\"colorway\":[\"#636efa\",\"#EF553B\",\"#00cc96\",\"#ab63fa\",\"#FFA15A\",\"#19d3f3\",\"#FF6692\",\"#B6E880\",\"#FF97FF\",\"#FECB52\"],\"font\":{\"color\":\"#2a3f5f\"},\"hovermode\":\"closest\",\"hoverlabel\":{\"align\":\"left\"},\"paper_bgcolor\":\"white\",\"plot_bgcolor\":\"#E5ECF6\",\"polar\":{\"bgcolor\":\"#E5ECF6\",\"angularaxis\":{\"gridcolor\":\"white\",\"linecolor\":\"white\",\"ticks\":\"\"},\"radialaxis\":{\"gridcolor\":\"white\",\"linecolor\":\"white\",\"ticks\":\"\"}},\"ternary\":{\"bgcolor\":\"#E5ECF6\",\"aaxis\":{\"gridcolor\":\"white\",\"linecolor\":\"white\",\"ticks\":\"\"},\"baxis\":{\"gridcolor\":\"white\",\"linecolor\":\"white\",\"ticks\":\"\"},\"caxis\":{\"gridcolor\":\"white\",\"linecolor\":\"white\",\"ticks\":\"\"}},\"coloraxis\":{\"colorbar\":{\"outlinewidth\":0,\"ticks\":\"\"}},\"colorscale\":{\"sequential\":[[0.0,\"#0d0887\"],[0.1111111111111111,\"#46039f\"],[0.2222222222222222,\"#7201a8\"],[0.3333333333333333,\"#9c179e\"],[0.4444444444444444,\"#bd3786\"],[0.5555555555555556,\"#d8576b\"],[0.6666666666666666,\"#ed7953\"],[0.7777777777777778,\"#fb9f3a\"],[0.8888888888888888,\"#fdca26\"],[1.0,\"#f0f921\"]],\"sequentialminus\":[[0.0,\"#0d0887\"],[0.1111111111111111,\"#46039f\"],[0.2222222222222222,\"#7201a8\"],[0.3333333333333333,\"#9c179e\"],[0.4444444444444444,\"#bd3786\"],[0.5555555555555556,\"#d8576b\"],[0.6666666666666666,\"#ed7953\"],[0.7777777777777778,\"#fb9f3a\"],[0.8888888888888888,\"#fdca26\"],[1.0,\"#f0f921\"]],\"diverging\":[[0,\"#8e0152\"],[0.1,\"#c51b7d\"],[0.2,\"#de77ae\"],[0.3,\"#f1b6da\"],[0.4,\"#fde0ef\"],[0.5,\"#f7f7f7\"],[0.6,\"#e6f5d0\"],[0.7,\"#b8e186\"],[0.8,\"#7fbc41\"],[0.9,\"#4d9221\"],[1,\"#276419\"]]},\"xaxis\":{\"gridcolor\":\"white\",\"linecolor\":\"white\",\"ticks\":\"\",\"title\":{\"standoff\":15},\"zerolinecolor\":\"white\",\"automargin\":true,\"zerolinewidth\":2},\"yaxis\":{\"gridcolor\":\"white\",\"linecolor\":\"white\",\"ticks\":\"\",\"title\":{\"standoff\":15},\"zerolinecolor\":\"white\",\"automargin\":true,\"zerolinewidth\":2},\"scene\":{\"xaxis\":{\"backgroundcolor\":\"#E5ECF6\",\"gridcolor\":\"white\",\"linecolor\":\"white\",\"showbackground\":true,\"ticks\":\"\",\"zerolinecolor\":\"white\",\"gridwidth\":2},\"yaxis\":{\"backgroundcolor\":\"#E5ECF6\",\"gridcolor\":\"white\",\"linecolor\":\"white\",\"showbackground\":true,\"ticks\":\"\",\"zerolinecolor\":\"white\",\"gridwidth\":2},\"zaxis\":{\"backgroundcolor\":\"#E5ECF6\",\"gridcolor\":\"white\",\"linecolor\":\"white\",\"showbackground\":true,\"ticks\":\"\",\"zerolinecolor\":\"white\",\"gridwidth\":2}},\"shapedefaults\":{\"line\":{\"color\":\"#2a3f5f\"}},\"annotationdefaults\":{\"arrowcolor\":\"#2a3f5f\",\"arrowhead\":0,\"arrowwidth\":1},\"geo\":{\"bgcolor\":\"white\",\"landcolor\":\"#E5ECF6\",\"subunitcolor\":\"white\",\"showland\":true,\"showlakes\":true,\"lakecolor\":\"white\"},\"title\":{\"x\":0.05},\"mapbox\":{\"style\":\"light\"}}},\"legend\":{\"tracegroupgap\":0},\"margin\":{\"t\":60}},                        {\"responsive\": true}                    ).then(function(){\n",
       "                            \n",
       "var gd = document.getElementById('d4b43b76-d50d-4000-92bf-6ff10a1ae865');\n",
       "var x = new MutationObserver(function (mutations, observer) {{\n",
       "        var display = window.getComputedStyle(gd).display;\n",
       "        if (!display || display === 'none') {{\n",
       "            console.log([gd, 'removed!']);\n",
       "            Plotly.purge(gd);\n",
       "            observer.disconnect();\n",
       "        }}\n",
       "}});\n",
       "\n",
       "// Listen for the removal of the full notebook cells\n",
       "var notebookContainer = gd.closest('#notebook-container');\n",
       "if (notebookContainer) {{\n",
       "    x.observe(notebookContainer, {childList: true});\n",
       "}}\n",
       "\n",
       "// Listen for the clearing of the current output cell\n",
       "var outputEl = gd.closest('.output');\n",
       "if (outputEl) {{\n",
       "    x.observe(outputEl, {childList: true});\n",
       "}}\n",
       "\n",
       "                        })                };                });            </script>        </div>"
      ]
     },
     "metadata": {},
     "output_type": "display_data"
    }
   ],
   "source": [
    "out"
   ]
  },
  {
   "cell_type": "code",
   "execution_count": null,
   "id": "fd2819ba",
   "metadata": {},
   "outputs": [],
   "source": []
  },
  {
   "cell_type": "code",
   "execution_count": 300,
   "id": "8ff74501",
   "metadata": {},
   "outputs": [
    {
     "data": {
      "text/html": [
       "<div>\n",
       "<style scoped>\n",
       "    .dataframe tbody tr th:only-of-type {\n",
       "        vertical-align: middle;\n",
       "    }\n",
       "\n",
       "    .dataframe tbody tr th {\n",
       "        vertical-align: top;\n",
       "    }\n",
       "\n",
       "    .dataframe thead th {\n",
       "        text-align: right;\n",
       "    }\n",
       "</style>\n",
       "<table border=\"1\" class=\"dataframe\">\n",
       "  <thead>\n",
       "    <tr style=\"text-align: right;\">\n",
       "      <th></th>\n",
       "      <th></th>\n",
       "      <th>count</th>\n",
       "    </tr>\n",
       "    <tr>\n",
       "      <th>Employment</th>\n",
       "      <th>MainBranch</th>\n",
       "      <th></th>\n",
       "    </tr>\n",
       "  </thead>\n",
       "  <tbody>\n",
       "    <tr>\n",
       "      <th rowspan=\"5\" valign=\"top\">Employed, full-time</th>\n",
       "      <th>I am a developer by profession</th>\n",
       "      <td>44171</td>\n",
       "    </tr>\n",
       "    <tr>\n",
       "      <th>I am not primarily a developer, but I write code sometimes as part of my work/studies</th>\n",
       "      <td>3712</td>\n",
       "    </tr>\n",
       "    <tr>\n",
       "      <th>I used to be a developer by profession, but no longer am</th>\n",
       "      <td>766</td>\n",
       "    </tr>\n",
       "    <tr>\n",
       "      <th>I am learning to code</th>\n",
       "      <td>304</td>\n",
       "    </tr>\n",
       "    <tr>\n",
       "      <th>I code primarily as a hobby</th>\n",
       "      <td>255</td>\n",
       "    </tr>\n",
       "    <tr>\n",
       "      <th>...</th>\n",
       "      <th>...</th>\n",
       "      <td>...</td>\n",
       "    </tr>\n",
       "    <tr>\n",
       "      <th>Student, part-time;Not employed, and not looking for work</th>\n",
       "      <th>I am a developer by profession</th>\n",
       "      <td>1</td>\n",
       "    </tr>\n",
       "    <tr>\n",
       "      <th rowspan=\"4\" valign=\"top\">none</th>\n",
       "      <th>I am a developer by profession</th>\n",
       "      <td>19</td>\n",
       "    </tr>\n",
       "    <tr>\n",
       "      <th>I am learning to code</th>\n",
       "      <td>2</td>\n",
       "    </tr>\n",
       "    <tr>\n",
       "      <th>I code primarily as a hobby</th>\n",
       "      <td>2</td>\n",
       "    </tr>\n",
       "    <tr>\n",
       "      <th>I am not primarily a developer, but I write code sometimes as part of my work/studies</th>\n",
       "      <td>1</td>\n",
       "    </tr>\n",
       "  </tbody>\n",
       "</table>\n",
       "<p>275 rows × 1 columns</p>\n",
       "</div>"
      ],
      "text/plain": [
       "                                                                                                       count\n",
       "Employment                                         MainBranch                                               \n",
       "Employed, full-time                                I am a developer by profession                      44171\n",
       "                                                   I am not primarily a developer, but I write cod...   3712\n",
       "                                                   I used to be a developer by profession, but no ...    766\n",
       "                                                   I am learning to code                                 304\n",
       "                                                   I code primarily as a hobby                           255\n",
       "...                                                                                                      ...\n",
       "Student, part-time;Not employed, and not lookin... I am a developer by profession                          1\n",
       "none                                               I am a developer by profession                         19\n",
       "                                                   I am learning to code                                   2\n",
       "                                                   I code primarily as a hobby                             2\n",
       "                                                   I am not primarily a developer, but I write cod...      1\n",
       "\n",
       "[275 rows x 1 columns]"
      ]
     },
     "execution_count": 300,
     "metadata": {},
     "output_type": "execute_result"
    }
   ],
   "source": [
    "\n",
    "pd.DataFrame(d.groupby('Employment')['MainBranch'].value_counts())"
   ]
  },
  {
   "cell_type": "markdown",
   "id": "ca2e5522",
   "metadata": {},
   "source": [
    "## Almost all the data are categorical, \n",
    "## So we will plot barchart for the categorical data and line graph for the continous variable"
   ]
  },
  {
   "cell_type": "code",
   "execution_count": null,
   "id": "63153dcf",
   "metadata": {},
   "outputs": [],
   "source": []
  },
  {
   "cell_type": "code",
   "execution_count": null,
   "id": "1ccbf313",
   "metadata": {},
   "outputs": [],
   "source": [
    "## let's create a streamlit dashboard with the functions we have created."
   ]
  }
 ],
 "metadata": {
  "kernelspec": {
   "display_name": "Python 3 (ipykernel)",
   "language": "python",
   "name": "python3"
  },
  "language_info": {
   "codemirror_mode": {
    "name": "ipython",
    "version": 3
   },
   "file_extension": ".py",
   "mimetype": "text/x-python",
   "name": "python",
   "nbconvert_exporter": "python",
   "pygments_lexer": "ipython3",
   "version": "3.11.5"
  }
 },
 "nbformat": 4,
 "nbformat_minor": 5
}
